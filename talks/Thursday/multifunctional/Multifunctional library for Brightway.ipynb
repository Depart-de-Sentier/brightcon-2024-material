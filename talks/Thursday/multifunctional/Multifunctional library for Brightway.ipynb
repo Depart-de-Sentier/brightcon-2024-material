{
 "cells": [
  {
   "cell_type": "markdown",
   "id": "1972db82-0151-4c3b-b8cd-244b12d228bc",
   "metadata": {},
   "source": [
    "# `multifunctional`\n",
    "\n",
    "`multifunctional` is a library for handling multifunctional activities in the Brightway LCA software framework."
   ]
  },
  {
   "cell_type": "code",
   "execution_count": 2,
   "id": "39b4c3f9-7837-4d24-a592-3e1b253b7866",
   "metadata": {},
   "outputs": [
    {
     "name": "stderr",
     "output_type": "stream",
     "text": [
      "/Users/cmutel/Code/Brightway/brightway2-calc/bw2calc/__init__.py:45: UserWarning: \n",
      "It seems like you have an ARM architecture, but haven't installed scikit-umfpack:\n",
      "\n",
      "    https://pypi.org/project/scikit-umfpack/\n",
      "\n",
      "Installing it could give you much faster calculations.\n",
      "\n",
      "  warnings.warn(UMFPACK_WARNING)\n"
     ]
    }
   ],
   "source": [
    "import multifunctional as mf\n",
    "import bw2data as bd\n",
    "import bw2io as bi\n",
    "import bw2calc as bc"
   ]
  },
  {
   "cell_type": "code",
   "execution_count": 3,
   "id": "7a09e1f0-c936-4d0a-a7ca-54d7b73cf2f9",
   "metadata": {},
   "outputs": [
    {
     "name": "stdout",
     "output_type": "stream",
     "text": [
      "Restoring project backup archive - this could take a few minutes...\n",
      "Restored project: multifunctional demo\n"
     ]
    },
    {
     "data": {
      "text/plain": [
       "'multifunctional demo'"
      ]
     },
     "execution_count": 3,
     "metadata": {},
     "output_type": "execute_result"
    }
   ],
   "source": [
    "bi.remote.install_project(\n",
    "    'ecoinvent-3.10-biosphere', \n",
    "    project_name=\"multifunctional demo\", \n",
    "    overwrite_existing=True\n",
    ")"
   ]
  },
  {
   "cell_type": "code",
   "execution_count": 4,
   "id": "f1098c41-1c02-4003-94e5-0f7614f808a4",
   "metadata": {},
   "outputs": [
    {
     "name": "stdout",
     "output_type": "stream",
     "text": [
      "Applying automatic update: 4.0 database search directories\n",
      "Reindexing database ecoinvent-3.10-biosphere\n"
     ]
    }
   ],
   "source": [
    "bd.projects.set_current(\"multifunctional demo\")"
   ]
  },
  {
   "cell_type": "code",
   "execution_count": 5,
   "id": "456e466f-8170-456d-843e-1768ecef0b6c",
   "metadata": {},
   "outputs": [
    {
     "name": "stderr",
     "output_type": "stream",
     "text": [
      "/Users/cmutel/Code/Brightway/brightway2-data/bw2data/utils.py:377: UserWarning: Given search criteria very broad; try to specify at least a database\n",
      "  warnings.warn(\"Given search criteria very broad; try to specify at least a database\")\n"
     ]
    }
   ],
   "source": [
    "co2 = bd.get_node(\n",
    "    name='Carbon dioxide, fossil',\n",
    "    categories=('air', 'non-urban air or from high stacks'),\n",
    ")"
   ]
  },
  {
   "cell_type": "code",
   "execution_count": 6,
   "id": "6548534b-a091-4481-ae27-5672e1b3a8cb",
   "metadata": {},
   "outputs": [],
   "source": [
    "mf_db = mf.MultifunctionalDatabase(\"emojis FTW\")\n",
    "mf_db.register(default_allocation=\"price\")"
   ]
  },
  {
   "cell_type": "code",
   "execution_count": 7,
   "id": "45590748-356e-4705-837b-eb9e2aa72230",
   "metadata": {},
   "outputs": [],
   "source": [
    "mf_data = {\n",
    "    (\"emojis FTW\", \"😼\"): {\n",
    "        \"type\": \"product\",\n",
    "        \"name\": \"meow\",\n",
    "        \"unit\": \"kg\",\n",
    "    },\n",
    "    (\"emojis FTW\", \"🐶\"): {\n",
    "        \"type\": \"product\",\n",
    "        \"name\": \"woof\",\n",
    "        \"unit\": \"kg\",\n",
    "    },\n",
    "    (\"emojis FTW\", \"1\"): {\n",
    "        \"name\": \"process - 1\",\n",
    "        \"location\": \"somewhere\",\n",
    "        \"exchanges\": [\n",
    "            {\n",
    "                \"functional\": True,\n",
    "                \"type\": \"production\",\n",
    "                \"input\": (\"emojis FTW\", \"😼\"),\n",
    "                \"amount\": 4,\n",
    "                \"properties\": {\n",
    "                    \"price\": 7,\n",
    "                    \"mass\": 6,\n",
    "                },\n",
    "            },\n",
    "            {\n",
    "                \"functional\": True,\n",
    "                \"type\": \"production\",\n",
    "                \"input\": (\"emojis FTW\", \"🐶\"),\n",
    "                \"amount\": 6,\n",
    "                \"properties\": {\n",
    "                    \"price\": 12,\n",
    "                    \"mass\": 4,\n",
    "                },\n",
    "            },\n",
    "            {\n",
    "                \"functional\": False,\n",
    "                \"type\": \"biosphere\",\n",
    "                \"input\": co2.key,\n",
    "                \"amount\": 100\n",
    "            }\n",
    "        ],\n",
    "    }\n",
    "}"
   ]
  },
  {
   "cell_type": "code",
   "execution_count": 8,
   "id": "c15701a4-04f2-4e76-bc4b-4216aa47ef87",
   "metadata": {},
   "outputs": [
    {
     "name": "stderr",
     "output_type": "stream",
     "text": [
      "100%|███████████████████████████████████████████| 3/3 [00:00<00:00, 5067.62it/s]"
     ]
    },
    {
     "name": "stdout",
     "output_type": "stream",
     "text": [
      "Vacuuming database \n"
     ]
    },
    {
     "name": "stderr",
     "output_type": "stream",
     "text": [
      "\n"
     ]
    }
   ],
   "source": [
    "mf_db.write(mf_data)"
   ]
  },
  {
   "cell_type": "code",
   "execution_count": 9,
   "id": "db2aa9b7-7e18-4979-8e3a-0a7ce5db5800",
   "metadata": {},
   "outputs": [
    {
     "name": "stdout",
     "output_type": "stream",
     "text": [
      "'woof' (kg, None, None) 4364\n",
      "Multifunctional: 'process - 1' (None, somewhere, None) 4365\n",
      "\t Exchange: 4 kg 'meow' (kg, None, None) to Multifunctional: 'process - 1' (None, somewhere, None)>\n",
      "\t Exchange: 6 kg 'woof' (kg, None, None) to Multifunctional: 'process - 1' (None, somewhere, None)>\n",
      "\t Exchange: 100 kilogram 'Carbon dioxide, fossil' (kilogram, None, ('air', 'non-urban air or from high stacks')) to Multifunctional: 'process - 1' (None, somewhere, None)>\n",
      "'meow' (kg, None, None) 4363\n",
      "Read-only allocated process: 'process - 1' (kg, somewhere, None) 4366\n",
      "\t Exchange: 4 kg 'meow' (kg, None, None) to Read-only allocated process: 'process - 1' (kg, somewhere, None)>\n",
      "\t Exchange: 28.000000000000004 kilogram 'Carbon dioxide, fossil' (kilogram, None, ('air', 'non-urban air or from high stacks')) to Read-only allocated process: 'process - 1' (kg, somewhere, None)>\n",
      "Read-only allocated process: 'process - 1' (kg, somewhere, None) 4367\n",
      "\t Exchange: 6 kg 'woof' (kg, None, None) to Read-only allocated process: 'process - 1' (kg, somewhere, None)>\n",
      "\t Exchange: 72.0 kilogram 'Carbon dioxide, fossil' (kilogram, None, ('air', 'non-urban air or from high stacks')) to Read-only allocated process: 'process - 1' (kg, somewhere, None)>\n"
     ]
    }
   ],
   "source": [
    "for node in mf_db:\n",
    "    print(node, node.id)\n",
    "    for edge in node.edges():\n",
    "        print(\"\\t\", edge)"
   ]
  },
  {
   "cell_type": "code",
   "execution_count": 10,
   "id": "4381474d-5a4c-4fc6-bb7b-7c3848f17554",
   "metadata": {},
   "outputs": [],
   "source": [
    "IPCC = (\n",
    "    'IPCC 2021',\n",
    "    'climate change',\n",
    "    'global temperature change potential (GTP100)'\n",
    ")"
   ]
  },
  {
   "cell_type": "code",
   "execution_count": 11,
   "id": "cc437dc5-60d8-4f6f-8440-ccdc71958841",
   "metadata": {},
   "outputs": [
    {
     "data": {
      "text/plain": [
       "21.987000000000002"
      ]
     },
     "execution_count": 11,
     "metadata": {},
     "output_type": "execute_result"
    }
   ],
   "source": [
    "lca = bc.LCA({bd.get_node(name=\"meow\"): 3.141}, IPCC)\n",
    "lca.lci()\n",
    "lca.lcia()\n",
    "lca.score"
   ]
  },
  {
   "cell_type": "code",
   "execution_count": 14,
   "id": "21c1b412-6d24-43a6-be6e-180196b7803a",
   "metadata": {},
   "outputs": [],
   "source": [
    "mf_db.metadata[\"default_allocation\"] = \"mass\"\n",
    "mf_db.process()"
   ]
  },
  {
   "cell_type": "code",
   "execution_count": 15,
   "id": "b5ce0dbf-2b42-4fef-b970-07d786e550a9",
   "metadata": {},
   "outputs": [
    {
     "data": {
      "text/plain": [
       "39.2625"
      ]
     },
     "execution_count": 15,
     "metadata": {},
     "output_type": "execute_result"
    }
   ],
   "source": [
    "lca = bc.LCA({bd.get_node(name=\"meow\"): 3.141}, IPCC)\n",
    "lca.lci()\n",
    "lca.lcia()\n",
    "lca.score"
   ]
  },
  {
   "cell_type": "markdown",
   "id": "e47213c6-870b-4042-a89c-9d6473b17e40",
   "metadata": {},
   "source": [
    "# Custom allocation based on new properties\n",
    "\n",
    "You need to tell the system to create a function for each new property"
   ]
  },
  {
   "cell_type": "code",
   "execution_count": 17,
   "id": "8ee82953-9105-4390-bfd8-e9c942f34f23",
   "metadata": {},
   "outputs": [],
   "source": [
    "mf.allocation_strategies['happiness'] = mf.property_allocation(property_label='😊')"
   ]
  },
  {
   "cell_type": "code",
   "execution_count": 19,
   "id": "ed9f5473-c5b5-4368-8fc5-2209deb62a0e",
   "metadata": {},
   "outputs": [
    {
     "name": "stderr",
     "output_type": "stream",
     "text": [
      "100%|██████████████████████████████████████████| 3/3 [00:00<00:00, 16299.11it/s]"
     ]
    },
    {
     "name": "stdout",
     "output_type": "stream",
     "text": [
      "Vacuuming database \n"
     ]
    },
    {
     "name": "stderr",
     "output_type": "stream",
     "text": [
      "\n"
     ]
    }
   ],
   "source": [
    "happy = {\n",
    "    (\"emojis FTW\", \"😼\"): {\n",
    "        \"type\": \"product\",\n",
    "        \"name\": \"meow\",\n",
    "        \"unit\": \"kg\",\n",
    "    },\n",
    "    (\"emojis FTW\", \"🐶\"): {\n",
    "        \"type\": \"product\",\n",
    "        \"name\": \"woof\",\n",
    "        \"unit\": \"kg\",\n",
    "    },\n",
    "    (\"emojis FTW\", \"1\"): {\n",
    "        \"name\": \"process - 1\",\n",
    "        \"location\": \"somewhere\",\n",
    "        \"exchanges\": [\n",
    "            {\n",
    "                \"functional\": True,\n",
    "                \"type\": \"production\",\n",
    "                \"input\": (\"emojis FTW\", \"😼\"),\n",
    "                \"amount\": 4,\n",
    "                \"properties\": {\n",
    "                    \"price\": 7,\n",
    "                    \"mass\": 6,\n",
    "                    \"😊\": 10,\n",
    "                },\n",
    "            },\n",
    "            {\n",
    "                \"functional\": True,\n",
    "                \"type\": \"production\",\n",
    "                \"input\": (\"emojis FTW\", \"🐶\"),\n",
    "                \"amount\": 6,\n",
    "                \"properties\": {\n",
    "                    \"price\": 12,\n",
    "                    \"mass\": 4,\n",
    "                },\n",
    "            },\n",
    "            {\n",
    "                \"functional\": False,\n",
    "                \"type\": \"biosphere\",\n",
    "                \"input\": co2.key,\n",
    "                \"amount\": 100\n",
    "            }\n",
    "        ],\n",
    "    }\n",
    "}\n",
    "mf_db.write(happy)"
   ]
  },
  {
   "cell_type": "markdown",
   "id": "9d578335-03b5-40d8-a4bc-a84ef6aeda45",
   "metadata": {},
   "source": [
    "We can check to make sure that the properties we want are available:"
   ]
  },
  {
   "cell_type": "code",
   "execution_count": 20,
   "id": "18de74f8-debe-4e79-86b3-5f494f8dc34e",
   "metadata": {},
   "outputs": [
    {
     "data": {
      "text/plain": [
       "[('price',\n",
       "  <MessageType.ALL_VALID: 'All properties found and have correct type'>),\n",
       " ('😊', <MessageType.MISSING_PROPERTY: 'Missing property'>),\n",
       " ('mass',\n",
       "  <MessageType.ALL_VALID: 'All properties found and have correct type'>)]"
      ]
     },
     "execution_count": 20,
     "metadata": {},
     "output_type": "execute_result"
    }
   ],
   "source": [
    "mf.list_available_properties(\"emojis FTW\")"
   ]
  },
  {
   "cell_type": "code",
   "execution_count": 21,
   "id": "92c19c7f-1e8c-4a64-bdca-fd008cec88af",
   "metadata": {},
   "outputs": [
    {
     "name": "stderr",
     "output_type": "stream",
     "text": [
      "100%|██████████████████████████████████████████| 3/3 [00:00<00:00, 17747.41it/s]"
     ]
    },
    {
     "name": "stdout",
     "output_type": "stream",
     "text": [
      "Vacuuming database \n"
     ]
    },
    {
     "name": "stderr",
     "output_type": "stream",
     "text": [
      "\n"
     ]
    }
   ],
   "source": [
    "happy_dog = {\n",
    "    (\"emojis FTW\", \"😼\"): {\n",
    "        \"type\": \"product\",\n",
    "        \"name\": \"meow\",\n",
    "        \"unit\": \"kg\",\n",
    "    },\n",
    "    (\"emojis FTW\", \"🐶\"): {\n",
    "        \"type\": \"product\",\n",
    "        \"name\": \"woof\",\n",
    "        \"unit\": \"kg\",\n",
    "    },\n",
    "    (\"emojis FTW\", \"1\"): {\n",
    "        \"name\": \"process - 1\",\n",
    "        \"location\": \"somewhere\",\n",
    "        \"exchanges\": [\n",
    "            {\n",
    "                \"functional\": True,\n",
    "                \"type\": \"production\",\n",
    "                \"input\": (\"emojis FTW\", \"😼\"),\n",
    "                \"amount\": 4,\n",
    "                \"properties\": {\n",
    "                    \"price\": 7,\n",
    "                    \"mass\": 6,\n",
    "                    \"😊\": 2,\n",
    "                },\n",
    "            },\n",
    "            {\n",
    "                \"functional\": True,\n",
    "                \"type\": \"production\",\n",
    "                \"input\": (\"emojis FTW\", \"🐶\"),\n",
    "                \"amount\": 6,\n",
    "                \"properties\": {\n",
    "                    \"price\": 12,\n",
    "                    \"mass\": 4,\n",
    "                    \"😊\": 50,\n",
    "                },\n",
    "            },\n",
    "            {\n",
    "                \"functional\": False,\n",
    "                \"type\": \"biosphere\",\n",
    "                \"input\": co2.key,\n",
    "                \"amount\": 100\n",
    "            }\n",
    "        ],\n",
    "    }\n",
    "}\n",
    "mf_db.write(happy_dog)"
   ]
  },
  {
   "cell_type": "code",
   "execution_count": 24,
   "id": "ebf9481c-49bf-4f31-a233-4796d6f2e2b1",
   "metadata": {},
   "outputs": [],
   "source": [
    "mf_db.metadata[\"default_allocation\"] = \"happiness\"\n",
    "mf_db.process()"
   ]
  },
  {
   "cell_type": "code",
   "execution_count": 25,
   "id": "1e86839a-b89e-4455-b470-bb1a208bcff6",
   "metadata": {},
   "outputs": [
    {
     "data": {
      "text/plain": [
       "2.0396103701591493"
      ]
     },
     "execution_count": 25,
     "metadata": {},
     "output_type": "execute_result"
    }
   ],
   "source": [
    "lca = bc.LCA({bd.get_node(name=\"meow\"): 3.141}, IPCC)\n",
    "lca.lci()\n",
    "lca.lcia()\n",
    "lca.score"
   ]
  },
  {
   "cell_type": "markdown",
   "id": "bc4bbd28-0d3c-433b-be83-bb0f40d074c7",
   "metadata": {},
   "source": [
    "# Writing custom allocation functions"
   ]
  },
  {
   "cell_type": "code",
   "execution_count": 28,
   "id": "aad22d54-40c9-4989-83e6-1d465dd6ce98",
   "metadata": {},
   "outputs": [],
   "source": [
    "from functools import partial\n",
    "\n",
    "def allocation_factor(edge_data: dict, node: mf.MaybeMultifunctionalProcess) -> float:\n",
    "    \"\"\"Nonsensical allocation factor generation\"\"\"\n",
    "    if edge_data['input'] == ('emojis FTW', '😼'):\n",
    "        return 7\n",
    "    else:\n",
    "        return 17\n",
    "\n",
    "mf.allocation_strategies['silly'] = partial(\n",
    "    mf.generic_allocation,\n",
    "    func=allocation_factor,\n",
    "    strategy_label=\"something silly\"\n",
    ")"
   ]
  },
  {
   "cell_type": "code",
   "execution_count": 29,
   "id": "3f0222cb-f663-4262-b4a0-b302492d6322",
   "metadata": {},
   "outputs": [],
   "source": [
    "mf_db.metadata[\"default_allocation\"] = \"silly\"\n",
    "mf_db.process()"
   ]
  },
  {
   "cell_type": "code",
   "execution_count": 30,
   "id": "89026a27-cdd3-4bd7-a879-3e600fa111b4",
   "metadata": {},
   "outputs": [
    {
     "data": {
      "text/plain": [
       "22.903124500751495"
      ]
     },
     "execution_count": 30,
     "metadata": {},
     "output_type": "execute_result"
    }
   ],
   "source": [
    "lca = bc.LCA({bd.get_node(name=\"meow\"): 3.141}, IPCC)\n",
    "lca.lci()\n",
    "lca.lcia()\n",
    "lca.score"
   ]
  },
  {
   "cell_type": "code",
   "execution_count": null,
   "id": "a6e94b68-8f22-4aef-bdfd-f216459ebc6a",
   "metadata": {},
   "outputs": [],
   "source": []
  }
 ],
 "metadata": {
  "kernelspec": {
   "display_name": "Python 3 (ipykernel)",
   "language": "python",
   "name": "python3"
  },
  "language_info": {
   "codemirror_mode": {
    "name": "ipython",
    "version": 3
   },
   "file_extension": ".py",
   "mimetype": "text/x-python",
   "name": "python",
   "nbconvert_exporter": "python",
   "pygments_lexer": "ipython3",
   "version": "3.12.4"
  }
 },
 "nbformat": 4,
 "nbformat_minor": 5
}
