{
 "cells": [
  {
   "cell_type": "markdown",
   "metadata": {},
   "source": [
    "# Getting Started with `bw_timex`\n",
    "\n",
    "> [👉 Documentation](https://docs.brightway.dev/projects/bw-timex/en/latest/)\n",
    "\n",
    "Here's a rundown of the steps involved in a `TimexLCA`:\n",
    "\n",
    "<img src=\"img/method.svg\" style=\"width: 60%;\">"
   ]
  },
  {
   "cell_type": "markdown",
   "metadata": {
    "slideshow": {
     "slide_type": "slide"
    }
   },
   "source": [
    "Let's walk through steps 1-4 considering a very simple dummy system:\n",
    "\n",
    "![example static system model](img/example_static_system_model.svg)"
   ]
  },
  {
   "cell_type": "markdown",
   "metadata": {},
   "source": [
    "The production system above is our \"static system model\", which we now set up with brightway:"
   ]
  },
  {
   "cell_type": "code",
   "execution_count": null,
   "metadata": {
    "jupyter": {
     "source_hidden": true
    }
   },
   "outputs": [],
   "source": [
    "# Create static system model\n",
    "\n",
    "import bw2data as bd\n",
    "\n",
    "bd.projects.set_current(\"getting_started_with_timex\")\n",
    "\n",
    "bd.Database(\"biosphere\").write(\n",
    "    {\n",
    "        (\"biosphere\", \"CO2\"): {\n",
    "            \"type\": \"emission\",\n",
    "            \"name\": \"CO2\",\n",
    "        },\n",
    "    }\n",
    ")\n",
    "\n",
    "bd.Database(\"background_2020\").write(\n",
    "    {\n",
    "        (\"background_2020\", \"B\"): {\n",
    "            \"name\": \"B\",\n",
    "            \"location\": \"somewhere\",\n",
    "            \"reference product\": \"B\",\n",
    "            \"exchanges\": [\n",
    "                {\n",
    "                    \"amount\": 1,\n",
    "                    \"type\": \"production\",\n",
    "                    \"input\": (\"background_2020\", \"B\"),\n",
    "                },\n",
    "                {\n",
    "                    \"amount\": 11,\n",
    "                    \"type\": \"biosphere\",\n",
    "                    \"input\": (\"biosphere\", \"CO2\"),\n",
    "                },\n",
    "            ],\n",
    "        },\n",
    "    }\n",
    ")\n",
    "\n",
    "bd.Database(\"foreground\").write(\n",
    "    {\n",
    "        (\"foreground\", \"A\"): {\n",
    "            \"name\": \"A\",\n",
    "            \"location\": \"somewhere\",\n",
    "            \"reference product\": \"A\",\n",
    "            \"exchanges\": [\n",
    "                {\n",
    "                    \"amount\": 1,\n",
    "                    \"type\": \"production\",\n",
    "                    \"input\": (\"foreground\", \"A\"),\n",
    "                },\n",
    "                {\n",
    "                    \"amount\": 3,\n",
    "                    \"type\": \"technosphere\",\n",
    "                    \"input\": (\"background_2020\", \"B\"),\n",
    "                },\n",
    "                {\n",
    "                    \"amount\": 5,\n",
    "                    \"type\": \"biosphere\",\n",
    "                    \"input\": (\"biosphere\", \"CO2\"),\n",
    "                }\n",
    "            ],\n",
    "        },\n",
    "    }\n",
    ")\n",
    "\n",
    "bd.Method((\"our\", \"method\")).write(\n",
    "    [\n",
    "        ((\"biosphere\", \"CO2\"), 1),\n",
    "    ]\n",
    ")"
   ]
  },
  {
   "cell_type": "markdown",
   "metadata": {},
   "source": [
    "We also need a prospective database. Let's say our original background system represents the year 2020, where process B emitts 11 kg CO2. By 2030, process B only emitts 7 kg CO2. We write this new process to a separate database:"
   ]
  },
  {
   "cell_type": "code",
   "execution_count": null,
   "metadata": {
    "jupyter": {
     "source_hidden": true
    }
   },
   "outputs": [],
   "source": [
    "# Write prospective database for 2030\n",
    "\n",
    "bd.Database(\"background_2030\").write(\n",
    "    {\n",
    "        (\"background_2030\", \"B\"): {\n",
    "            \"name\": \"B\",\n",
    "            \"location\": \"somewhere\",\n",
    "            \"reference product\": \"B\",\n",
    "            \"exchanges\": [\n",
    "                {\n",
    "                    \"amount\": 1,\n",
    "                    \"type\": \"production\",\n",
    "                    \"input\": (\"background_2030\", \"B\"),\n",
    "                },\n",
    "                {\n",
    "                    \"amount\": 7,\n",
    "                    \"type\": \"biosphere\",\n",
    "                    \"input\": (\"biosphere\", \"CO2\"),\n",
    "                },\n",
    "            ],\n",
    "        },\n",
    "    }\n",
    ")"
   ]
  },
  {
   "cell_type": "markdown",
   "metadata": {},
   "source": [
    "> **Note:** It does not matter where your prospective data comes from - you can also use [premise](https://premise.readthedocs.io/en/latest/introduction.html)."
   ]
  },
  {
   "cell_type": "markdown",
   "metadata": {},
   "source": [
    "To save the information which background database represents which year, we define a `database_date_dict`:"
   ]
  },
  {
   "cell_type": "code",
   "execution_count": null,
   "metadata": {},
   "outputs": [],
   "source": [
    "from datetime import datetime\n",
    "\n",
    "database_date_dict = {\n",
    "    \"background_2020\": datetime.strptime(\"2020\", \"%Y\"),\n",
    "    \"background_2030\": datetime.strptime(\"2030\", \"%Y\"),\n",
    "    \"foreground\": \"dynamic\", # no specific point in time, but should be \"distributed over time\"\n",
    "}"
   ]
  },
  {
   "cell_type": "markdown",
   "metadata": {},
   "source": [
    "## Step 1 - Adding temporal information"
   ]
  },
  {
   "cell_type": "markdown",
   "metadata": {},
   "source": [
    "Temporal information on the exchange level is carried by [`TemporalDistribution`](https://docs.brightway.dev/projects/bw-temporalis/en/stable/content/api/bw_temporalis/temporal_distribution/index.html#bw_temporalis.temporal_distribution.TemporalDistribution) objects, originally introduced by [`bw_temporalis`](https://github.com/brightway-lca/bw_temporalis). \n",
    "\n",
    "A `TemporalDistribution` tells you what share of an exchange (*amount array*) happens at what point in time (*dates array*). \n"
   ]
  },
  {
   "cell_type": "markdown",
   "metadata": {},
   "source": [
    "Making up some temporal information:\n",
    "\n",
    "![example temporalized system model](img/example_temporalized_system_model.svg)"
   ]
  },
  {
   "cell_type": "markdown",
   "metadata": {},
   "source": [
    "Pouring this into a `TemporalDistribution`:"
   ]
  },
  {
   "cell_type": "code",
   "execution_count": null,
   "metadata": {},
   "outputs": [],
   "source": [
    "import numpy as np\n",
    "from bw_temporalis import TemporalDistribution\n",
    "\n",
    "td_b_to_a = TemporalDistribution(\n",
    "    date=np.array([-2, 0, 4], dtype=\"timedelta64[Y]\"),\n",
    "    amount=np.array([0.3, 0.5, 0.2]),\n",
    ")"
   ]
  },
  {
   "cell_type": "markdown",
   "metadata": {},
   "source": [
    "Now we add this `TemporalDistribution` to the corresponding exchange:"
   ]
  },
  {
   "cell_type": "code",
   "execution_count": null,
   "metadata": {},
   "outputs": [],
   "source": [
    "from bw_timex.utils import add_temporal_distribution_to_exchange\n",
    "\n",
    "add_temporal_distribution_to_exchange(\n",
    "    temporal_distribution=td_b_to_a, \n",
    "    input_code=\"B\", \n",
    "    input_database=\"background_2020\",\n",
    "    output_code=\"A\",\n",
    "    output_database=\"foreground\"\n",
    ")"
   ]
  },
  {
   "cell_type": "markdown",
   "metadata": {},
   "source": [
    "The same for the exchange between A and CO2:"
   ]
  },
  {
   "cell_type": "code",
   "execution_count": null,
   "metadata": {
    "jupyter": {
     "source_hidden": true
    }
   },
   "outputs": [],
   "source": [
    "td_a_to_co2 = TemporalDistribution(\n",
    "    date=np.array([0, 1], dtype=\"timedelta64[Y]\"),\n",
    "    amount=np.array([0.6, 0.4]),\n",
    ")\n",
    "\n",
    "# We actually only have to define enough fields to uniquely identify the exchange here\n",
    "add_temporal_distribution_to_exchange(\n",
    "    temporal_distribution=td_a_to_co2, \n",
    "    input_code=\"CO2\", \n",
    "    output_code=\"A\"\n",
    ")"
   ]
  },
  {
   "cell_type": "markdown",
   "metadata": {},
   "source": [
    "## Step 2 - Building the process timeline \n",
    "\n",
    "Now we can instantiate a `TimexLCA` object - similarly to a normal Brightway LCA object, but with the additional argument of our `database_date_dict`.\n",
    "\n",
    "Our demand will be the product of process A:"
   ]
  },
  {
   "cell_type": "code",
   "execution_count": null,
   "metadata": {},
   "outputs": [],
   "source": [
    "from bw_timex import TimexLCA\n",
    "\n",
    "tlca = TimexLCA(\n",
    "    demand={(\"foreground\", \"A\"): 1},\n",
    "    method=(\"our\", \"method\"),\n",
    "    database_date_dict=database_date_dict,\n",
    ")"
   ]
  },
  {
   "cell_type": "markdown",
   "metadata": {},
   "source": [
    "Building the process timeline is very simple now. To define when the demand occurs, you can specify a `starting_datetime` (default is \"now\"):"
   ]
  },
  {
   "cell_type": "code",
   "execution_count": null,
   "metadata": {},
   "outputs": [],
   "source": [
    "tlca.build_timeline(starting_datetime=\"2024-01-01\")"
   ]
  },
  {
   "cell_type": "markdown",
   "metadata": {},
   "source": [
    "The timeline tells us which exchange happens at what time. \n",
    "\n",
    "Also, there is a column \"interpolation_weights\", already giving a hint on how the processes will be re-linked in the next step."
   ]
  },
  {
   "cell_type": "markdown",
   "metadata": {},
   "source": [
    "## Step 3 - Calculating the time-explicit LCI\n",
    "\n",
    "Calculating the time-explicit LCI from the timeline is very simple, at least from the user perspective:\n"
   ]
  },
  {
   "cell_type": "code",
   "execution_count": null,
   "metadata": {},
   "outputs": [],
   "source": [
    "tlca.lci()"
   ]
  },
  {
   "cell_type": "markdown",
   "metadata": {},
   "source": [
    "Under the hood, before solving the inventory problem, we're re-build the technosphere and biosphere matrices here. More specifically, we add new rows and columns to carry the extra temporal information. Details are explained in the [Theory Section](https://docs.brightway.dev/projects/bw-timex/en/latest/content/theory.html#modifying-the-matrices) of our docs."
   ]
  },
  {
   "cell_type": "markdown",
   "metadata": {},
   "source": [
    "## Step 4 - Impact assessment\n",
    "\n",
    "The impact assessment can be very simple now. To characterize the inventory with the impact assessment method that we initially chose when creating our `TimexLCA`, we can simply call:"
   ]
  },
  {
   "cell_type": "code",
   "execution_count": null,
   "metadata": {},
   "outputs": [],
   "source": [
    "tlca.static_lcia()\n",
    "tlca.static_score"
   ]
  },
  {
   "cell_type": "markdown",
   "metadata": {},
   "source": [
    "But there's more: Because a `TimexLCA` retains temporal information in the inventory, it also allows for dynamic characterization. To help with that, we created another package, simply called [`dynamic_characterization`](https://dynamic-characterization.readthedocs.io/en/latest/). This is not today's topic, but here's a quick demo:"
   ]
  },
  {
   "cell_type": "code",
   "execution_count": null,
   "metadata": {
    "jupyter": {
     "source_hidden": true
    }
   },
   "outputs": [],
   "source": [
    "from dynamic_characterization.ipcc_ar6 import characterize_co2 # <- dynamic characterization function\n",
    "emission_id = bd.get_activity((\"biosphere\", \"CO2\")).id\n",
    "\n",
    "# defining which characterization function to use for which emission\n",
    "characterization_function_dict = {\n",
    "    emission_id: characterize_co2,\n",
    "}\n",
    "\n",
    "# characterizing the inventory\n",
    "tlca.dynamic_lcia(\n",
    "    metric=\"radiative_forcing\",\n",
    "    time_horizon=100,\n",
    "    characterization_function_dict=characterization_function_dict,\n",
    ")\n",
    "\n",
    "tlca.plot_dynamic_characterized_inventory()"
   ]
  },
  {
   "cell_type": "code",
   "execution_count": null,
   "metadata": {},
   "outputs": [],
   "source": [
    "from bw_timex.utils import plot_characterized_inventory_as_waterfall\n",
    "\n",
    "tlca.dynamic_lcia(\n",
    "    metric=\"GWP\",\n",
    "    time_horizon=100,\n",
    "    characterization_function_dict=characterization_function_dict,\n",
    ")\n",
    "\n",
    "plot_characterized_inventory_as_waterfall(tlca)\n"
   ]
  },
  {
   "cell_type": "markdown",
   "metadata": {},
   "source": [
    "## Quick Recap\n",
    "This might have seemed quite lengthy now. But essentially, calculating a `TimexLCA` is just this:"
   ]
  },
  {
   "cell_type": "code",
   "execution_count": null,
   "metadata": {},
   "outputs": [],
   "source": [
    "tlca = TimexLCA(\n",
    "    demand={(\"foreground\", \"A\"): 1},\n",
    "    method=(\"our\", \"method\"),\n",
    "    database_date_dict=database_date_dict,\n",
    ")\n",
    "tlca.build_timeline(starting_datetime=\"2024-01-01\")\n",
    "tlca.lci()\n",
    "tlca.static_lcia()\n",
    "tlca.static_score"
   ]
  },
  {
   "cell_type": "markdown",
   "metadata": {},
   "source": [
    "For most of the functions we used here, there are numerous optional arguments and settings you can tweak. We explore some of them in our other [Examples](https://docs.brightway.dev/projects/bw-timex/en/latest/content/examples/index.html), but when in doubt: Our code is pretty well documented, see our [API Reference](https://docs.brightway.dev/projects/bw-timex/en/latest/content/api/index.html) - so please browse through that as needed ☀️"
   ]
  }
 ],
 "metadata": {
  "kernelspec": {
   "display_name": "Python [conda env:bwtimex]",
   "language": "python",
   "name": "conda-env-bwtimex-py"
  },
  "language_info": {
   "codemirror_mode": {
    "name": "ipython",
    "version": 3
   },
   "file_extension": ".py",
   "mimetype": "text/x-python",
   "name": "python",
   "nbconvert_exporter": "python",
   "pygments_lexer": "ipython3",
   "version": "3.10.14"
  }
 },
 "nbformat": 4,
 "nbformat_minor": 4
}
