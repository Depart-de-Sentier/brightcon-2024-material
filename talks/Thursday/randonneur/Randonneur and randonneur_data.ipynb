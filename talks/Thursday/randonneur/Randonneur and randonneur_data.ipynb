{
 "cells": [
  {
   "cell_type": "markdown",
   "id": "427176d2-b64a-4139-a879-528646fc632a",
   "metadata": {},
   "source": [
    "<img src=\"images/randonneur.png\">\n",
    "\n",
    "Randonneur is a library to make changes to life cycle inventory databases. Specifically, randonneur provides the following:\n",
    "\n",
    "* A standard data format for specifying life cycle inventory data transformations\n",
    "* A reference implementation for applying these changes\n",
    "* A reference implementation for writing files following the standard\n",
    "\n",
    "Although designed to work with Brightway, this library is not Brightway-specific.\n",
    "\n",
    "Here's a basic example:"
   ]
  },
  {
   "cell_type": "code",
   "execution_count": null,
   "id": "af054aa9-4d16-4574-8145-03c99a7f9d67",
   "metadata": {},
   "outputs": [],
   "source": [
    "import randonneur as rn"
   ]
  },
  {
   "cell_type": "code",
   "execution_count": null,
   "id": "5c9cd5cb-e6bc-492e-b738-1cf653c80ed7",
   "metadata": {},
   "outputs": [],
   "source": [
    "my_lci = [{\n",
    "    'name': \"my process\",\n",
    "    'edges': [{\n",
    "        'name': 'Xylene {RER}| xylene production | Cut-off, U',\n",
    "        'amount': 1.0\n",
    "    }]\n",
    "}]"
   ]
  },
  {
   "cell_type": "code",
   "execution_count": null,
   "id": "4066afbe-e21e-4281-ac1f-38f05d84da7b",
   "metadata": {},
   "outputs": [],
   "source": [
    "transformed = rn.migrate_edges_with_stored_data(\n",
    "    my_lci,\n",
    "    'simapro-ecoinvent-3.9.1-cutoff',\n",
    "    config=rn.MigrationConfig(fields=['name'])\n",
    ")\n",
    "transformed"
   ]
  },
  {
   "cell_type": "code",
   "execution_count": null,
   "id": "f48349ca-2024-4771-aa63-624db89729e9",
   "metadata": {},
   "outputs": [],
   "source": [
    "rn.migrate_edges_with_stored_data(\n",
    "    transformed,\n",
    "    'ecoinvent-3.9.1-cutoff-ecoinvent-3.10-cutoff',\n",
    ")"
   ]
  },
  {
   "cell_type": "markdown",
   "id": "07937a01-f762-4a0b-b911-ee14c48ebeaf",
   "metadata": {},
   "source": [
    "## Data schema\n",
    "\n",
    "Migration data is specified in a JSON file as a single dictionary. This file **must** include the following keys:\n",
    "\n",
    "* `name`: Follows the [data package specification](https://specs.frictionlessdata.io/data-package/#name).\n",
    "* `licenses`: Follows the [data package specification](https://specs.frictionlessdata.io/data-package/#licenses). Must be a list.\n",
    "* `version`: Follows the [data package specification](https://specs.frictionlessdata.io/data-package/#version). Must be a string.\n",
    "* `contributors`: Follows the [data package specification](https://specs.frictionlessdata.io/data-package/#contributors). Must be a list.\n",
    "* `mapping`: A dictionary mapping the labels used in the transformation to data accessors.\n",
    "* `graph_context`: A list with either the string 'nodes', 'edges', or both 'nodes' and 'edges'. This defines what kinds of objects in the graph should be transformed.\n",
    "\n",
    "We strongly recommend you provide the following optional attributes:\n",
    "\n",
    "* `source_id`: An identifier for the source dataset following the *common identifier standard*. Useful if the source data is specific.\n",
    "* `target_id`: An identifier for the target dataset following the *common identifier standard*. Useful if the target data is specific.\n",
    "\n",
    "## Common database release identifier standard\n",
    "\n",
    "At Brightcon 2022 we developed the following simple format for common database release identifiers:\n",
    "\n",
    "`<database name>-<version>-<optional modifier>`\n",
    "\n",
    "`database name` is usually lower case.\n",
    "\n",
    "Here are some examples:\n",
    "\n",
    "* `agribalyse-3.1.1`\n",
    "* `forwast-1`\n",
    "* `ecoinvent-3.10-cutoff`\n",
    "* `simapro-9-biosphere`\n",
    "\n",
    "## Additional Properties\n",
    "\n",
    "The following properties should follow the [data package specification](https://specs.frictionlessdata.io/data-package/) if provided:\n",
    "\n",
    "* `description`\n",
    "* `sources`\n",
    "* `homepage`\n",
    "* `created`\n",
    "\n",
    "## Change type\n",
    "\n",
    "Finally, at least one change type should be included. The change types are:\n",
    "\n",
    "* `create`\n",
    "* `replace`\n",
    "* `update`\n",
    "* `delete`\n",
    "* `disaggregate`\n"
   ]
  },
  {
   "cell_type": "markdown",
   "id": "5c949f39-60a4-486c-b5a6-9dfea7d1618e",
   "metadata": {},
   "source": [
    "Here is an example - migrating from one ecoinvent biosphere version to another:\n",
    "\n",
    "```json\n",
    "{\n",
    "  \"name\": \"ecoinvent-3.9.1-biosphere-ecoinvent-3.10-biosphere\",\n",
    "  \"description\": \"Data migration file from ecoinvent-3.9.1-biosphere to ecoinvent-3.10-biosphere generated with `ecoinvent_migrate` version 0.2.0\",\n",
    "  \"contributors\": [\n",
    "    {\n",
    "      \"title\": \"ecoinvent association\",\n",
    "      \"path\": \"https://ecoinvent.org/\",\n",
    "      \"role\": \"author\"\n",
    "    },\n",
    "    {\n",
    "      \"title\": \"Chris Mutel\",\n",
    "      \"path\": \"https://chris.mutel.org/\",\n",
    "      \"role\": \"wrangler\"\n",
    "    }\n",
    "  ],\n",
    "  \"created\": \"2024-07-24T11:38:11.144509+00:00\",\n",
    "  \"version\": \"2.0.0\",\n",
    "  \"licenses\": [\n",
    "    {\n",
    "      \"name\": \"CC-BY-4.0\",\n",
    "      \"path\": \"https://creativecommons.org/licenses/by/4.0/legalcode\",\n",
    "      \"title\": \"Creative Commons Attribution 4.0 International\"\n",
    "    }\n",
    "  ],\n",
    "  \"graph_context\": [\n",
    "    \"edges\"\n",
    "  ],\n",
    "  \"mapping\": {\n",
    "    \"source\": {\n",
    "      \"expression language\": \"XPath\",\n",
    "      \"labels\": {\n",
    "        \"name\": \"//*:elementaryExchange/*:name/text()\",\n",
    "        \"unit\": \"//*:elementaryExchange/*:unitName/text()\",\n",
    "        \"uuid\": \"//*:elementaryExchange/@elementaryExchangeId\"\n",
    "      }\n",
    "    },\n",
    "    \"target\": {\n",
    "      \"expression language\": \"XPath\",\n",
    "      \"labels\": {\n",
    "        \"name\": \"//*:elementaryExchange/*:name/text()\",\n",
    "        \"unit\": \"//*:elementaryExchange/*:unitName/text()\",\n",
    "        \"uuid\": \"//*:elementaryExchange/@elementaryExchangeId\"\n",
    "      }\n",
    "    }\n",
    "  },\n",
    "  \"source_id\": \"ecoinvent-3.9.1-biosphere\",\n",
    "  \"target_id\": \"ecoinvent-3.10-biosphere\",\n",
    "  \"homepage\": \"https://github.com/brightway-lca/ecoinvent_migrate\",\n",
    "  \"replace\": [\n",
    "    {\n",
    "      \"source\": {\n",
    "        \"uuid\": \"90a94ea5-bca4-483d-a591-2e886c0ff47f\",\n",
    "        \"name\": \"TiO2, 54% in ilmenite, 18% in crude ore\"\n",
    "      },\n",
    "      \"target\": {\n",
    "        \"uuid\": \"2f033407-6060-4e1e-868c-9f362d10fdb2\",\n",
    "        \"name\": \"Titanium\"\n",
    "      },\n",
    "      \"conversion_factor\": 0.599,\n",
    "      \"comment\": \"To be modelled as pure elements, the titanium content of titanium dioxide is 0.599.\"\n",
    "    }\n",
    "  ]\n",
    "}\n",
    "```"
   ]
  },
  {
   "cell_type": "markdown",
   "id": "0f823fa3-4bad-420e-827d-906606837183",
   "metadata": {},
   "source": [
    "## Theory\n",
    "\n",
    "In normal life cycle assessment practice, we work with a large variety of software and database applications, and often need to harmonize data across these heterogeneous systems. Because many of these systems do not commonly use simple and unique identifiers, we often need to link across systems based on data attibutes. For example, if the name, location, and unit of an input are the same in system `A` and `B`, then we can infer that these refer to the same underlying concept.\n",
    "\n",
    "In the real world it's not so simple. Each player in the LCA data world is trying to give their users a positive experience, but over time this has led to many different terms for the same concept. Some legacy systems restrictions also prevent complete imports, and cause data transformations that are difficult to reverse engineer.\n",
    "\n",
    "This library defines both a specification for transformation data files which allow different systems to be linked together by harmonizing the matching attributes, and a software-agnostic reference implementation of functions needed to use that format.\n",
    "\n",
    "Note that *not all verbs or graph object types* are currently supported by the reference implmentation.\n",
    "\n",
    "## Transformations\n",
    "\n",
    "> [!NOTE]\n",
    "> Transformations are serialized to JSON. Therefore, only [JSON data types](https://en.wikipedia.org/wiki/JSON) are supported."
   ]
  },
  {
   "cell_type": "markdown",
   "id": "0548f86a-5a17-4b52-89b6-4c231cc3e327",
   "metadata": {},
   "source": [
    "## Application\n",
    "\n",
    "In the reference implmenetation, all transformation operations can be configured via a `MigrationConfig` object. The following can be specified:\n",
    "\n",
    "`mapping`: Change the labels in the `migrations` data to match your data schema. `mapping` can\n",
    "change the labels in the migration `source` and `target` sections. The `mapping` input should be\n",
    "a dict with keys \"source\" and \"target\", and have values of `{old_label: new_label}` pairs:"
   ]
  },
  {
   "cell_type": "code",
   "execution_count": null,
   "id": "4f9e3005-2ac2-4a89-b357-d31ceebbf37a",
   "metadata": {},
   "outputs": [],
   "source": [
    "rn.migrate_edges(\n",
    "    graph=[{\"edges\": [{\"name\": \"foo\"}]}],\n",
    "    migrations={\"update\": [{\"source\": {\"not-name\": \"foo\"}, \"target\": {\"location\": \"bar\"}}]},\n",
    "    config=rn.MigrationConfig(mapping={\"source\": {\"not-name\": \"name\"}})\n",
    ")"
   ]
  },
  {
   "cell_type": "markdown",
   "id": "3c70c18c-b869-4d90-98e1-03318be01aa7",
   "metadata": {},
   "source": [
    "`node_filter`: A callable which determines whether or not the given node should be modified.\n",
    "Applies to both verbs and edges, with the exception of node creation - it doesn't make sense to\n",
    "filter existing nodes as we are creating new objects.\n",
    "\n",
    "`node_filter` needs to be a callable which takes a node object and returns a boolean which tells\n",
    "if the node *should* be modified. In this example, the filter returns `False` and the node isn't\n",
    "modified:"
   ]
  },
  {
   "cell_type": "code",
   "execution_count": null,
   "id": "a2bc3458-2514-4c7f-a4db-87e2c6a55fe2",
   "metadata": {},
   "outputs": [],
   "source": [
    "rn.migrate_edges(\n",
    "    graph=[{\"edges\": [{\"name\": \"foo\"}]}],\n",
    "    migrations={\"update\": [{\"source\": {\"name\": \"foo\"}, \"target\": {\"location\": \"bar\"}}]},\n",
    "    config=rn.MigrationConfig(node_filter=lambda node: node.get(\"sport\") == \"🏄‍♀️\")\n",
    ")"
   ]
  },
  {
   "cell_type": "markdown",
   "id": "5325627e-7b30-447a-adf3-366a9b4a8c38",
   "metadata": {},
   "source": [
    "`edge_filter`: A callable which determines whether or not the given edge should be modified.\n",
    "Applies only to edge transformations, and does *not* apply to edge creation, as this function is\n",
    "always called on the edge to modified, not on the transformation object.\n",
    "Returns\n",
    "\n",
    "`edge_filter` needs to be a callable which takes an edge object and returns a boolean which\n",
    "indicates if the edge *should* be modified.\n",
    "\n",
    "`fields`: A list of object keys as strings, used when checking if the given transformation\n",
    "matches the node or edge under consideration. In other words, only use the fields in `fields`\n",
    "when checking the `source` values in each transformation for a match. Each field in `fields`\n",
    "doesn't have to be in each transformation.\n",
    "\n",
    "If you changed labels in `mapping`, use the changed labels, not the original key labels."
   ]
  },
  {
   "cell_type": "code",
   "execution_count": null,
   "id": "07ea6cce-71d3-4911-b5e6-782777f9ebc1",
   "metadata": {},
   "outputs": [],
   "source": [
    "rn.migrate_edges(\n",
    "    graph=[{\"edges\": [{\"name\": \"foo\"}]}],\n",
    "    migrations={\"update\": [\n",
    "        {\"source\": {\"name\": \"foo\", \"missing\": \"🔍\"}, \"target\": {\"location\": \"bar\"}}\n",
    "    ]},\n",
    "    config=rn.MigrationConfig(fields=[\"name\"]),\n",
    ")"
   ]
  },
  {
   "cell_type": "markdown",
   "id": "14b0ba92-1fef-4ee2-96d5-0913807b8374",
   "metadata": {},
   "source": [
    "`verbose`: Display progress bars and more logging messages.\n",
    "\n",
    "`edges_label`: The label used for edges in the nodes of the `graph`. Defaults to \"edges\". In\n",
    "other data formats, this could be \"flows\" or \"exchanges\"."
   ]
  },
  {
   "cell_type": "code",
   "execution_count": null,
   "id": "c5730eb9-b8c6-4c93-8027-4d194e30f5f4",
   "metadata": {},
   "outputs": [],
   "source": [
    "rn.migrate_edges(\n",
    "    graph=[{\"e\": [{\"name\": \"foo\"}]}],\n",
    "    migrations={\"update\": [{\"source\": {\"name\": \"foo\"}, \"target\": {\"location\": \"bar\"}}]},\n",
    "    config=rn.MigrationConfig(edges_label=\"e\"),\n",
    ")"
   ]
  },
  {
   "cell_type": "markdown",
   "id": "fabf7f28-71a4-4d9c-b19f-32e37f8ada61",
   "metadata": {},
   "source": [
    "`verbs`: The list of transformation types from `migrations` to apply. Transformations are run\n",
    "in the order as given in `verbs`, and in some complicated cases you may want to keep the same\n",
    "verbs but change their order to get the desired output state. In general, such complicated\n",
    "transformations should be broken down to smaller discrete and independent transformations\n",
    "whenever possible, and logs checked carefully after their application.\n",
    "\n",
    "The default value of `verbs` are the \"safe\" transformations - replace, update, and disaggregate.\n",
    "To get create and delete you need to specify them in the configuration.\n",
    "\n",
    "Only the verbs `create`, `disaggregate`, `replace`, `update`, and `delete` are used in our\n",
    "functions, regardless of what is given in `verbs`, as we don't know how to handle custom verbs.\n",
    "We need to write custom functions for each verb as they have difference behaviour.\n",
    "\n",
    "`case_sensitive`: Flag indicating whether to do case sensitive matching of transformations to\n",
    "nodes or edges in the graph. Default is false, as practical experience has shown us that cases\n",
    "get commonly changed by software developers or users. Only applies to string values."
   ]
  },
  {
   "cell_type": "code",
   "execution_count": null,
   "id": "2a94fb50-3fb9-447d-8f0c-e1cbe957a272",
   "metadata": {},
   "outputs": [],
   "source": [
    "rn.migrate_edges(\n",
    "    graph=[{\"edges\": [{\"name\": \"foo\"}]}],\n",
    "    migrations={\"update\": [{\"source\": {\"name\": \"FOO\"}, \"target\": {\"location\": \"bar\"}}]},\n",
    "    config=rn.MigrationConfig(case_sensitive=False),\n",
    ")"
   ]
  },
  {
   "cell_type": "markdown",
   "id": "708797db-b721-42d4-a920-848bb7084192",
   "metadata": {},
   "source": [
    "`add_extra_attributes`: Flag indicating whether to include additional attributes when doing\n",
    "replace, update, and disaggregate changes. Extra attributes are defined outside the \"source\" and\n",
    "\"target\" transformation keys. Note that keys in `randonneur.utils.EXCLUDED_ATTRS` are never\n",
    "added."
   ]
  },
  {
   "cell_type": "code",
   "execution_count": null,
   "id": "717668ba-4a4f-4cd9-81fa-ff71344b4e73",
   "metadata": {},
   "outputs": [],
   "source": [
    "rn.migrate_edges(\n",
    "    graph=[{\"edges\": [{\"name\": \"foo\"}]}],\n",
    "    migrations={\"update\": [{\n",
    "        \"source\": {\"name\": \"FOO\"},\n",
    "        \"target\": {\"location\": \"bar\"},\n",
    "        \"comment\": \"Reason for change\",\n",
    "    }]},\n",
    "    config=rn.MigrationConfig(add_extra_attributes=True),\n",
    ")"
   ]
  },
  {
   "cell_type": "markdown",
   "id": "0c30ccaa-55f6-4a19-9fbc-ed40a12b7542",
   "metadata": {},
   "source": [
    "## Transformation verbs\n",
    "\n",
    "See the README documentation starting at: https://github.com/brightway-lca/randonneur?tab=readme-ov-file#replace-and-update"
   ]
  },
  {
   "cell_type": "markdown",
   "id": "50c869ea-1712-4b54-9d80-c90be7d466d2",
   "metadata": {},
   "source": [
    "## Package creation\n",
    "\n",
    "The randonneur class `randonneur.Datapackage` can be used to generate files which comply with the format standard. Class instantiation takes the following required arguments which are described above:\n",
    "\n",
    "* name: str\n",
    "* description: str\n",
    "* contributors: list \n",
    "\n",
    "The required attribute `mapping` is broken up into two inputs in this class:\n",
    "\n",
    "* mapping_source: dict\n",
    "* mapping_target: dict\n",
    "\n",
    "The following optional arguments have default values:\n",
    "\n",
    "* created: datetime.datetime.now(timezone.utc).isoformat()now()\n",
    "* version: \"1.0.0\",\n",
    "* licenses: rn.licenses.LICENSES[\"CC-BY-4.0\"]\n",
    "* graph_context: [\"edges\"]\n",
    "  \n",
    "`rn.licenses.LICENSES` is dictionary of selected [SPDX licenses](https://spdx.org/licenses/).\n",
    "\n",
    "The following optional arguments will be omitted from the datapackage if not provided:\n",
    "\n",
    "* source_id: Optional[str]\n",
    "* target_id: Optional[str]\n",
    "* homepage: Optional[str]\n",
    "\n",
    "Generating XPath or JsonPath mappings isn't easy; you can use the built-in values from `randonneur.MappingConstants` directly or as a guide to write your own:\n",
    "\n",
    "* randonneur.MappingConstants.SIMAPRO_CSV\n",
    "* randonneur.MappingConstants.ECOSPOLD2\n",
    "* randonneur.MappingConstants.ECOSPOLD1_BIO\n",
    "* randonneur.MappingConstants.ECOSPOLD2_BIO\n",
    "* randonneur.MappingConstants.ECOSPOLD2_BIO_FLOWMAPPER"
   ]
  },
  {
   "cell_type": "code",
   "execution_count": null,
   "id": "3baa6fcc-97d2-4bda-a442-f456b25a46cc",
   "metadata": {},
   "outputs": [],
   "source": [
    "rn.MappingConstants.ECOSPOLD2_BIO_FLOWMAPPER"
   ]
  },
  {
   "cell_type": "markdown",
   "id": "7d413b8e-084b-4d79-a531-056e85c0202d",
   "metadata": {},
   "source": [
    "Here's an example of `randonneur` datapackage creation:"
   ]
  },
  {
   "cell_type": "code",
   "execution_count": null,
   "id": "3520cdca-9e7b-4d84-b406-981cb0038592",
   "metadata": {},
   "outputs": [],
   "source": [
    "dp = rn.Datapackage(\n",
    "    name=\"ecoinvent-2.2-biosphere-context-ecoinvent-3.0-biosphere-context\",\n",
    "    description=\"Convert context (category and subcategory) labels from ecoinvent 2 to 3 standards\",\n",
    "    contributors=[\n",
    "        {\"title\": \"Chris Mutel\", \"path\": \"https://chris.mutel.org/\", \"role\": \"author\"},\n",
    "    ],\n",
    "    source_id=\"ecoinvent-2.2-biosphere\",\n",
    "    target_id=\"ecoinvent-3.0-biosphere\",\n",
    "    mapping_source=rn.MappingConstants.ECOSPOLD1_BIO,\n",
    "    mapping_target=rn.MappingConstants.ECOSPOLD2_BIO,\n",
    "    graph_context=[\"nodes\", \"edges\"],\n",
    ")"
   ]
  },
  {
   "cell_type": "markdown",
   "id": "43a2a0d1-0db3-426e-a42c-1974eef164e9",
   "metadata": {},
   "source": [
    "Data for each transformation verb should be added separately using `Datapackage.add_data(verb, data)`."
   ]
  },
  {
   "cell_type": "code",
   "execution_count": null,
   "id": "e12842cc-dd7e-4e27-8d7c-f62c7c72f439",
   "metadata": {},
   "outputs": [],
   "source": [
    "ECOSPOLD_2_3_BIOSPHERE = {\n",
    "    (\"resource\", \"in ground\"): (\"natural resource\", \"in ground\"),\n",
    "    (\"resource\", \"in air\"): (\"natural resource\", \"in air\"),\n",
    "    (\"resource\", \"in water\"): (\"natural resource\", \"in water\"),\n",
    "    (\"resource\", \"land\"): (\"natural resource\", \"land\"),\n",
    "    (\"resource\", \"biotic\"): (\"natural resource\", \"biotic\"),\n",
    "    (\"resource\",): (\"natural resource\",),\n",
    "    (\"air\", \"high population density\"): (\"air\", \"urban air close to ground\"),\n",
    "    (\"air\", \"low population density\"): (\"air\", \"non-urban air or from high stacks\"),\n",
    "    (\"water\", \"fossil-\"): (\"water\", \"ground-\"),\n",
    "    (\"water\", \"lake\"): (\"water\", \"surface water\"),\n",
    "    (\"water\", \"river\"): (\"water\", \"surface water\"),\n",
    "    (\"water\", \"river, long-term\"): (\"water\", \"surface water\"),\n",
    "}"
   ]
  },
  {
   "cell_type": "code",
   "execution_count": null,
   "id": "025f55bd-42ea-4052-af61-efbf6b39f2e9",
   "metadata": {},
   "outputs": [],
   "source": [
    "dp.add_data(\n",
    "    \"replace\", \n",
    "    [\n",
    "        {\"source\": {\"context\": k}, \"target\": {\"context\": v}} \n",
    "        for k, v in ECOSPOLD_2_3_BIOSPHERE.items()\n",
    "    ]\n",
    ")"
   ]
  },
  {
   "cell_type": "markdown",
   "id": "b927d98e-91c6-47a6-a97d-e04db7eb29c9",
   "metadata": {},
   "source": [
    "We do basic validation so that the data matches the given mapping:"
   ]
  },
  {
   "cell_type": "code",
   "execution_count": null,
   "id": "611dd94c-2a2e-4bf1-aa00-01f0fb1d1318",
   "metadata": {},
   "outputs": [],
   "source": [
    "dp.add_data(\n",
    "    \"replace\", \n",
    "    [\n",
    "        {\"source\": {\"missing\": k}, \"target\": {\"context\": v}} \n",
    "        for k, v in ECOSPOLD_2_3_BIOSPHERE.items()\n",
    "    ]\n",
    ")"
   ]
  },
  {
   "cell_type": "markdown",
   "id": "0fee2b79-69c4-4b6e-be63-fd4e028f26a6",
   "metadata": {},
   "source": [
    "Application of these files **in the Brightway context** is left for the session on the new SimaPro importer."
   ]
  },
  {
   "cell_type": "markdown",
   "id": "1f0092a4-0a2c-4626-b1d5-1edd04f25b66",
   "metadata": {},
   "source": [
    "# `randonneur_data`\n",
    "\n",
    "This \"library\" is just a registry of transformation files (large files are transparently compressed). You can also use it for custom registries on your local machine if you want."
   ]
  },
  {
   "cell_type": "code",
   "execution_count": null,
   "id": "57c6afea-033d-4396-b19f-d355d7e22091",
   "metadata": {},
   "outputs": [],
   "source": [
    "import randonneur_data as rd"
   ]
  },
  {
   "cell_type": "code",
   "execution_count": null,
   "id": "53986f75-63e9-4b82-96f0-317d7d50f8d0",
   "metadata": {},
   "outputs": [],
   "source": [
    "registry = rd.Registry()"
   ]
  },
  {
   "cell_type": "code",
   "execution_count": null,
   "id": "64703f9b-5c47-4b04-8eeb-be647f957588",
   "metadata": {},
   "outputs": [],
   "source": [
    "print(registry)"
   ]
  },
  {
   "cell_type": "markdown",
   "id": "eb9e0da6-c772-4b44-9185-de7888a83943",
   "metadata": {},
   "source": [
    "It behaves like a dictionary:"
   ]
  },
  {
   "cell_type": "code",
   "execution_count": null,
   "id": "c1887a88-5545-4982-99cf-932676575bd1",
   "metadata": {},
   "outputs": [],
   "source": [
    "'ecoinvent-2.2-biosphere-ecoinvent-3.0-biosphere' in registry"
   ]
  },
  {
   "cell_type": "code",
   "execution_count": null,
   "id": "9df2f621-daf9-40fb-98f7-fc046eac32b4",
   "metadata": {},
   "outputs": [],
   "source": [
    "registry['ecoinvent-2.2-biosphere-ecoinvent-3.0-biosphere']"
   ]
  },
  {
   "cell_type": "code",
   "execution_count": null,
   "id": "e111dad1-a492-47fa-b375-efa2b5956f51",
   "metadata": {},
   "outputs": [],
   "source": [
    "len(registry)"
   ]
  },
  {
   "cell_type": "markdown",
   "id": "ef9fe754-d5b0-4045-84f0-3d90292cef59",
   "metadata": {},
   "source": [
    "You can get a data schema:"
   ]
  },
  {
   "cell_type": "code",
   "execution_count": null,
   "id": "d691e523-9574-4a9c-b48e-37a1c4a39723",
   "metadata": {},
   "outputs": [],
   "source": [
    "registry.schema('ecoinvent-2.2-biosphere-ecoinvent-3.0-biosphere')"
   ]
  },
  {
   "cell_type": "markdown",
   "id": "c4996cbd-80f2-45a7-9976-39ea60e25db1",
   "metadata": {},
   "source": [
    "You can sample a large data file:"
   ]
  },
  {
   "cell_type": "code",
   "execution_count": null,
   "id": "f5cdd98d-c945-40e1-a022-3d6455679945",
   "metadata": {},
   "outputs": [],
   "source": [
    "registry.sample('ecoinvent-2.2-biosphere-ecoinvent-3.0-biosphere')"
   ]
  },
  {
   "cell_type": "markdown",
   "id": "aa12fb1c-b8c2-451e-9be6-1d6b81e7ef83",
   "metadata": {},
   "source": [
    "You get different results for random sampling:"
   ]
  },
  {
   "cell_type": "code",
   "execution_count": null,
   "id": "b2b3f4e4-a4f4-4a7e-8000-48d670adbe29",
   "metadata": {},
   "outputs": [],
   "source": [
    "registry.sample('ecoinvent-2.2-biosphere-ecoinvent-3.0-biosphere')"
   ]
  },
  {
   "cell_type": "markdown",
   "id": "fe80ced7-95fd-457e-9eea-cc4896c0b8b3",
   "metadata": {},
   "source": [
    "You can also retrieve the whole file:"
   ]
  },
  {
   "cell_type": "code",
   "execution_count": null,
   "id": "368a34c7-59c2-4051-a1ab-0b7fd2d22702",
   "metadata": {},
   "outputs": [],
   "source": [
    "registry.get_file('ecoinvent-2.2-biosphere-ecoinvent-3.0-biosphere')"
   ]
  }
 ],
 "metadata": {
  "kernelspec": {
   "display_name": "Python [conda env:dlt]",
   "language": "python",
   "name": "conda-env-dlt-py"
  },
  "language_info": {
   "codemirror_mode": {
    "name": "ipython",
    "version": 3
   },
   "file_extension": ".py",
   "mimetype": "text/x-python",
   "name": "python",
   "nbconvert_exporter": "python",
   "pygments_lexer": "ipython3",
   "version": "3.12.6"
  }
 },
 "nbformat": 4,
 "nbformat_minor": 5
}
