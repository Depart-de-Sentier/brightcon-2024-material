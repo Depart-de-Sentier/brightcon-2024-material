{
 "cells": [
  {
   "cell_type": "markdown",
   "id": "cef27938-b295-43e2-a267-ee9312dad9b4",
   "metadata": {},
   "source": [
    "<img src=\"images/sentierdev_logo.png\">\n",
    "\n",
    "# Need for change\n",
    "\n",
    "The current way we work with industrial ecology data does not scale. Examples:\n",
    "\n",
    "* ~Name systems~\n",
    "* ~Searching for names~\n",
    "* Unit process inventories and models\n",
    "\n",
    "What has excited the community in the last few years?\n",
    "\n",
    "* [ESSD](https://essd.copernicus.org/)\n",
    "* [Climate trace](https://climatetrace.org/)\n",
    "* [HESTIA](https://www.hestia.earth/)\n",
    "\n",
    "*My* conclusion: Insanity is doing the same thing over and over again and expecting different results"
   ]
  },
  {
   "cell_type": "markdown",
   "id": "25ce10b8-48ba-4d22-9c9f-cf50c5f2a15a",
   "metadata": {},
   "source": [
    "# The problems we face creating something new\n",
    "\n",
    "* ~Finding~\n",
    "* Maintaining\n",
    "* Adapting"
   ]
  },
  {
   "cell_type": "markdown",
   "id": "b1258338-4a02-4b5e-8e5b-949a02bdde42",
   "metadata": {},
   "source": [
    "# Our proposal\n",
    "\n",
    "<img src=\"images/overview.png\">"
   ]
  },
  {
   "cell_type": "markdown",
   "id": "5b9b4687-184d-4616-9142-ec5e7d8aa12c",
   "metadata": {},
   "source": [
    "# Data\n",
    "\n",
    "We imagine a data storage organized around column-oriented formats and workflows. Each data object would have some metadata (lineage, license, logs) and a data frame.\n",
    "\n",
    "If the data frame included multiple columns, then the observations in each row are correlated.\n",
    "\n",
    "Each column header is a term in the Sentier.dev vocabulary.\n",
    "\n",
    "There are some columns which give the spatial, temporal, and technological specificity of the observations.\n",
    "\n",
    "| timestamp | location IRI | model IRI | fuel consumption IRI | CO2 IRI | Particulate IRI |\n",
    "| --- | --- | --- | --- | --- | --- |\n",
    "| 2024-09-26 08:06:20Z | https://geonames.org/3208175/ | https://example.org/EASA.A.064 | ... | ... | ... |\n",
    "\n",
    "When we want to do a calculation, the data storage is queried for all relevant data at the spatiotemporal context and term specificity requested; the model can choose to broaden its query if not enough data is found initially.\n",
    "\n",
    "Multiple data frames for a given input term can be returned; it is up to the model to define how to weight or resample these different data sets, though we will provide generic tools for resampling, data quality assessment, and gap filling.\n",
    "\n",
    "One awesome benefit of this approach is how easy maintenance beceomes - as new data enters the system, the continuous integration does an assessment across the whole database of what has changed, why it changed, and how much closer the database as a whole is to our defined validation goals. An example of a validation goal could be that we include enough emissions of PFAS to account for the marginal change in observed regional concentrations. We can then automatically approve the new data (and send the submitter the report on why their contribution mattered) if the changes are within our accepted norms, or escalate the data to a working group or the broader community.\n",
    "\n",
    "The volunteers currently supporting DdS have no interest in arguing about system models, and will start with data and models which can reproduce measured flows in the economy and into and out of the environment. We welcome people building other system models in our platform."
   ]
  },
  {
   "cell_type": "markdown",
   "id": "d9fdbf7f-2323-43e8-80dd-c2d93270bd93",
   "metadata": {},
   "source": [
    "# Models\n",
    "\n",
    "Models are mathematical formulae implemented in code which transform input data sets into output data sets. \n",
    "\n",
    "They should be well tested and documented, preferably with reference to literature which describes why they are constructed the way they are.\n",
    "\n",
    "Models need to be implemented in a FOSS language which can run easily in a container. We will start with Python but are open to other languages. Our intent is to not have any step of the pipeline assume a certain language; rather, we will be strict on the data schema and validation constraints.\n",
    "\n",
    "Models built on our base classes can also do the following:\n",
    "\n",
    "* Local and semi-local sensitivity analysis (global sensitivity analysis across the whole database would be quite expensive and of little practical value, or at least that's what we think now)\n",
    "* Describe themselves graphically via code introspection\n",
    "* Perform outlier detection\n",
    "* Give feedback to users on more\n",
    "\n",
    "## Functional paradigm\n",
    "\n",
    "Our design principle follow functional principles - functions are not allowed to change state, but only to produce new objects. We can't design efficient graph traversal without guarantees on graph structure.\n",
    "\n",
    "## Ancillary models\n",
    "\n",
    "Models can call additional models needed to satisfy the necessary properties, and spatial/temporal input requirements. For example, the input is available or commonly imported from another place - we call the transport model to supplement our production model. We have similar things for stocks/flows and certain types of storage. In this sense, a given model can change its local graph structure, but not the global graph structure. We're still thinking about how to implement this, you are free to read and contribute to these discussions:\n",
    "\n",
    "* [Transport in the network](https://github.com/sentier-dev/sentier.dev/discussions/18)\n",
    "* [Generic models](https://github.com/sentier-dev/sentier.dev/discussions/17)\n",
    "\n",
    "## Hybrid calculation structure\n",
    "\n",
    "We think that we will end up running nonlinear functions (models) until a certain cutoff criteria is met, and then we will drop down to the linearized representation of supply chains (matrix). It could be that there is more than one matrix for different sectors or locations."
   ]
  },
  {
   "cell_type": "markdown",
   "id": "f2f83c31-7004-45f0-a33f-cb400f542408",
   "metadata": {},
   "source": [
    "# Group task\n",
    "\n",
    "We are collecting models and data sources here: [https://github.com/sentier-dev/sentier.dev/discussions](https://github.com/sentier-dev/sentier.dev/discussions).\n",
    "\n",
    "Your task is to suggest new data sources and models.\n",
    "\n",
    "## Data\n",
    "\n",
    "Your task is to imagine data that you think would be useful, for LCA, MFA, IO, circular economy, or other industrial ecology, or related sectors. We would rather have too much data than to little. We are especially interested in data sets, with many data points for a given model coefficient; this can include time series data.\n",
    "\n",
    "In addition to classic IE data, we would love to have things like:\n",
    "\n",
    "* Household consumption by product category\n",
    "* Prices (any type)\n",
    "* Population\n",
    "* Trade volumes, with as much detail as possible\n",
    "* Measured or estimated fluxes into air and water of elementary flows\n",
    "* Geographic patterns of activity\n",
    "\n",
    "[Data suggestion form](https://github.com/sentier-dev/sentier.dev/discussions/new?category=data-suggestion)\n",
    "\n",
    "## Models\n",
    "\n",
    "A model for the sake of this exercise is a formal description of the logic behind a product system. This could be written in code, but could also be equations in a paper. We will need to adapt everything at first until we find patterns or tools to make this process easier, so are open to all kinds of input sources.\n",
    "\n",
    "Here are some of the models we have thought about using:\n",
    "\n",
    "* [HESTIA models](https://gitlab.com/hestia-earth/hestia-engine-models)\n",
    "* [US EPA WARM](https://www.epa.gov/warm)\n",
    "* [carculator](https://github.com/romainsacchi/carculator)\n",
    "* [GREET](https://www.energy.gov/eere/greet) (we can make GREET great ;)\n",
    "* [PRELIM](https://www.ucalgary.ca/energy-technology-assessment/open-source-models/prelim)\n",
    "\n",
    "[Model suggestion form](https://github.com/sentier-dev/sentier.dev/discussions/new?category=model-suggestion)"
   ]
  },
  {
   "cell_type": "code",
   "execution_count": null,
   "id": "8f95921f-34bc-44f3-a3bf-e90fd5c3a463",
   "metadata": {},
   "outputs": [],
   "source": []
  }
 ],
 "metadata": {
  "kernelspec": {
   "display_name": "Python 3 (ipykernel)",
   "language": "python",
   "name": "python3"
  },
  "language_info": {
   "codemirror_mode": {
    "name": "ipython",
    "version": 3
   },
   "file_extension": ".py",
   "mimetype": "text/x-python",
   "name": "python",
   "nbconvert_exporter": "python",
   "pygments_lexer": "ipython3",
   "version": "3.12.4"
  }
 },
 "nbformat": 4,
 "nbformat_minor": 5
}
