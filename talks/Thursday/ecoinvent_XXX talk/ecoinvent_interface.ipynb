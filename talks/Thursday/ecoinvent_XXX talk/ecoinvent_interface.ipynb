{
 "cells": [
  {
   "cell_type": "markdown",
   "id": "0b664ba4-7998-4214-9751-f38194d6b2bb",
   "metadata": {},
   "source": [
    "# `ecoinvent_interface`\n",
    "\n",
    "This library is the \"missing API\" for ecoinvent data and files. Please note that **it is unofficial and not supported** by the ecoinvent centre, and they could break it at any time.\n",
    "\n",
    "## Authentication\n",
    "\n",
    "The `ecoinvent_interface` requires a valid ecoinvent account. Authentication is done via the `Settings` object. Accessing ecoinvent requires supplying a username and password.\n",
    "\n",
    "Note that you **must accept** the ecoinvent license and personal identifying information agreement **on the website** before using your user account via this library.\n",
    "\n",
    "You can provide credentials in three ways:\n",
    "\n",
    "* Manually, via arguments to the `Settings` object instantiation:\n",
    "\n",
    "```python\n",
    "from ecoinvent_interface import Settings\n",
    "my_settings = Settings(username=\"bob\", password=\"example\")\n",
    "```\n",
    "\n",
    "* Via the `EI_PASSWORD` and `EI_USERNAME` environment variables\n",
    "\n",
    "```bash\n",
    "export EI_USERNAME=bob\n",
    "export EI_PASSWORD=example\n",
    "```\n",
    "\n",
    "If your environment variable values have special characters, using single quotes should work, e.g. `export EI_PASSWORD='compl\\!cat$d'`.\n",
    "\n",
    "Followed by:\n",
    "\n",
    "```python\n",
    "from ecoinvent_interface import Settings\n",
    "# Environment variables read automatically\n",
    "my_settings = Settings()\n",
    "```\n",
    "\n",
    "* Or with the use of a [pydantic_settings secrets directory](https://docs.pydantic.dev/latest/usage/pydantic_settings/#secrets). The easiest way to create the correct files is via the utility function `permanent_setting`:\n",
    "\n",
    "```python\n",
    "from ecoinvent_interface import Settings, permanent_setting\n",
    "permanent_setting(\"username\", \"bob\")\n",
    "permanent_setting(\"password\", \"example\")\n",
    "# Secrets files read automatically\n",
    "my_settings = Settings()\n",
    "```\n",
    "\n",
    "Secrets files are stored in `ecoinvent_interface.storage.secrets_dir`.\n",
    "\n",
    "For each value, manually set values always *take precedence* over environment variables, which in turn *take precendence* over secrets files.\n",
    "\n",
    "A reasonable guide for choosing between the three is to use secrets on your private, local machine, and to use environment variables on servers or containers. We will use environment variables in this demo."
   ]
  },
  {
   "cell_type": "code",
   "execution_count": 12,
   "id": "d50c8c5f-55df-443d-b111-48ef75768936",
   "metadata": {},
   "outputs": [
    {
     "name": "stdout",
     "output_type": "stream",
     "text": [
      "env: MY_FIRST_ENVVAR=Hi mom\n"
     ]
    }
   ],
   "source": [
    "%set_env EI_USERNAME <put stuff here it can have spaces>\n",
    "%set_env EI_PASSWORD <put stuff here it can have spaces>"
   ]
  },
  {
   "cell_type": "markdown",
   "id": "b2d1a5e0-8803-4258-8abc-76d5471294c1",
   "metadata": {},
   "source": [
    "# Database releases\n",
    "\n",
    "To get a database release, we need to make three selections. First, the version:"
   ]
  },
  {
   "cell_type": "code",
   "execution_count": 8,
   "id": "ab674d9b-b144-4515-b301-ec2129f804dd",
   "metadata": {},
   "outputs": [],
   "source": [
    "from ecoinvent_interface import EcoinventRelease, Settings, ReleaseType, CachedStorage\n",
    "my_settings = Settings()\n",
    "ei = EcoinventRelease(my_settings)"
   ]
  },
  {
   "cell_type": "code",
   "execution_count": 2,
   "id": "655a2e9e-e2ed-4250-934e-4042c3e67817",
   "metadata": {},
   "outputs": [
    {
     "data": {
      "text/plain": [
       "['3.10',\n",
       " '3.9.1',\n",
       " '3.9',\n",
       " '3.8',\n",
       " '3.7.1',\n",
       " '3.7',\n",
       " '3.6',\n",
       " '3.5',\n",
       " '3.4',\n",
       " '3.3',\n",
       " '3.2',\n",
       " '3.1',\n",
       " '3.01',\n",
       " '2']"
      ]
     },
     "execution_count": 2,
     "metadata": {},
     "output_type": "execute_result"
    }
   ],
   "source": [
    "ei.list_versions()"
   ]
  },
  {
   "cell_type": "markdown",
   "id": "579e602f-0e68-495e-9626-95853336f91a",
   "metadata": {},
   "source": [
    "Second, the system model:"
   ]
  },
  {
   "cell_type": "code",
   "execution_count": 3,
   "id": "a4f5b102-9699-4df5-98c3-fc8285d5f299",
   "metadata": {},
   "outputs": [
    {
     "data": {
      "text/plain": [
       "['cutoff', 'consequential', 'apos']"
      ]
     },
     "execution_count": 3,
     "metadata": {},
     "output_type": "execute_result"
    }
   ],
   "source": [
    "ei.list_system_models('3.7.1')"
   ]
  },
  {
   "cell_type": "markdown",
   "id": "a43b4009-dcf6-42e0-931e-f7c507e372ee",
   "metadata": {},
   "source": [
    "The ecoinvent API uses a short and long form of the system model names; you can get the longer names by passing translate=False. You can use either form in all EcoinventRelease methods."
   ]
  },
  {
   "cell_type": "code",
   "execution_count": 4,
   "id": "0d5a54ff-f99b-4fa5-8f87-36b8e19175a1",
   "metadata": {},
   "outputs": [
    {
     "data": {
      "text/plain": [
       "['Allocation cut-off by classification',\n",
       " 'Substitution, consequential, long-term',\n",
       " 'Allocation at the Point of Substitution']"
      ]
     },
     "execution_count": 4,
     "metadata": {},
     "output_type": "execute_result"
    }
   ],
   "source": [
    "ei.list_system_models('3.7.1', translate=False)"
   ]
  },
  {
   "cell_type": "markdown",
   "id": "6cd5f4af-41fc-46cf-983b-234d89054a1e",
   "metadata": {},
   "source": [
    "Finally, the type of release. These are stored in an `Enum`. There are six release types; if you just want the database to do calculations choose the `ecospold` type.\n",
    "\n",
    "* `ReleaseType.ecospold`: The single-output unit process files in ecospold2 XML format\n",
    "* `ReleaseType.matrix`: The so-called \"universal matrix export\"\n",
    "* `ReleaseType.lci`: LCI data in ecospold2 XML format\n",
    "* `ReleaseType.lcia`: LCIA data in ecospold2 XML format\n",
    "* `ReleaseType.cumulative_lci`: LCI data in Excel\n",
    "* `ReleaseType.cumulative_lcia`: LCIA data in Excel"
   ]
  },
  {
   "cell_type": "code",
   "execution_count": 6,
   "id": "846ee264-6efe-4459-977a-68f344772a96",
   "metadata": {},
   "outputs": [
    {
     "data": {
      "text/plain": [
       "[<ReleaseType.ecospold: 'ecoinvent {version}_{system_model_abbr}_ecoSpold02.7z'>,\n",
       " <ReleaseType.matrix: 'universal_matrix_export_{version}_{system_model_abbr}.7z'>,\n",
       " <ReleaseType.lci: 'ecoinvent {version}_{system_model_abbr}_lci_ecoSpold02.7z'>,\n",
       " <ReleaseType.lcia: 'ecoinvent {version}_{system_model_abbr}_lcia_ecoSpold02.7z'>,\n",
       " <ReleaseType.cumulative_lci: 'ecoinvent {version}_{system_model_abbr}_cumulative_lci_xlsx.7z'>,\n",
       " <ReleaseType.cumulative_lcia: 'ecoinvent {version}_{system_model_abbr}_cumulative_lcia_xlsx.7z'>]"
      ]
     },
     "execution_count": 6,
     "metadata": {},
     "output_type": "execute_result"
    }
   ],
   "source": [
    "list(ReleaseType)"
   ]
  },
  {
   "cell_type": "markdown",
   "id": "79b62cb1-0559-4a92-8b96-2fdba61cce30",
   "metadata": {},
   "source": [
    "See the ecoinvent website for more information on what these values mean.\n",
    "\n",
    "Once we have made a selection for all three choices, we can get the release files. They are saved to a cache directory and extracted by default."
   ]
  },
  {
   "cell_type": "code",
   "execution_count": 7,
   "id": "8b086517-2706-4cc8-9f74-50d8a1b0f2b2",
   "metadata": {},
   "outputs": [
    {
     "data": {
      "text/plain": [
       "PosixPath('/Users/cmutel/Library/Application Support/EcoinventInterface/cache/universal_matrix_export_3.7.1_apos')"
      ]
     },
     "execution_count": 7,
     "metadata": {},
     "output_type": "execute_result"
    }
   ],
   "source": [
    "ei.get_release(version='3.7.1', system_model='apos', release_type=ReleaseType.matrix)"
   ]
  },
  {
   "cell_type": "markdown",
   "id": "7c63737d-1876-447b-9ad7-53832e45a93e",
   "metadata": {},
   "source": [
    "## Cached storage\n",
    "\n",
    "The default cache uses [platformdirs](https://platformdirs.readthedocs.io/en/latest/), and the directory location is OS-dependent. You can use a custom cache directory with by specifying `output_dir` when creating the `Settings` class instance.\n",
    "\n",
    "You can work with the cache when offline:"
   ]
  },
  {
   "cell_type": "code",
   "execution_count": 9,
   "id": "e29eb651-d15f-4b80-b718-3693090d7602",
   "metadata": {},
   "outputs": [
    {
     "data": {
      "text/plain": [
       "['ecoinvent 3.10_cutoff_ecoSpold02.7z',\n",
       " 'ecoinvent 3.10_LCIA_implementation.7z',\n",
       " 'ecoinvent 3.9.1_cutoff_ecoSpold02.7z',\n",
       " 'ecoinvent 3.8_cutoff_ecoSpold02.7z',\n",
       " 'ecoinvent 3.9.1_LCIA_implementation.7z',\n",
       " 'ecoinvent 3.8_LCIA_implementation.7z',\n",
       " 'universal_matrix_export_3.7.1_apos.7z']"
      ]
     },
     "execution_count": 9,
     "metadata": {},
     "output_type": "execute_result"
    }
   ],
   "source": [
    "cs = CachedStorage()\n",
    "list(cs.catalogue)"
   ]
  },
  {
   "cell_type": "code",
   "execution_count": 11,
   "id": "6b2fdcb8-3bdb-4fcc-9240-563913fddc5a",
   "metadata": {},
   "outputs": [
    {
     "data": {
      "text/plain": [
       "{'path': '/Users/cmutel/Library/Application Support/EcoinventInterface/cache/ecoinvent 3.9.1_LCIA_implementation',\n",
       " 'archive': 'ecoinvent 3.9.1_LCIA_implementation.7z',\n",
       " 'extracted': True,\n",
       " 'created': '2024-06-08T22:37:35.870041',\n",
       " 'system_model': None,\n",
       " 'version': '3.9.1',\n",
       " 'kind': 'extra'}"
      ]
     },
     "execution_count": 11,
     "metadata": {},
     "output_type": "execute_result"
    }
   ],
   "source": [
    "cs.catalogue['ecoinvent 3.9.1_LCIA_implementation.7z']"
   ]
  },
  {
   "cell_type": "markdown",
   "id": "33d2ae7b-6fff-4338-8e5b-40288c88005a",
   "metadata": {},
   "source": [
    "## `EcoinventRelease` *extra* files\n",
    "\n",
    "There are two other kinds of files available: *reports*, and what we call *extra* files. Let's see the *extra* files for version `'3.7.1'`:"
   ]
  },
  {
   "cell_type": "code",
   "execution_count": 12,
   "id": "eb15c1da-2bd9-4048-86c7-f3a2b271fb90",
   "metadata": {},
   "outputs": [
    {
     "data": {
      "text/plain": [
       "{'ecoinvent 3.7.1_Change Report_including Annex.zip.7z': {'uuid': 'bfa0318b-9b5a-4d6c-b9f2-eb49c1719b1a',\n",
       "  'size': 5211864,\n",
       "  'modified': datetime.datetime(2023, 4, 25, 0, 0)},\n",
       " 'ecoinvent 3.7.1_LCIA_implementation.7z': {'uuid': '5d92d6da-9f05-463f-a7c9-f436f4e2eaec',\n",
       "  'size': 8292322,\n",
       "  'modified': datetime.datetime(2023, 4, 25, 0, 0)},\n",
       " 'electricity_analysis_3.7.1_Allocation, APOS.xlsx': {'uuid': 'c3593a36-b11b-4f82-b183-2624a18addf8',\n",
       "  'size': 40350040,\n",
       "  'modified': datetime.datetime(2023, 4, 25, 0, 0)},\n",
       " 'electricity_analysis_3.7.1_Allocation, cut-off.xlsx': {'uuid': '7577d77f-1274-44fd-9fc7-eb77c4e15286',\n",
       "  'size': 40283505,\n",
       "  'modified': datetime.datetime(2023, 4, 25, 0, 0)},\n",
       " 'electricity_analysis_3.7.1_Consequential.xlsx': {'uuid': 'dd378ebd-a063-41c1-8230-911bf2f01c72',\n",
       "  'size': 4408638,\n",
       "  'modified': datetime.datetime(2023, 4, 25, 0, 0)},\n",
       " 'market_composition_3.7.1.xlsx': {'uuid': '0ea836e7-8b24-44c2-bcaf-b2f398a44e18',\n",
       "  'size': 3476642,\n",
       "  'modified': datetime.datetime(2023, 4, 25, 0, 0)},\n",
       " 'technical report_v3 7 1_20201217.7z': {'uuid': 'a43913e3-f0c7-49d1-8b67-282166edd91d',\n",
       "  'size': 184148712,\n",
       "  'modified': datetime.datetime(2023, 4, 25, 0, 0)}}"
      ]
     },
     "execution_count": 12,
     "metadata": {},
     "output_type": "execute_result"
    }
   ],
   "source": [
    "ei.list_extra_files('3.7.1')"
   ]
  },
  {
   "cell_type": "markdown",
   "id": "2c5301b7-4fb7-495d-a212-08095b138906",
   "metadata": {},
   "source": [
    "This returns a dictionary of filenames and metadata. We can download the `ecoinvent 3.7.1_LCIA_implementation.7z` file; by default it will automatically be extracted."
   ]
  },
  {
   "cell_type": "code",
   "execution_count": 13,
   "id": "fc242e48-9b7b-4844-a981-637f32983d1a",
   "metadata": {},
   "outputs": [
    {
     "data": {
      "text/plain": [
       "PosixPath('/Users/cmutel/Library/Application Support/EcoinventInterface/cache/ecoinvent 3.7.1_LCIA_implementation')"
      ]
     },
     "execution_count": 13,
     "metadata": {},
     "output_type": "execute_result"
    }
   ],
   "source": [
    "ei.get_extra(version='3.7.1', filename='ecoinvent 3.7.1_LCIA_implementation.7z')"
   ]
  },
  {
   "cell_type": "markdown",
   "id": "eac49ddb-ae85-4022-aab0-73a163dd3b67",
   "metadata": {},
   "source": [
    "## `EcoinventRelease` *reports*\n",
    "\n",
    "Reports require a login but not a version number:"
   ]
  },
  {
   "cell_type": "code",
   "execution_count": 14,
   "id": "5a1b9100-c59c-470a-9eb5-30232d00fc92",
   "metadata": {},
   "outputs": [
    {
     "data": {
      "text/plain": [
       "{'Allocation, cut-off, EN15804_documentation.pdf': {'uuid': 'a90b3cbf-bbf6-4b49-aef7-4f7a53250287',\n",
       "  'size': 5078006,\n",
       "  'modified': datetime.datetime(2021, 10, 1, 0, 0),\n",
       "  'description': 'This document provides a documentation on the calculation of the indicators in the “Allocation, cut-off, EN15804” system model.'},\n",
       " 'Consideration of land use change in ecoinvent version 3.3.pdf': {'uuid': '0a9ff340-abce-42b3-8424-3ec53468bb40',\n",
       "  'size': 1170983,\n",
       "  'modified': datetime.datetime(2021, 2, 5, 0, 0),\n",
       "  'description': 'This document describes the LUC accounting method applied to ecoinvent v3.3'},\n",
       " 'ecoinvent 3 report_Agriculture.zip': {'uuid': '136cfe6e-da14-41cb-960e-378d07f96261',\n",
       "  'size': 5710488,\n",
       "  'modified': datetime.datetime(2017, 5, 31, 0, 0),\n",
       "  'description': 'This file contains several .pdf reports and xlsx files dealing with the agricultural sector in ecoinvent v3.'},\n",
       " 'ecoinvent 3 report_Life cycle inventories for the treatment of iron and steel industry by-products.pdf': {'uuid': '77da1706-a793-401c-ab88-ec2bb968458c',\n",
       "  'size': 888843,\n",
       "  'modified': datetime.datetime(2020, 10, 29, 0, 0),\n",
       "  'description': 'This report covers the life cycle inventory data for the treatment of iron and steel industry by-products in the ecoinvent database, considering both recovery and disposal routes.'},\n",
       " 'ecoinvent 3 report_Life cycle inventories of pyrometallurgical copper production and anode slime processing.pdf': {'uuid': '7bb618dd-3bac-49ef-ae51-4bfd5a7a5570',\n",
       "  'size': 1490326,\n",
       "  'modified': datetime.datetime(2021, 11, 4, 0, 0),\n",
       "  'description': 'This report provides an overview of the life cycle inventory datasets for the pyrometallurgical processing of primary copper and the processing of anode slimes.'},\n",
       " 'ecoinvent 3 report_Refrigerated Transport.pdf': {'uuid': '2b14f5d0-6c6d-4f83-b3c0-10bf46b8faa0',\n",
       "  'size': 865526,\n",
       "  'modified': datetime.datetime(2016, 8, 8, 0, 0),\n",
       "  'description': 'This report serves as an overview of freight transport using intermodal shipping containers and freight transport equipped for the transport of cargo in need of controlled atmosphere.'},\n",
       " 'ecoinvent 3 report_Transport Default Model_Global.7z': {'uuid': 'c2ed1193-729e-40d3-ae42-8b5ae0a24ccf',\n",
       "  'size': 406844,\n",
       "  'modified': datetime.datetime(2022, 3, 11, 0, 0),\n",
       "  'description': 'This report provides a documentation of default transport data per commodity group for the US and EU27 for ecoinvent v3.'},\n",
       " 'ecoinvent 3 report_Transport Default Model_Switzerland.zip': {'uuid': '5a98818f-2265-4420-87a0-d46bad2dec09',\n",
       "  'size': 651770,\n",
       "  'modified': datetime.datetime(2016, 8, 8, 0, 0),\n",
       "  'description': 'This file contains an .xlsx file with default transport data per commodity group for Switzerland and an associated .pdf report.'},\n",
       " 'ecoinvent 3 report_Update of the European natural gas supply chains.pdf': {'uuid': '98a8312f-e2cd-4a44-bc91-a36147a0694f',\n",
       "  'size': 1263491,\n",
       "  'modified': datetime.datetime(2019, 4, 16, 0, 0),\n",
       "  'description': 'This report details the underlying assumptions and information used for the update of the natural gas supply chains in Europe for ecoinvent v3.4.'},\n",
       " 'ecoinvent 3 report_electricity India.pdf': {'uuid': 'b43fe54b-136e-4578-af04-afe7aff82ee0',\n",
       "  'size': 2914318,\n",
       "  'modified': datetime.datetime(2017, 10, 4, 0, 0),\n",
       "  'description': 'This document provides a documentation of regionalized Life Cycle Inventory of Power Producing Technologies and Power Grids in India.'},\n",
       " 'ecoinvent 3 report_selected chapters_Energy.zip': {'uuid': '3ddd01fe-f309-4853-ab47-aedf321880e0',\n",
       "  'size': 300078,\n",
       "  'modified': datetime.datetime(2016, 8, 8, 0, 0),\n",
       "  'description': 'This file contains the content of talk pages concerning the electricity sector.'},\n",
       " 'ecoinvent 3.3 open access datasets_PDF documentation.zip': {'uuid': 'bd88d87c-2fe8-4e33-9d2e-cf9ca7759b51',\n",
       "  'size': 17862852,\n",
       "  'modified': datetime.datetime(2016, 8, 12, 0, 0),\n",
       "  'description': 'Represents a sample of datasets in pdf format available free of charge.'},\n",
       " 'ecoinvent 3.4 open access datasets_PDF documentation.zip': {'uuid': '6009784f-19ae-4020-835d-c866f61936a8',\n",
       "  'size': 17329000,\n",
       "  'modified': datetime.datetime(2017, 10, 4, 0, 0),\n",
       "  'description': 'Represents a sample of datasets in pdf format available free of charge.'},\n",
       " 'ecoinvent 2.2 translated reports_06_Energy Systems.zip': {'uuid': '016db04f-861f-415f-b802-96959f3c4be2',\n",
       "  'size': 24142078,\n",
       "  'modified': datetime.datetime(2016, 8, 8, 0, 0),\n",
       "  'description': 'This file contains version 2 reports on Energy system that have been translated to English.'},\n",
       " 'Ökoinventar Transporte_Grundlagen für den ökologischen Vergleich von Transportsystemen.pdf': {'uuid': 'b1446f23-46da-4ca6-a5d5-0262c002baeb',\n",
       "  'size': 2917381,\n",
       "  'modified': datetime.datetime(2023, 5, 16, 0, 0),\n",
       "  'description': 'This report is a key source for transport data in ecoinvent.'},\n",
       " '01_OverviewAndMethodology.pdf': {'uuid': 'aa80e84c-4be7-4597-95cd-65db1380cda5',\n",
       "  'size': 613477,\n",
       "  'modified': datetime.datetime(2009, 7, 16, 0, 0)},\n",
       " '02_CodeOfPractice_v2.1.pdf': {'uuid': '1a7055c1-9289-4afa-8aff-3c3de1ed13f3',\n",
       "  'size': 565870,\n",
       "  'modified': datetime.datetime(2009, 8, 21, 0, 0)},\n",
       " '03_LCIA-Implementation-v2.2.pdf': {'uuid': '2c529d90-9571-4dc0-b256-b3287e66ef9f',\n",
       "  'size': 1633310,\n",
       "  'modified': datetime.datetime(2010, 8, 12, 0, 0)},\n",
       " '04_DatabaseSystem.pdf': {'uuid': '8cff3a75-60f2-442d-92eb-135d5c8bf664',\n",
       "  'size': 1107490,\n",
       "  'modified': datetime.datetime(2009, 7, 16, 0, 0)},\n",
       " '05_EnergySystemsSummary.pdf': {'uuid': '40d3d8f1-4432-4f2d-aa78-70c31e9a38b1',\n",
       "  'size': 1383829,\n",
       "  'modified': datetime.datetime(2009, 7, 16, 0, 0)},\n",
       " '06_I-III_ZusammenfassungZielMethodik.pdf': {'uuid': '063a406a-8f2e-4b06-9a76-8bdae30c543c',\n",
       "  'size': 250948,\n",
       "  'modified': datetime.datetime(2009, 7, 16, 0, 0)},\n",
       " '06_IV_Erdoel.pdf': {'uuid': 'fab9be72-c646-4f0c-83a2-871a54a0c7a7',\n",
       "  'size': 11643209,\n",
       "  'modified': datetime.datetime(2009, 7, 16, 0, 0)},\n",
       " '06_IX_Holzenergie.pdf': {'uuid': '6470ba5b-3a2c-41bc-9ae0-4673d15c2090',\n",
       "  'size': 1052765,\n",
       "  'modified': datetime.datetime(2009, 7, 16, 0, 0)},\n",
       " '06_VIII_Wasserkraft.pdf': {'uuid': 'd0da91da-773d-4666-8447-19ca7a0128ad',\n",
       "  'size': 858481,\n",
       "  'modified': datetime.datetime(2009, 7, 16, 0, 0)},\n",
       " '06_VII_Kernenergie_v2.1.pdf': {'uuid': 'afac9096-9e9b-48e4-8651-af65dbaab019',\n",
       "  'size': 5889171,\n",
       "  'modified': datetime.datetime(2009, 8, 21, 0, 0)},\n",
       " '06_VI_Kohle.pdf': {'uuid': 'b5fc0b2f-3804-46c6-aae1-b21e76f6a0fb',\n",
       "  'size': 2643067,\n",
       "  'modified': datetime.datetime(2009, 7, 16, 0, 0)},\n",
       " '06_V_Erdgas.pdf': {'uuid': '8155195c-fc9a-4fed-be62-f89e0392bc95',\n",
       "  'size': 1540695,\n",
       "  'modified': datetime.datetime(2009, 7, 16, 0, 0)},\n",
       " '06_XIII_Windkraft.pdf': {'uuid': 'f89de739-dc0a-44b1-a74d-acb36c5dd19d',\n",
       "  'size': 561446,\n",
       "  'modified': datetime.datetime(2009, 7, 16, 0, 0)},\n",
       " '06_XII_Photovoltaics_v2.1.pdf': {'uuid': '5cedd4ff-07c2-42ee-9902-85ebdc87340d',\n",
       "  'size': 2081391,\n",
       "  'modified': datetime.datetime(2009, 8, 21, 0, 0)},\n",
       " '06_XIV_Waermekraftkopplung.pdf': {'uuid': '8de22f20-413e-496d-b67a-428e067c58bd',\n",
       "  'size': 895330,\n",
       "  'modified': datetime.datetime(2009, 7, 16, 0, 0)},\n",
       " '06_XI_Sonnenkollektoren.pdf': {'uuid': '23baa650-11e5-44f5-ba2a-0c869a43b071',\n",
       "  'size': 1872110,\n",
       "  'modified': datetime.datetime(2009, 7, 16, 0, 0)},\n",
       " '06_XVI_Strommix.pdf': {'uuid': '55068a9a-ebde-4ca3-af68-f7f5ab7ecea6',\n",
       "  'size': 1171173,\n",
       "  'modified': datetime.datetime(2009, 7, 16, 0, 0)},\n",
       " '06_X_Waermepumpen.pdf': {'uuid': '8f301df1-afc0-401a-aa8a-1ae40bb3356d',\n",
       "  'size': 253994,\n",
       "  'modified': datetime.datetime(2009, 7, 16, 0, 0)},\n",
       " '07_BuildingProducts.pdf': {'uuid': '334de006-6874-4392-a4a2-adec7f744ef7',\n",
       "  'size': 8787351,\n",
       "  'modified': datetime.datetime(2009, 7, 16, 0, 0)},\n",
       " '08_Chemicals.pdf': {'uuid': '84a1ffd4-e345-407a-8df0-a72dea1b0a2a',\n",
       "  'size': 7310406,\n",
       "  'modified': datetime.datetime(2009, 7, 16, 0, 0)},\n",
       " '09_WoodFuelConstruction.pdf': {'uuid': '9aaad9db-3a4f-4fcf-a19e-91a1ede5951c',\n",
       "  'size': 1546332,\n",
       "  'modified': datetime.datetime(2009, 7, 16, 0, 0)},\n",
       " '10_Metals_v2.1.pdf': {'uuid': 'fa91bf71-5799-4edb-b65e-b0f17b27de86',\n",
       "  'size': 8944604,\n",
       "  'modified': datetime.datetime(2009, 8, 21, 0, 0)},\n",
       " '11_III_Paper_and_board.pdf': {'uuid': '3fb97f9e-3768-4a8f-8620-7ca544738471',\n",
       "  'size': 3493804,\n",
       "  'modified': datetime.datetime(2009, 7, 16, 0, 0)},\n",
       " '11_II_Plastics.pdf': {'uuid': '1d7531b4-88b5-4543-b00d-8f124723d190',\n",
       "  'size': 2737756,\n",
       "  'modified': datetime.datetime(2009, 7, 16, 0, 0)},\n",
       " '11_IV_PackagingGlass.pdf': {'uuid': 'de1f03f5-a65d-4644-ad4d-0210934247a9',\n",
       "  'size': 1338098,\n",
       "  'modified': datetime.datetime(2009, 7, 16, 0, 0)},\n",
       " '11_I_Packaging_and_graphical_paper.pdf': {'uuid': '4837bad2-ddd1-4358-8a7f-3c019ff825c8',\n",
       "  'size': 337144,\n",
       "  'modified': datetime.datetime(2009, 7, 16, 0, 0)},\n",
       " '12_Detergents.pdf': {'uuid': '5e0c14cb-cfb2-494f-b4a9-a99e1d0c8db6',\n",
       "  'size': 1546226,\n",
       "  'modified': datetime.datetime(2009, 7, 16, 0, 0)},\n",
       " '13-III_Landfills_v2.1.pdf': {'uuid': '5bea5c75-1f41-40ef-be01-c1b1f39a15ac',\n",
       "  'size': 1880612,\n",
       "  'modified': datetime.datetime(2009, 8, 21, 0, 0)},\n",
       " '13-II_Waste_incineration_v2.1.pdf': {'uuid': '606a520e-377a-4354-91f5-c6e2ad7b509a',\n",
       "  'size': 1245332,\n",
       "  'modified': datetime.datetime(2009, 8, 21, 0, 0)},\n",
       " '13-IV_Wastewater_treatment_v2.1.pdf': {'uuid': 'a0fe9c2f-bf74-475b-94db-aa97b11c3d73',\n",
       "  'size': 1129291,\n",
       "  'modified': datetime.datetime(2009, 8, 21, 0, 0)},\n",
       " '13-I_Waste_treatment_General_v2.1.pdf': {'uuid': 'f70acfea-c8a2-44ef-8e36-c99a01b4cb60',\n",
       "  'size': 2247620,\n",
       "  'modified': datetime.datetime(2009, 8, 21, 0, 0)},\n",
       " '13-V_building_material_disposal_v2.1.pdf': {'uuid': '526e4c9c-b0d3-4bd0-9428-d254d408a28a',\n",
       "  'size': 821145,\n",
       "  'modified': datetime.datetime(2009, 8, 21, 0, 0)},\n",
       " '14_Transport.pdf': {'uuid': '3c7b6923-09ac-41c7-ae9e-bc980b0de95e',\n",
       "  'size': 2103101,\n",
       "  'modified': datetime.datetime(2009, 7, 16, 0, 0)},\n",
       " '15_Agriculture.pdf': {'uuid': '6202f08f-b6a3-4e14-96c7-3d8ea51a822b',\n",
       "  'size': 2944794,\n",
       "  'modified': datetime.datetime(2009, 7, 16, 0, 0)},\n",
       " '16-Changes-v2.2.pdf': {'uuid': '1c518add-1932-44d1-b3e9-2c6076e3a307',\n",
       "  'size': 2614513,\n",
       "  'modified': datetime.datetime(2010, 8, 12, 0, 0)},\n",
       " '17_Bioenergy.pdf': {'uuid': '162375ef-375d-4756-a788-5b863982d281',\n",
       "  'size': 13267093,\n",
       "  'modified': datetime.datetime(2009, 7, 16, 0, 0)},\n",
       " '18_III_Electronics_devices.pdf': {'uuid': '45314d2a-f536-4149-b03e-5909f91fd7e5',\n",
       "  'size': 8480086,\n",
       "  'modified': datetime.datetime(2009, 7, 16, 0, 0)},\n",
       " '18_II_Electronics_modules.pdf': {'uuid': '7166982f-febc-4759-84c2-d4f0f7abd87b',\n",
       "  'size': 11105734,\n",
       "  'modified': datetime.datetime(2009, 7, 16, 0, 0)},\n",
       " '18_IV_Electronics_use.pdf': {'uuid': 'd18baeed-b36a-434a-bcd4-c9cc3c51f260',\n",
       "  'size': 1215698,\n",
       "  'modified': datetime.datetime(2009, 7, 16, 0, 0)},\n",
       " '18_I_Electronics_components.pdf': {'uuid': '80e197ec-44c4-4fa4-9dca-7267606f0c54',\n",
       "  'size': 4790026,\n",
       "  'modified': datetime.datetime(2009, 7, 16, 0, 0)},\n",
       " '18_V_Electronics_disposal.pdf': {'uuid': 'ec4e2e6a-b6d3-4cce-b393-c6d48e3176c9',\n",
       "  'size': 3208458,\n",
       "  'modified': datetime.datetime(2009, 7, 16, 0, 0)},\n",
       " '19_HighlyPureChemicals.pdf': {'uuid': 'eb2cb59e-4499-49f9-8430-a54cf2b52752',\n",
       "  'size': 4125246,\n",
       "  'modified': datetime.datetime(2009, 7, 16, 0, 0)},\n",
       " '20_SmallCombinedHeatPower.pdf': {'uuid': '60fa60af-9177-4055-8961-e0b400bffe24',\n",
       "  'size': 1014549,\n",
       "  'modified': datetime.datetime(2009, 7, 16, 0, 0)},\n",
       " '21_RenewableMaterials.pdf': {'uuid': '41c8ce12-ca4e-4bc2-b56a-bd78dc638aeb',\n",
       "  'size': 1240819,\n",
       "  'modified': datetime.datetime(2009, 7, 16, 0, 0)},\n",
       " '22_PetrochemicalSolvents.pdf': {'uuid': 'ae23b360-395b-4c70-84af-cd861616f662',\n",
       "  'size': 3299132,\n",
       "  'modified': datetime.datetime(2009, 7, 16, 0, 0)},\n",
       " '23_MechanicalEngineering.pdf': {'uuid': '27391a29-b94d-4114-a35e-b95855ff90ad',\n",
       "  'size': 2460390,\n",
       "  'modified': datetime.datetime(2009, 7, 16, 0, 0)},\n",
       " '25_Komfortlueftung.pdf': {'uuid': '0db7a8b0-fe2f-45e8-9723-6bcd81be2433',\n",
       "  'size': 1028692,\n",
       "  'modified': datetime.datetime(2009, 7, 16, 0, 0)},\n",
       " 'Pesticides_v2.2.pdf': {'uuid': '387c921e-299e-4611-93a4-48fe079183cf',\n",
       "  'size': 3237700,\n",
       "  'modified': datetime.datetime(2010, 8, 12, 0, 0)},\n",
       " 'ecoinventnames.xls': {'uuid': '34683a4b-b2e3-4141-b4f5-41b7913579ba',\n",
       "  'size': 1638400,\n",
       "  'modified': datetime.datetime(2010, 7, 19, 0, 0)}}"
      ]
     },
     "execution_count": 14,
     "metadata": {},
     "output_type": "execute_result"
    }
   ],
   "source": [
    "ei.list_report_files()"
   ]
  },
  {
   "cell_type": "markdown",
   "id": "6021481f-bfb8-473d-bf8a-b299cba53f0d",
   "metadata": {},
   "source": [
    "Downloading follows the same pattern as before:"
   ]
  },
  {
   "cell_type": "code",
   "execution_count": 15,
   "id": "53e42769-5ba6-40ad-9b54-8d5c0bc013ac",
   "metadata": {},
   "outputs": [
    {
     "data": {
      "text/plain": [
       "PosixPath('/Users/cmutel/Library/Application Support/EcoinventInterface/cache/Allocation, cut-off, EN15804_documentation.pdf')"
      ]
     },
     "execution_count": 15,
     "metadata": {},
     "output_type": "execute_result"
    }
   ],
   "source": [
    "ei.get_report('Allocation, cut-off, EN15804_documentation.pdf')"
   ]
  },
  {
   "cell_type": "markdown",
   "id": "fafc0b47-1637-4408-b86e-1e4d78d61ac1",
   "metadata": {},
   "source": [
    "Zip and 7z files are extracted by default.\n",
    "\n",
    "# `EcoinventProcess` interface\n",
    "\n",
    "This class gets data and reports for specific processes. It first needs to know what release version and system model to work with:"
   ]
  },
  {
   "cell_type": "code",
   "execution_count": 16,
   "id": "e6bb46c4-f150-451c-a019-6609149af82c",
   "metadata": {},
   "outputs": [],
   "source": [
    "from ecoinvent_interface import EcoinventProcess, Settings\n",
    "my_settings = Settings()\n",
    "ep = EcoinventProcess(my_settings)\n",
    "ep.set_release(version=\"3.7.1\", system_model=\"apos\")"
   ]
  },
  {
   "cell_type": "markdown",
   "id": "fc106b91-e952-47e6-87d4-21449fcac541",
   "metadata": {},
   "source": [
    "### Finding a dataset id\n",
    "\n",
    "The ecoinvent API uses integer indices (e.g. `https://ecoquery.ecoinvent.org/3.10/cutoff/dataset/7957`, and these values aren't found in the release values. We have cached these indices for versions `3.7.1`, `3.8`, and `3.9.1`. If you already know the integer index, you can use that:"
   ]
  },
  {
   "cell_type": "code",
   "execution_count": 17,
   "id": "9cdbbc20-e201-48da-b6e7-cb5dbe0c131c",
   "metadata": {},
   "outputs": [],
   "source": [
    "ep.select_process(dataset_id=\"1\")"
   ]
  },
  {
   "cell_type": "markdown",
   "id": "e2f13acc-b3f4-4ff2-b0f9-ceefc92b2c3a",
   "metadata": {},
   "source": [
    "You can also use the filename, if you know it:"
   ]
  },
  {
   "cell_type": "code",
   "execution_count": 18,
   "id": "4ba0e5fd-8fce-4a7f-8dff-0e286afe6d81",
   "metadata": {},
   "outputs": [
    {
     "data": {
      "text/plain": [
       "'1'"
      ]
     },
     "execution_count": 18,
     "metadata": {},
     "output_type": "execute_result"
    }
   ],
   "source": [
    "F = \"b0eb27dd-b87f-4ae9-9f69-57d811443a30_66c93e71-f32b-4591-901c-55395db5c132.spold\"\n",
    "ep.select_process(filename=F)\n",
    "ep.dataset_id"
   ]
  },
  {
   "cell_type": "markdown",
   "id": "a79e8f85-985a-426d-9c96-a0c9a41e754c",
   "metadata": {},
   "source": [
    "Finally, you can pass in a set of `attributes`. You should use the name, reference product, and/or location to uniquely identify a process. You don't need to give all attributes, but will get an error if the attributes aren't specific enough.\n",
    "\n",
    "`attributes` is a dictionary, and can take the following keys: `name` or `activity_name`, `reference product` or `reference_product`, and `location` or `geography`. The system will adapt the names as needed to find a match."
   ]
  },
  {
   "cell_type": "code",
   "execution_count": 19,
   "id": "932eb08a-c581-418b-8c7e-84c0f5e2b82d",
   "metadata": {},
   "outputs": [
    {
     "data": {
      "text/plain": [
       "'40'"
      ]
     },
     "execution_count": 19,
     "metadata": {},
     "output_type": "execute_result"
    }
   ],
   "source": [
    "ep.select_process(\n",
    "    attributes={\n",
    "        \"name\": \"rye seed production, Swiss integrated production, for sowing\",\n",
    "        \"location\": \"CH\",\n",
    "        \"reference product\": \"rye seed, Swiss integrated production, for sowing\",\n",
    "    }\n",
    ")\n",
    "ep.dataset_id"
   ]
  },
  {
   "cell_type": "markdown",
   "id": "259cf0ad-0302-4030-a689-e938a2aa0d66",
   "metadata": {},
   "source": [
    "### Basic process information\n",
    "\n",
    "Once you have selected the process, you can get basic information about that process:"
   ]
  },
  {
   "cell_type": "code",
   "execution_count": 21,
   "id": "29698319-16a2-46c8-8634-36ad4f2a6968",
   "metadata": {},
   "outputs": [
    {
     "data": {
      "text/plain": [
       "{'index': 40,\n",
       " 'version': '3.7.1',\n",
       " 'system_model': 'apos',\n",
       " 'activity_name': 'rye seed production, Swiss integrated production, for sowing',\n",
       " 'geography': {'comment': None,\n",
       "  'short_name': 'CH',\n",
       "  'long_name': 'Switzerland'},\n",
       " 'reference_product': 'rye seed, Swiss integrated production, for sowing',\n",
       " 'has_access': True,\n",
       " 'unit': 'kg',\n",
       " 'sector': 'Agriculture & Animal Husbandry'}"
      ]
     },
     "execution_count": 21,
     "metadata": {},
     "output_type": "execute_result"
    }
   ],
   "source": [
    "ep.get_basic_info()"
   ]
  },
  {
   "cell_type": "markdown",
   "id": "c537bced-df18-4159-9b42-dc054ab11271",
   "metadata": {},
   "source": [
    "You can also call `ep.get_documentation()` to get a representation of the ecospold2 XML file in Python.\n",
    "\n",
    "### Process documents\n",
    "\n",
    "You can use `ep.get_file` with one of the following file types to download process files:\n",
    "\n",
    "* ProcessFileType.upr: Unit Process ecospold XML\n",
    "* ProcessFileType.lci: Life Cycle Inventory ecospold XML\n",
    "* ProcessFileType.lcia: Life Cycle Impact Assessment ecospold XML\n",
    "* ProcessFileType.pdf: PDF Dataset Report\n",
    "* ProcessFileType.undefined: Undefined (unlinked and multi-output) Dataset PDF Report\n",
    "\n",
    "For example:"
   ]
  },
  {
   "cell_type": "code",
   "execution_count": 22,
   "id": "84ab4835-8054-45db-8be1-24e4ba63c4d6",
   "metadata": {},
   "outputs": [
    {
     "data": {
      "text/plain": [
       "PosixPath('/Users/cmutel/Code/DdS/brightcon-2024-material/talks/Thursday/ecoinvent_XXX talk/ecoinvent-3.7.1-apos-lcia-40.xml')"
      ]
     },
     "execution_count": 22,
     "metadata": {},
     "output_type": "execute_result"
    }
   ],
   "source": [
    "from ecoinvent_interface import ProcessFileType\n",
    "from pathlib import Path\n",
    "ep.get_file(file_type=ProcessFileType.lcia, directory=Path.cwd())"
   ]
  },
  {
   "cell_type": "markdown",
   "id": "54604c6f-4e6b-41d3-9653-024115c3457f",
   "metadata": {},
   "source": [
    "Would download the life cycle impact assessment ecospold XML file to the current working directory. The `get_file` method requires specifying the `directory`.\n",
    "\n",
    "# Relationship to EIDL\n",
    "\n",
    "This library initially started as a fork of [EIDL](https://github.com/haasad/EcoInventDownLoader), the ecoinvent downloader. As of version 2.0, it has been completely rewritten. Currently only the authentication code comes from `EIDL`.\n",
    "\n",
    "Differences with `EIDL`:\n",
    "\n",
    "* Designed to be a lower-level infrastructure library. All user and web browser interaction was removed.\n",
    "* Username and password can be specified using [pydantic_settings](https://docs.pydantic.dev/latest/usage/pydantic_settings/).\n",
    "* Can download all release files, plus reports and \"extra\" files.\n",
    "* Will autocorrect filenames when possible for ecoinvent inconsistencies.\n",
    "* Can download data on inventory processes.\n",
    "* Can find inventory processes using their filename or attributes.\n",
    "* Uses a more robust caching and cache validation strategy.\n",
    "* More reasonable token refresh strategy.\n",
    "* No HTML parsing or filename string hacks.\n",
    "* Streaming downloads.\n",
    "* Descriptive logging and error messages.\n",
    "* No shortcuts for Brightway or other LCA software.\n",
    "* Custom library headers are set to allow users of this library to be identified. No user information is transmitted.\n",
    "* Comprehensive tests."
   ]
  },
  {
   "cell_type": "markdown",
   "id": "ba7d9ba7-4f01-40d9-8799-2fbb6402a098",
   "metadata": {},
   "source": [
    "# Usage in `brightway`\n",
    "\n",
    "You will be much happier in life if you use `bw2io.import_ecoinvent_release` instead of trying to work with the raw ecoinvent data.\n",
    "\n",
    "Here are the input arguments for this function:\n",
    "\n",
    "* version: The ecoinvent release version as a string, e.g. '3.9.1'\n",
    "* system_model: The system model as a string in short or long form, e.g. 'apos' or 'Allocation cut-off by classification'\n",
    "* username: ecoinvent username\n",
    "* password: ecoinvent password\n",
    "* lci: Flag on whether to import the inventory database\n",
    "* lcia: Flag on whether to import the LCIA impact categories. The biosphere database must exist if `lci` is `False`\n",
    "* biosphere_name: Name of database to store biosphere flows. They will be stored in the main LCI database if not specified.\n",
    "* biosphere_write_mode: How to handle an existing biosphere database. Must be either `replace` or `patch`\n",
    "* importer_signal: Used by the Activity Browser to provide feedback during the import\n",
    "* namespace_lcia_methods: Add ecoinvent version as a prefix to LCIA impact categories, e.g. `(\"ecoinvent-3.9.1\", \"global warming\")`. Helps clarify the version intended for use, and allows for multiple LCIA implementation versions to be installed in parallel\n",
    "\n",
    "See [the source code](https://github.com/brightway-lca/brightway2-io/blob/main/bw2io/ecoinvent.py#L174) for all the things that we need to fix to get imports working."
   ]
  },
  {
   "cell_type": "code",
   "execution_count": 1,
   "id": "3869073b-7b56-4ec1-87c7-58ba6293c37e",
   "metadata": {},
   "outputs": [],
   "source": [
    "import bw2data as bd\n",
    "import bw2io as bi"
   ]
  },
  {
   "cell_type": "code",
   "execution_count": 2,
   "id": "12d4af2d-2150-4419-9d62-e7bcba7af854",
   "metadata": {},
   "outputs": [],
   "source": [
    "bd.projects.set_current(\"ecoinvent_interface demo\")"
   ]
  },
  {
   "cell_type": "code",
   "execution_count": 3,
   "id": "495afbc3-8e5e-4b6a-b4fd-d481343eda0f",
   "metadata": {},
   "outputs": [
    {
     "name": "stdout",
     "output_type": "stream",
     "text": [
      "Applying strategy: normalize_units\n",
      "Applying strategy: drop_unspecified_subcategories\n",
      "Applying strategy: ensure_categories_are_tuples\n",
      "Applied 3 strategies in 0.00 seconds\n",
      "4421 datasets\n",
      "\t0 exchanges\n",
      "\tLinks to the following databases:\n",
      "\n",
      "\t0 unlinked exchanges (0 types)\n",
      "\t\t\n"
     ]
    },
    {
     "name": "stderr",
     "output_type": "stream",
     "text": [
      "100%|████████████████████████████████████| 4421/4421 [00:00<00:00, 59619.06it/s]"
     ]
    },
    {
     "name": "stdout",
     "output_type": "stream",
     "text": [
      "Vacuuming database \n"
     ]
    },
    {
     "name": "stderr",
     "output_type": "stream",
     "text": [
      "\n"
     ]
    },
    {
     "name": "stdout",
     "output_type": "stream",
     "text": [
      "Created database: ecoinvent-3.8-biosphere\n",
      "Extracting XML data from 19565 datasets\n",
      "Extracted 19565 datasets in 25.04 seconds\n",
      "Applying strategy: normalize_units\n",
      "Applying strategy: update_ecoinvent_locations\n",
      "Applying strategy: remove_zero_amount_coproducts\n",
      "Applying strategy: remove_zero_amount_inputs_with_no_activity\n",
      "Applying strategy: remove_unnamed_parameters\n",
      "Applying strategy: es2_assign_only_product_with_amount_as_reference_product\n",
      "Applying strategy: assign_single_product_as_activity\n",
      "Applying strategy: create_composite_code\n",
      "Applying strategy: drop_unspecified_subcategories\n",
      "Applying strategy: fix_ecoinvent_flows_pre35\n",
      "Applying strategy: drop_temporary_outdated_biosphere_flows\n",
      "Applying strategy: link_biosphere_by_flow_uuid\n",
      "Applying strategy: link_internal_technosphere_by_composite_code\n",
      "Applying strategy: delete_exchanges_missing_activity\n",
      "Applying strategy: delete_ghost_exchanges\n",
      "Applying strategy: remove_uncertainty_from_negative_loss_exchanges\n",
      "Applying strategy: fix_unreasonably_high_lognormal_uncertainties\n",
      "Applying strategy: convert_activity_parameters_to_list\n",
      "Applying strategy: add_cpc_classification_from_single_reference_product\n",
      "Applying strategy: delete_none_synonyms\n",
      "Applying strategy: update_social_flows_in_older_consequential\n",
      "Applying strategy: set_lognormal_loc_value\n",
      "Applied 22 strategies in 2.63 seconds\n",
      "19565 datasets\n",
      "\t629959 exchanges\n",
      "\tLinks to the following databases:\n",
      "\t\tecoinvent-3.8-biosphere (388452 exchanges)\n",
      "\t\tecoinvent-3.8-cutoff (241507 exchanges)\n",
      "\t0 unlinked exchanges (0 types)\n",
      "\t\t\n",
      "Not able to determine geocollections for all datasets. This database is not ready for regionalization.\n"
     ]
    },
    {
     "name": "stderr",
     "output_type": "stream",
     "text": [
      "100%|████████████████████████████████████| 19565/19565 [00:23<00:00, 835.84it/s]\n"
     ]
    },
    {
     "name": "stdout",
     "output_type": "stream",
     "text": [
      "Vacuuming database \n",
      "Created database: ecoinvent-3.8-cutoff\n",
      "Substituting Chlortoluron for Chlorotoluron\n",
      "Skipping unmatched flow Cyfluthrin:(soil, agricultural)\n",
      "Substituting Thiophanate-methyl for Thiophanat-methyl\n",
      "Substituting Fluorochloridone for Flurochloridone\n"
     ]
    }
   ],
   "source": [
    "bi.import_ecoinvent_release(\"3.8\", \"cutoff\")"
   ]
  },
  {
   "cell_type": "code",
   "execution_count": null,
   "id": "7c71dd6f-ef3a-4bea-afe1-20a7dbbd76f9",
   "metadata": {},
   "outputs": [],
   "source": []
  }
 ],
 "metadata": {
  "kernelspec": {
   "display_name": "Python [conda env:dlt]",
   "language": "python",
   "name": "conda-env-dlt-py"
  },
  "language_info": {
   "codemirror_mode": {
    "name": "ipython",
    "version": 3
   },
   "file_extension": ".py",
   "mimetype": "text/x-python",
   "name": "python",
   "nbconvert_exporter": "python",
   "pygments_lexer": "ipython3",
   "version": "3.12.6"
  }
 },
 "nbformat": 4,
 "nbformat_minor": 5
}
