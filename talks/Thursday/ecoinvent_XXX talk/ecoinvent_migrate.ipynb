{
 "cells": [
  {
   "cell_type": "markdown",
   "id": "fb72c66f-8896-42ee-84d3-2e012b4aa820",
   "metadata": {},
   "source": [
    "# `ecoinvent_migrate` Library\n",
    "\n",
    "`ecoinvent_migrate` makes the change report Excel files from ecoinvent usable.\n",
    "\n",
    "These files are designed to allow for relinking against new versions of ecoinvent, **not** for updating an existing ecoinvent installation.\n",
    "\n",
    "This library requires a valid ecoinvent license for all functionality. Output files are provided in the `outputs` directory."
   ]
  },
  {
   "cell_type": "markdown",
   "id": "c2328d09-5479-4ab8-bc63-5034d5bc3cff",
   "metadata": {},
   "source": [
    "## Usage\n",
    "\n",
    "Migration are from one release to the next, e.g. from 3.5 to 3.6. There are separate files, and separate functions, for technosphere and biosphere edges. The files produced are serialized to JSON and software agnostic, but play well with the Brightway ecosystem.\n",
    "\n",
    "### Technosphere\n",
    "\n",
    "The technosphere mapping needs to install both versions of the ecoinvent release, as the provided changes file does not give enough information to do mapping. Specifically, we need to use the information in the release to look up the production volumes in order to do production-weighted `1-to-N` disaggregations."
   ]
  },
  {
   "cell_type": "code",
   "execution_count": 1,
   "id": "afc46dea-c8fb-4ef8-9423-34a716d606cf",
   "metadata": {},
   "outputs": [
    {
     "name": "stderr",
     "output_type": "stream",
     "text": [
      "\u001b[32m2024-09-25 23:33:22.908\u001b[0m | \u001b[1mINFO    \u001b[0m | \u001b[36mecoinvent_migrate.utils\u001b[0m:\u001b[36mconfigure_logs\u001b[0m:\u001b[36m18\u001b[0m - \u001b[1mWriting logs to /Users/cmutel/Library/Logs/ecoinvent_migrate/2024-09-25T23-33-22\u001b[0m\n",
      "\u001b[32m2024-09-25 23:33:23.885\u001b[0m | \u001b[1mINFO    \u001b[0m | \u001b[36mecoinvent_migrate.main\u001b[0m:\u001b[36mget_change_report_context\u001b[0m:\u001b[36m61\u001b[0m - \u001b[1mVersions available for this license: ['3.10', '3.9.1', '3.9', '3.8', '3.7.1', '3.7', '3.6', '3.5', '3.4', '3.3', '3.2', '3.1', '3.01', '2']\u001b[0m\n",
      "\u001b[32m2024-09-25 23:33:24.472\u001b[0m | \u001b[1mINFO    \u001b[0m | \u001b[36mecoinvent_migrate.main\u001b[0m:\u001b[36mget_change_report_context\u001b[0m:\u001b[36m74\u001b[0m - \u001b[1mUsing change report annex file Change Report Annex v3.7.1 - v3.8.xlsx\u001b[0m\n",
      "\u001b[32m2024-09-25 23:33:27.741\u001b[0m | \u001b[1mINFO    \u001b[0m | \u001b[36mecoinvent_migrate.data_io\u001b[0m:\u001b[36mget_brightway_databases\u001b[0m:\u001b[36m113\u001b[0m - \u001b[1mLoading source database ecoinvent-3.7.1-cutoff to cache data attributes\u001b[0m\n",
      "\u001b[32m2024-09-25 23:33:28.508\u001b[0m | \u001b[1mINFO    \u001b[0m | \u001b[36mecoinvent_migrate.data_io\u001b[0m:\u001b[36mget_brightway_databases\u001b[0m:\u001b[36m118\u001b[0m - \u001b[1mLoading target database ecoinvent-3.8-cutoff to cache data attributes\u001b[0m\n",
      "\u001b[32m2024-09-25 23:33:29.536\u001b[0m | \u001b[33m\u001b[1mWARNING \u001b[0m | \u001b[36mecoinvent_migrate.wrangling\u001b[0m:\u001b[36mresolve_glo_row_rer_roe\u001b[0m:\u001b[36m221\u001b[0m - \u001b[33m\u001b[1mTarget process given in change report but missing in ecoinvent-3.8-cutoff lookup: {'name': 'heavy mineral sand quarry operation and titania slag production', 'location': 'GLO', 'reference product': 'titania slag, 85% titanium dioxide', 'unit': 'kg'}\u001b[0m\n",
      "\u001b[32m2024-09-25 23:33:29.542\u001b[0m | \u001b[33m\u001b[1mWARNING \u001b[0m | \u001b[36mecoinvent_migrate.wrangling\u001b[0m:\u001b[36mresolve_glo_row_rer_roe\u001b[0m:\u001b[36m221\u001b[0m - \u001b[33m\u001b[1mTarget process given in change report but missing in ecoinvent-3.8-cutoff lookup: {'name': 'iron ore mine operation and beneficiation', 'location': 'GLO', 'reference product': 'iron ore concentrate', 'unit': 'kg'}\u001b[0m\n",
      "\u001b[32m2024-09-25 23:33:29.622\u001b[0m | \u001b[33m\u001b[1mWARNING \u001b[0m | \u001b[36mecoinvent_migrate.wrangling\u001b[0m:\u001b[36mresolve_glo_row_rer_roe\u001b[0m:\u001b[36m221\u001b[0m - \u001b[33m\u001b[1mTarget process given in change report but missing in ecoinvent-3.8-cutoff lookup: {'name': 'rutile production, synthetic, 95% titanium dioxide, Becher process', 'location': 'GLO', 'reference product': 'rutile, 95% titanium dioxide', 'unit': 'kg'}\u001b[0m\n",
      "\u001b[32m2024-09-25 23:33:29.622\u001b[0m | \u001b[33m\u001b[1mWARNING \u001b[0m | \u001b[36mecoinvent_migrate.wrangling\u001b[0m:\u001b[36mresolve_glo_row_rer_roe\u001b[0m:\u001b[36m221\u001b[0m - \u001b[33m\u001b[1mTarget process given in change report but missing in ecoinvent-3.8-cutoff lookup: {'name': 'rutile production, synthetic, 95% titanium dioxide, Benelite process', 'location': 'GLO', 'reference product': 'rutile, 95% titanium dioxide', 'unit': 'kg'}\u001b[0m\n",
      "\u001b[32m2024-09-25 23:33:29.710\u001b[0m | \u001b[33m\u001b[1mWARNING \u001b[0m | \u001b[36mecoinvent_migrate.wrangling\u001b[0m:\u001b[36mdisaggregated\u001b[0m:\u001b[36m259\u001b[0m - \u001b[33m\u001b[1mChange report annex dataset missing from database.\n",
      "    This is likely a publication error which you can't fix.\n",
      "    Removing the following from migrations:\n",
      "    {'name': 'market for electricity, high voltage', 'location': 'GLO', 'reference product': 'electricity, high voltage', 'unit': 'kWh'}\u001b[0m\n",
      "\u001b[32m2024-09-25 23:33:29.712\u001b[0m | \u001b[33m\u001b[1mWARNING \u001b[0m | \u001b[36mecoinvent_migrate.wrangling\u001b[0m:\u001b[36mdisaggregated\u001b[0m:\u001b[36m259\u001b[0m - \u001b[33m\u001b[1mChange report annex dataset missing from database.\n",
      "    This is likely a publication error which you can't fix.\n",
      "    Removing the following from migrations:\n",
      "    {'name': 'market for electricity, low voltage', 'location': 'GLO', 'reference product': 'electricity, low voltage', 'unit': 'kWh'}\u001b[0m\n",
      "\u001b[32m2024-09-25 23:33:29.713\u001b[0m | \u001b[33m\u001b[1mWARNING \u001b[0m | \u001b[36mecoinvent_migrate.wrangling\u001b[0m:\u001b[36mdisaggregated\u001b[0m:\u001b[36m259\u001b[0m - \u001b[33m\u001b[1mChange report annex dataset missing from database.\n",
      "    This is likely a publication error which you can't fix.\n",
      "    Removing the following from migrations:\n",
      "    {'name': 'market for electricity, medium voltage', 'location': 'GLO', 'reference product': 'electricity, medium voltage', 'unit': 'kWh'}\u001b[0m\n",
      "\u001b[32m2024-09-25 23:33:29.720\u001b[0m | \u001b[33m\u001b[1mWARNING \u001b[0m | \u001b[36mecoinvent_migrate.wrangling\u001b[0m:\u001b[36mdisaggregated\u001b[0m:\u001b[36m259\u001b[0m - \u001b[33m\u001b[1mChange report annex dataset missing from database.\n",
      "    This is likely a publication error which you can't fix.\n",
      "    Removing the following from migrations:\n",
      "    {'name': 'market for transport, freight, lorry 16-32 metric ton, EURO1', 'location': 'GLO', 'reference product': 'transport, freight, lorry 16-32 metric ton, EURO1', 'unit': 'metric ton*km'}\u001b[0m\n",
      "\u001b[32m2024-09-25 23:33:29.721\u001b[0m | \u001b[33m\u001b[1mWARNING \u001b[0m | \u001b[36mecoinvent_migrate.wrangling\u001b[0m:\u001b[36mdisaggregated\u001b[0m:\u001b[36m259\u001b[0m - \u001b[33m\u001b[1mChange report annex dataset missing from database.\n",
      "    This is likely a publication error which you can't fix.\n",
      "    Removing the following from migrations:\n",
      "    {'name': 'market for transport, freight, lorry 16-32 metric ton, EURO2', 'location': 'GLO', 'reference product': 'transport, freight, lorry 16-32 metric ton, EURO2', 'unit': 'metric ton*km'}\u001b[0m\n",
      "\u001b[32m2024-09-25 23:33:29.726\u001b[0m | \u001b[33m\u001b[1mWARNING \u001b[0m | \u001b[36mecoinvent_migrate.wrangling\u001b[0m:\u001b[36mdisaggregated\u001b[0m:\u001b[36m259\u001b[0m - \u001b[33m\u001b[1mChange report annex dataset missing from database.\n",
      "    This is likely a publication error which you can't fix.\n",
      "    Removing the following from migrations:\n",
      "    {'name': 'market for transport, freight, lorry 16-32 metric ton, unregulated', 'location': 'GLO', 'reference product': 'transport, freight, lorry 16-32 metric ton, unregulated', 'unit': 'metric ton*km'}\u001b[0m\n",
      "\u001b[32m2024-09-25 23:33:29.727\u001b[0m | \u001b[33m\u001b[1mWARNING \u001b[0m | \u001b[36mecoinvent_migrate.wrangling\u001b[0m:\u001b[36mdisaggregated\u001b[0m:\u001b[36m259\u001b[0m - \u001b[33m\u001b[1mChange report annex dataset missing from database.\n",
      "    This is likely a publication error which you can't fix.\n",
      "    Removing the following from migrations:\n",
      "    {'name': 'market for transport, freight, lorry 3.5-7.5 metric ton, EURO1', 'location': 'GLO', 'reference product': 'transport, freight, lorry 3.5-7.5 metric ton, EURO1', 'unit': 'metric ton*km'}\u001b[0m\n",
      "\u001b[32m2024-09-25 23:33:29.728\u001b[0m | \u001b[33m\u001b[1mWARNING \u001b[0m | \u001b[36mecoinvent_migrate.wrangling\u001b[0m:\u001b[36mdisaggregated\u001b[0m:\u001b[36m259\u001b[0m - \u001b[33m\u001b[1mChange report annex dataset missing from database.\n",
      "    This is likely a publication error which you can't fix.\n",
      "    Removing the following from migrations:\n",
      "    {'name': 'market for transport, freight, lorry 3.5-7.5 metric ton, EURO2', 'location': 'GLO', 'reference product': 'transport, freight, lorry 3.5-7.5 metric ton, EURO2', 'unit': 'metric ton*km'}\u001b[0m\n",
      "\u001b[32m2024-09-25 23:33:29.732\u001b[0m | \u001b[33m\u001b[1mWARNING \u001b[0m | \u001b[36mecoinvent_migrate.wrangling\u001b[0m:\u001b[36mdisaggregated\u001b[0m:\u001b[36m259\u001b[0m - \u001b[33m\u001b[1mChange report annex dataset missing from database.\n",
      "    This is likely a publication error which you can't fix.\n",
      "    Removing the following from migrations:\n",
      "    {'name': 'market for transport, freight, lorry 3.5-7.5 metric ton, unregulated', 'location': 'GLO', 'reference product': 'transport, freight, lorry 3.5-7.5 metric ton, unregulated', 'unit': 'metric ton*km'}\u001b[0m\n",
      "\u001b[32m2024-09-25 23:33:29.733\u001b[0m | \u001b[33m\u001b[1mWARNING \u001b[0m | \u001b[36mecoinvent_migrate.wrangling\u001b[0m:\u001b[36mdisaggregated\u001b[0m:\u001b[36m259\u001b[0m - \u001b[33m\u001b[1mChange report annex dataset missing from database.\n",
      "    This is likely a publication error which you can't fix.\n",
      "    Removing the following from migrations:\n",
      "    {'name': 'market for transport, freight, lorry 7.5-16 metric ton, EURO1', 'location': 'GLO', 'reference product': 'transport, freight, lorry 7.5-16 metric ton, EURO1', 'unit': 'metric ton*km'}\u001b[0m\n",
      "\u001b[32m2024-09-25 23:33:29.734\u001b[0m | \u001b[33m\u001b[1mWARNING \u001b[0m | \u001b[36mecoinvent_migrate.wrangling\u001b[0m:\u001b[36mdisaggregated\u001b[0m:\u001b[36m259\u001b[0m - \u001b[33m\u001b[1mChange report annex dataset missing from database.\n",
      "    This is likely a publication error which you can't fix.\n",
      "    Removing the following from migrations:\n",
      "    {'name': 'market for transport, freight, lorry 7.5-16 metric ton, EURO2', 'location': 'GLO', 'reference product': 'transport, freight, lorry 7.5-16 metric ton, EURO2', 'unit': 'metric ton*km'}\u001b[0m\n",
      "\u001b[32m2024-09-25 23:33:29.738\u001b[0m | \u001b[33m\u001b[1mWARNING \u001b[0m | \u001b[36mecoinvent_migrate.wrangling\u001b[0m:\u001b[36mdisaggregated\u001b[0m:\u001b[36m259\u001b[0m - \u001b[33m\u001b[1mChange report annex dataset missing from database.\n",
      "    This is likely a publication error which you can't fix.\n",
      "    Removing the following from migrations:\n",
      "    {'name': 'market for transport, freight, lorry 7.5-16 metric ton, unregulated', 'location': 'GLO', 'reference product': 'transport, freight, lorry 7.5-16 metric ton, unregulated', 'unit': 'metric ton*km'}\u001b[0m\n",
      "\u001b[32m2024-09-25 23:33:29.740\u001b[0m | \u001b[33m\u001b[1mWARNING \u001b[0m | \u001b[36mecoinvent_migrate.wrangling\u001b[0m:\u001b[36mdisaggregated\u001b[0m:\u001b[36m259\u001b[0m - \u001b[33m\u001b[1mChange report annex dataset missing from database.\n",
      "    This is likely a publication error which you can't fix.\n",
      "    Removing the following from migrations:\n",
      "    {'name': 'market for transport, freight, lorry >32 metric ton, EURO1', 'location': 'GLO', 'reference product': 'transport, freight, lorry >32 metric ton, EURO1', 'unit': 'metric ton*km'}\u001b[0m\n",
      "\u001b[32m2024-09-25 23:33:29.741\u001b[0m | \u001b[33m\u001b[1mWARNING \u001b[0m | \u001b[36mecoinvent_migrate.wrangling\u001b[0m:\u001b[36mdisaggregated\u001b[0m:\u001b[36m259\u001b[0m - \u001b[33m\u001b[1mChange report annex dataset missing from database.\n",
      "    This is likely a publication error which you can't fix.\n",
      "    Removing the following from migrations:\n",
      "    {'name': 'market for transport, freight, lorry >32 metric ton, EURO2', 'location': 'GLO', 'reference product': 'transport, freight, lorry >32 metric ton, EURO2', 'unit': 'metric ton*km'}\u001b[0m\n",
      "\u001b[32m2024-09-25 23:33:29.745\u001b[0m | \u001b[33m\u001b[1mWARNING \u001b[0m | \u001b[36mecoinvent_migrate.wrangling\u001b[0m:\u001b[36mdisaggregated\u001b[0m:\u001b[36m259\u001b[0m - \u001b[33m\u001b[1mChange report annex dataset missing from database.\n",
      "    This is likely a publication error which you can't fix.\n",
      "    Removing the following from migrations:\n",
      "    {'name': 'market for transport, freight, lorry >32 metric ton, unregulated', 'location': 'GLO', 'reference product': 'transport, freight, lorry >32 metric ton, unregulated', 'unit': 'metric ton*km'}\u001b[0m\n",
      "\u001b[32m2024-09-25 23:33:29.770\u001b[0m | \u001b[33m\u001b[1mWARNING \u001b[0m | \u001b[36mecoinvent_migrate.wrangling\u001b[0m:\u001b[36mdisaggregated\u001b[0m:\u001b[36m259\u001b[0m - \u001b[33m\u001b[1mChange report annex dataset missing from database.\n",
      "    This is likely a publication error which you can't fix.\n",
      "    Removing the following from migrations:\n",
      "    {'name': 'rutile production, synthetic, 95% titanium dioxide, Becher process', 'location': 'GLO', 'reference product': 'rutile, 95% titanium dioxide', 'unit': 'kg'}\u001b[0m\n",
      "\u001b[32m2024-09-25 23:33:29.770\u001b[0m | \u001b[33m\u001b[1mWARNING \u001b[0m | \u001b[36mecoinvent_migrate.wrangling\u001b[0m:\u001b[36mdisaggregated\u001b[0m:\u001b[36m259\u001b[0m - \u001b[33m\u001b[1mChange report annex dataset missing from database.\n",
      "    This is likely a publication error which you can't fix.\n",
      "    Removing the following from migrations:\n",
      "    {'name': 'rutile production, synthetic, 95% titanium dioxide, Benelite process', 'location': 'GLO', 'reference product': 'rutile, 95% titanium dioxide', 'unit': 'kg'}\u001b[0m\n",
      "\u001b[32m2024-09-25 23:33:29.796\u001b[0m | \u001b[33m\u001b[1mWARNING \u001b[0m | \u001b[36mecoinvent_migrate.wrangling\u001b[0m:\u001b[36mdisaggregated\u001b[0m:\u001b[36m259\u001b[0m - \u001b[33m\u001b[1mChange report annex dataset missing from database.\n",
      "    This is likely a publication error which you can't fix.\n",
      "    Removing the following from migrations:\n",
      "    {'name': 'transport, freight, lorry 16-32 metric ton, EURO1', 'location': 'GLO', 'reference product': 'transport, freight, lorry 16-32 metric ton, EURO1', 'unit': 'metric ton*km'}\u001b[0m\n",
      "\u001b[32m2024-09-25 23:33:29.798\u001b[0m | \u001b[33m\u001b[1mWARNING \u001b[0m | \u001b[36mecoinvent_migrate.wrangling\u001b[0m:\u001b[36mdisaggregated\u001b[0m:\u001b[36m259\u001b[0m - \u001b[33m\u001b[1mChange report annex dataset missing from database.\n",
      "    This is likely a publication error which you can't fix.\n",
      "    Removing the following from migrations:\n",
      "    {'name': 'transport, freight, lorry 16-32 metric ton, EURO2', 'location': 'GLO', 'reference product': 'transport, freight, lorry 16-32 metric ton, EURO2', 'unit': 'metric ton*km'}\u001b[0m\n",
      "\u001b[32m2024-09-25 23:33:29.804\u001b[0m | \u001b[33m\u001b[1mWARNING \u001b[0m | \u001b[36mecoinvent_migrate.wrangling\u001b[0m:\u001b[36mdisaggregated\u001b[0m:\u001b[36m259\u001b[0m - \u001b[33m\u001b[1mChange report annex dataset missing from database.\n",
      "    This is likely a publication error which you can't fix.\n",
      "    Removing the following from migrations:\n",
      "    {'name': 'transport, freight, lorry 16-32 metric ton, unregulated', 'location': 'GLO', 'reference product': 'transport, freight, lorry 16-32 metric ton, unregulated', 'unit': 'metric ton*km'}\u001b[0m\n",
      "\u001b[32m2024-09-25 23:33:29.805\u001b[0m | \u001b[33m\u001b[1mWARNING \u001b[0m | \u001b[36mecoinvent_migrate.wrangling\u001b[0m:\u001b[36mdisaggregated\u001b[0m:\u001b[36m259\u001b[0m - \u001b[33m\u001b[1mChange report annex dataset missing from database.\n",
      "    This is likely a publication error which you can't fix.\n",
      "    Removing the following from migrations:\n",
      "    {'name': 'transport, freight, lorry 3.5-7.5 metric ton, EURO1', 'location': 'GLO', 'reference product': 'transport, freight, lorry 3.5-7.5 metric ton, EURO1', 'unit': 'metric ton*km'}\u001b[0m\n",
      "\u001b[32m2024-09-25 23:33:29.807\u001b[0m | \u001b[33m\u001b[1mWARNING \u001b[0m | \u001b[36mecoinvent_migrate.wrangling\u001b[0m:\u001b[36mdisaggregated\u001b[0m:\u001b[36m259\u001b[0m - \u001b[33m\u001b[1mChange report annex dataset missing from database.\n",
      "    This is likely a publication error which you can't fix.\n",
      "    Removing the following from migrations:\n",
      "    {'name': 'transport, freight, lorry 3.5-7.5 metric ton, EURO2', 'location': 'GLO', 'reference product': 'transport, freight, lorry 3.5-7.5 metric ton, EURO2', 'unit': 'metric ton*km'}\u001b[0m\n",
      "\u001b[32m2024-09-25 23:33:29.812\u001b[0m | \u001b[33m\u001b[1mWARNING \u001b[0m | \u001b[36mecoinvent_migrate.wrangling\u001b[0m:\u001b[36mdisaggregated\u001b[0m:\u001b[36m259\u001b[0m - \u001b[33m\u001b[1mChange report annex dataset missing from database.\n",
      "    This is likely a publication error which you can't fix.\n",
      "    Removing the following from migrations:\n",
      "    {'name': 'transport, freight, lorry 3.5-7.5 metric ton, unregulated', 'location': 'GLO', 'reference product': 'transport, freight, lorry 3.5-7.5 metric ton, unregulated', 'unit': 'metric ton*km'}\u001b[0m\n",
      "\u001b[32m2024-09-25 23:33:29.813\u001b[0m | \u001b[33m\u001b[1mWARNING \u001b[0m | \u001b[36mecoinvent_migrate.wrangling\u001b[0m:\u001b[36mdisaggregated\u001b[0m:\u001b[36m259\u001b[0m - \u001b[33m\u001b[1mChange report annex dataset missing from database.\n",
      "    This is likely a publication error which you can't fix.\n",
      "    Removing the following from migrations:\n",
      "    {'name': 'transport, freight, lorry 7.5-16 metric ton, EURO1', 'location': 'GLO', 'reference product': 'transport, freight, lorry 7.5-16 metric ton, EURO1', 'unit': 'metric ton*km'}\u001b[0m\n",
      "\u001b[32m2024-09-25 23:33:29.814\u001b[0m | \u001b[33m\u001b[1mWARNING \u001b[0m | \u001b[36mecoinvent_migrate.wrangling\u001b[0m:\u001b[36mdisaggregated\u001b[0m:\u001b[36m259\u001b[0m - \u001b[33m\u001b[1mChange report annex dataset missing from database.\n",
      "    This is likely a publication error which you can't fix.\n",
      "    Removing the following from migrations:\n",
      "    {'name': 'transport, freight, lorry 7.5-16 metric ton, EURO2', 'location': 'GLO', 'reference product': 'transport, freight, lorry 7.5-16 metric ton, EURO2', 'unit': 'metric ton*km'}\u001b[0m\n",
      "\u001b[32m2024-09-25 23:33:29.820\u001b[0m | \u001b[33m\u001b[1mWARNING \u001b[0m | \u001b[36mecoinvent_migrate.wrangling\u001b[0m:\u001b[36mdisaggregated\u001b[0m:\u001b[36m259\u001b[0m - \u001b[33m\u001b[1mChange report annex dataset missing from database.\n",
      "    This is likely a publication error which you can't fix.\n",
      "    Removing the following from migrations:\n",
      "    {'name': 'transport, freight, lorry 7.5-16 metric ton, unregulated', 'location': 'GLO', 'reference product': 'transport, freight, lorry 7.5-16 metric ton, unregulated', 'unit': 'metric ton*km'}\u001b[0m\n",
      "\u001b[32m2024-09-25 23:33:29.821\u001b[0m | \u001b[33m\u001b[1mWARNING \u001b[0m | \u001b[36mecoinvent_migrate.wrangling\u001b[0m:\u001b[36mdisaggregated\u001b[0m:\u001b[36m259\u001b[0m - \u001b[33m\u001b[1mChange report annex dataset missing from database.\n",
      "    This is likely a publication error which you can't fix.\n",
      "    Removing the following from migrations:\n",
      "    {'name': 'transport, freight, lorry >32 metric ton, EURO1', 'location': 'GLO', 'reference product': 'transport, freight, lorry >32 metric ton, EURO1', 'unit': 'metric ton*km'}\u001b[0m\n",
      "\u001b[32m2024-09-25 23:33:29.822\u001b[0m | \u001b[33m\u001b[1mWARNING \u001b[0m | \u001b[36mecoinvent_migrate.wrangling\u001b[0m:\u001b[36mdisaggregated\u001b[0m:\u001b[36m259\u001b[0m - \u001b[33m\u001b[1mChange report annex dataset missing from database.\n",
      "    This is likely a publication error which you can't fix.\n",
      "    Removing the following from migrations:\n",
      "    {'name': 'transport, freight, lorry >32 metric ton, EURO2', 'location': 'GLO', 'reference product': 'transport, freight, lorry >32 metric ton, EURO2', 'unit': 'metric ton*km'}\u001b[0m\n",
      "\u001b[32m2024-09-25 23:33:29.828\u001b[0m | \u001b[33m\u001b[1mWARNING \u001b[0m | \u001b[36mecoinvent_migrate.wrangling\u001b[0m:\u001b[36mdisaggregated\u001b[0m:\u001b[36m259\u001b[0m - \u001b[33m\u001b[1mChange report annex dataset missing from database.\n",
      "    This is likely a publication error which you can't fix.\n",
      "    Removing the following from migrations:\n",
      "    {'name': 'transport, freight, lorry >32 metric ton, unregulated', 'location': 'GLO', 'reference product': 'transport, freight, lorry >32 metric ton, unregulated', 'unit': 'metric ton*km'}\u001b[0m\n",
      "\u001b[32m2024-09-25 23:33:29.829\u001b[0m | \u001b[33m\u001b[1mWARNING \u001b[0m | \u001b[36mecoinvent_migrate.wrangling\u001b[0m:\u001b[36mdisaggregated\u001b[0m:\u001b[36m259\u001b[0m - \u001b[33m\u001b[1mChange report annex dataset missing from database.\n",
      "    This is likely a publication error which you can't fix.\n",
      "    Removing the following from migrations:\n",
      "    {'name': 'transport, freight, lorry, all sizes, EURO1 to generic market for transport, freight, lorry, unspecified', 'location': 'GLO', 'reference product': 'transport, freight, lorry, unspecified', 'unit': 'metric ton*km'}\u001b[0m\n",
      "\u001b[32m2024-09-25 23:33:29.830\u001b[0m | \u001b[33m\u001b[1mWARNING \u001b[0m | \u001b[36mecoinvent_migrate.wrangling\u001b[0m:\u001b[36mdisaggregated\u001b[0m:\u001b[36m259\u001b[0m - \u001b[33m\u001b[1mChange report annex dataset missing from database.\n",
      "    This is likely a publication error which you can't fix.\n",
      "    Removing the following from migrations:\n",
      "    {'name': 'transport, freight, lorry, all sizes, EURO2 to generic market for transport, freight, lorry, unspecified', 'location': 'GLO', 'reference product': 'transport, freight, lorry, unspecified', 'unit': 'metric ton*km'}\u001b[0m\n",
      "\u001b[32m2024-09-25 23:33:29.834\u001b[0m | \u001b[33m\u001b[1mWARNING \u001b[0m | \u001b[36mecoinvent_migrate.wrangling\u001b[0m:\u001b[36mdisaggregated\u001b[0m:\u001b[36m259\u001b[0m - \u001b[33m\u001b[1mChange report annex dataset missing from database.\n",
      "    This is likely a publication error which you can't fix.\n",
      "    Removing the following from migrations:\n",
      "    {'name': 'transport, freight, lorry, all sizes, unregulated to generic market for transport, freight, lorry, unspecified', 'location': 'GLO', 'reference product': 'transport, freight, lorry, unspecified', 'unit': 'metric ton*km'}\u001b[0m\n",
      "\u001b[32m2024-09-25 23:33:29.837\u001b[0m | \u001b[1mINFO    \u001b[0m | \u001b[36mecoinvent_migrate.main\u001b[0m:\u001b[36mgenerate_technosphere_mapping\u001b[0m:\u001b[36m189\u001b[0m - \u001b[1mWriting output file /Users/cmutel/Library/Application Support/ecoinvent_migrate/ecoinvent-3.7.1-cutoff-ecoinvent-3.8-cutoff.json\u001b[0m\n"
     ]
    }
   ],
   "source": [
    "from ecoinvent_migrate import *\n",
    "filepath = generate_technosphere_mapping(\"3.7.1\", \"3.8\")"
   ]
  },
  {
   "cell_type": "markdown",
   "id": "e4f9ca9a-4e3a-4293-a4a4-be51f8d31a4d",
   "metadata": {},
   "source": [
    "This produces a file which has allows foreground inventory datasets which linked to 3.7.1 to find suitable replacement datasets in 3.8. The produced file looks like this:"
   ]
  },
  {
   "cell_type": "code",
   "execution_count": 2,
   "id": "05cc2cac-c9e8-4a39-955d-df5b294ed096",
   "metadata": {},
   "outputs": [
    {
     "data": {
      "text/plain": [
       "{'name': 'ecoinvent-3.7.1-cutoff-ecoinvent-3.8-cutoff',\n",
       " 'description': 'Data migration file from ecoinvent-3.7.1-cutoff to ecoinvent-3.8-cutoff generated with `ecoinvent_migrate` version 0.4.1',\n",
       " 'contributors': [{'title': 'ecoinvent association',\n",
       "   'path': 'https://ecoinvent.org/',\n",
       "   'role': 'author'},\n",
       "  {'title': 'Chris Mutel',\n",
       "   'path': 'https://chris.mutel.org/',\n",
       "   'role': 'wrangler'}],\n",
       " 'created': '2024-09-25T21:33:29.837546+00:00',\n",
       " 'version': '2.0.0',\n",
       " 'licenses': [{'name': 'CC-BY-4.0',\n",
       "   'path': 'https://creativecommons.org/licenses/by/4.0/legalcode',\n",
       "   'title': 'Creative Commons Attribution 4.0 International'}],\n",
       " 'graph_context': ['edges'],\n",
       " 'mapping': {'source': {'expression language': 'XPath',\n",
       "   'labels': {'filename': \"concat(//*:activity/@id, '_', //*:intermediateExchange[*:outputGroup = '0' and @amount > 0]/@intermediateExchangeId, '.spold')\",\n",
       "    'name': '//*:activityName/text()',\n",
       "    'location': '//*:geography/*:shortname/text()',\n",
       "    'reference product': \"//*:intermediateExchange[*:outputGroup = '0' and @amount > 0]/*:name/text()\",\n",
       "    'unit': \"//*:intermediateExchange[*:outputGroup = '0' and @amount > 0]/*:unitName/text()\"}},\n",
       "  'target': {'expression language': 'XPath',\n",
       "   'labels': {'filename': \"concat(//*:activity/@id, '_', //*:intermediateExchange[*:outputGroup = '0' and @amount > 0]/@intermediateExchangeId, '.spold')\",\n",
       "    'name': '//*:activityName/text()',\n",
       "    'location': '//*:geography/*:shortname/text()',\n",
       "    'reference product': \"//*:intermediateExchange[*:outputGroup = '0' and @amount > 0]/*:name/text()\",\n",
       "    'unit': \"//*:intermediateExchange[*:outputGroup = '0' and @amount > 0]/*:unitName/text()\"}}},\n",
       " 'source_id': 'ecoinvent-3.7.1-cutoff',\n",
       " 'target_id': 'ecoinvent-3.8-cutoff',\n",
       " 'homepage': 'https://github.com/brightway-lca/ecoinvent_migrate'}"
      ]
     },
     "execution_count": 2,
     "metadata": {},
     "output_type": "execute_result"
    }
   ],
   "source": [
    "import json\n",
    "data = json.load(open(filepath))\n",
    "{key: value for key, value in data.items() if key not in (\"create\", \"replace\", \"update\", \"delete\", \"disaggregate\")}"
   ]
  },
  {
   "cell_type": "code",
   "execution_count": 3,
   "id": "c4b269d0-cc05-426a-8758-b8f901886776",
   "metadata": {},
   "outputs": [
    {
     "data": {
      "text/plain": [
       "{'source': {'name': 'assembly of generator and motor, auxilliaries and energy use, heat and power co-generation unit, 160kW electrical',\n",
       "  'location': 'RoW',\n",
       "  'reference product': 'assembly of generator and motor, auxilliaries and energy use, for heat and power co-generation unit, 160 KW electrical',\n",
       "  'unit': 'unit'},\n",
       " 'target': {'name': 'assembly of generator and motor, auxilliaries and energy use, heat and power co-generation unit, 160kW electrical',\n",
       "  'location': 'RoW',\n",
       "  'reference product': 'assembly of generator and motor, auxilliaries and energy use, heat and power co-generation unit, 160kW electrical',\n",
       "  'unit': 'unit'}}"
      ]
     },
     "execution_count": 3,
     "metadata": {},
     "output_type": "execute_result"
    }
   ],
   "source": [
    "data['replace'][0]"
   ]
  },
  {
   "cell_type": "code",
   "execution_count": 4,
   "id": "699e00cc-4974-4e8e-b2b2-97c0495f3af5",
   "metadata": {},
   "outputs": [
    {
     "data": {
      "text/plain": [
       "{'source': {'name': 'application of plant protection product, by field sprayer',\n",
       "  'location': 'RoW',\n",
       "  'reference product': 'application of plant protection product, by field sprayer',\n",
       "  'unit': 'ha'},\n",
       " 'targets': [{'name': 'application of plant protection product, by field sprayer',\n",
       "   'location': 'Canada without Quebec',\n",
       "   'reference product': 'application of plant protection product, by field sprayer',\n",
       "   'unit': 'ha',\n",
       "   'allocation': 0.025737164985667214},\n",
       "  {'name': 'application of plant protection product, by field sprayer',\n",
       "   'location': 'RoW',\n",
       "   'reference product': 'application of plant protection product, by field sprayer',\n",
       "   'unit': 'ha',\n",
       "   'allocation': 0.9742628350143328}]}"
      ]
     },
     "execution_count": 4,
     "metadata": {},
     "output_type": "execute_result"
    }
   ],
   "source": [
    "data['disaggregate'][0]"
   ]
  },
  {
   "cell_type": "markdown",
   "id": "7f067eca-46f7-4e62-b719-34b468f69bea",
   "metadata": {},
   "source": [
    "To use this file, you will need to take different actions for the two verbs. For `replace`, edges in your foreground which link to an ecoinvent dataset with the same attributes as in the `source` section can be replaced one-to-one with an edge to an ecoinvent process from the later release whose attributes match those in the `target` section. For the `disaggregate` verb, you will need to split the initial foreground edge into two or more edges, and scale the original amount and uncertainty information by the `allocation` value.\n",
    "\n",
    "If you are using Brightway, there are convenience functions in `randonneur` and cached migration files which will be used for you automatically.\n",
    "\n",
    "Migrations are designed and only tested for forward progress, i.e. from one release to the next subsequent release. Going in the opposite direction is not recommended.\n",
    "\n",
    "You can't skip across multiple releases - attempting to do so will raise a `VersionJump` error:"
   ]
  },
  {
   "cell_type": "code",
   "execution_count": 5,
   "id": "40537b63-3343-4193-a31e-c57e395038d3",
   "metadata": {},
   "outputs": [
    {
     "name": "stderr",
     "output_type": "stream",
     "text": [
      "\u001b[32m2024-09-25 23:33:29.916\u001b[0m | \u001b[1mINFO    \u001b[0m | \u001b[36mecoinvent_migrate.utils\u001b[0m:\u001b[36mconfigure_logs\u001b[0m:\u001b[36m18\u001b[0m - \u001b[1mWriting logs to /Users/cmutel/Library/Logs/ecoinvent_migrate/2024-09-25T23-33-29\u001b[0m\n",
      "\u001b[32m2024-09-25 23:33:30.810\u001b[0m | \u001b[1mINFO    \u001b[0m | \u001b[36mecoinvent_migrate.main\u001b[0m:\u001b[36mget_change_report_context\u001b[0m:\u001b[36m61\u001b[0m - \u001b[1mVersions available for this license: ['3.10', '3.9.1', '3.9', '3.8', '3.7.1', '3.7', '3.6', '3.5', '3.4', '3.3', '3.2', '3.1', '3.01', '2']\u001b[0m\n"
     ]
    },
    {
     "ename": "VersionJump",
     "evalue": "\nSource (3.7.1) and target (3.9.1) don't have a change report.\nUsually this is the case when one jumps across multiple releases, but not always.\nFor example, the change report for 3.7.1 is from 3.6, not 3.7.\nThe change report we have available is:\nChange Report Annex v3.9 - v3.9.1.xlsx\n        ",
     "output_type": "error",
     "traceback": [
      "\u001b[0;31m---------------------------------------------------------------------------\u001b[0m",
      "\u001b[0;31mVersionJump\u001b[0m                               Traceback (most recent call last)",
      "Cell \u001b[0;32mIn[5], line 1\u001b[0m\n\u001b[0;32m----> 1\u001b[0m \u001b[43mgenerate_technosphere_mapping\u001b[49m\u001b[43m(\u001b[49m\u001b[38;5;124;43m\"\u001b[39;49m\u001b[38;5;124;43m3.7.1\u001b[39;49m\u001b[38;5;124;43m\"\u001b[39;49m\u001b[43m,\u001b[49m\u001b[43m \u001b[49m\u001b[38;5;124;43m\"\u001b[39;49m\u001b[38;5;124;43m3.9.1\u001b[39;49m\u001b[38;5;124;43m\"\u001b[39;49m\u001b[43m)\u001b[49m\n",
      "File \u001b[0;32m~/Code/Brightway/ecoinvent_migrate/ecoinvent_migrate/main.py:104\u001b[0m, in \u001b[0;36mgenerate_technosphere_mapping\u001b[0;34m(source_version, target_version, project_name, system_model, ecoinvent_username, ecoinvent_password, write_logs, write_file, licenses, output_directory, output_version, description)\u001b[0m\n\u001b[1;32m    101\u001b[0m \u001b[38;5;250m\u001b[39m\u001b[38;5;124;03m\"\"\"Generate a Randonneur mapping file for technosphere edge attributes from source to target.\"\"\"\u001b[39;00m\n\u001b[1;32m    102\u001b[0m configure_logs(write_logs\u001b[38;5;241m=\u001b[39mwrite_logs)\n\u001b[0;32m--> 104\u001b[0m excel_filepath \u001b[38;5;241m=\u001b[39m \u001b[43mget_change_report_context\u001b[49m\u001b[43m(\u001b[49m\n\u001b[1;32m    105\u001b[0m \u001b[43m    \u001b[49m\u001b[43msource_version\u001b[49m\u001b[38;5;241;43m=\u001b[39;49m\u001b[43msource_version\u001b[49m\u001b[43m,\u001b[49m\n\u001b[1;32m    106\u001b[0m \u001b[43m    \u001b[49m\u001b[43mtarget_version\u001b[49m\u001b[38;5;241;43m=\u001b[39;49m\u001b[43mtarget_version\u001b[49m\u001b[43m,\u001b[49m\n\u001b[1;32m    107\u001b[0m \u001b[43m    \u001b[49m\u001b[43mproject_name\u001b[49m\u001b[38;5;241;43m=\u001b[39;49m\u001b[43mproject_name\u001b[49m\u001b[43m,\u001b[49m\n\u001b[1;32m    108\u001b[0m \u001b[43m    \u001b[49m\u001b[43mecoinvent_username\u001b[49m\u001b[38;5;241;43m=\u001b[39;49m\u001b[43mecoinvent_username\u001b[49m\u001b[43m,\u001b[49m\n\u001b[1;32m    109\u001b[0m \u001b[43m    \u001b[49m\u001b[43mecoinvent_password\u001b[49m\u001b[38;5;241;43m=\u001b[39;49m\u001b[43mecoinvent_password\u001b[49m\u001b[43m,\u001b[49m\n\u001b[1;32m    110\u001b[0m \u001b[43m\u001b[49m\u001b[43m)\u001b[49m\n\u001b[1;32m    112\u001b[0m sheet_names \u001b[38;5;241m=\u001b[39m pd\u001b[38;5;241m.\u001b[39mExcelFile(excel_filepath)\u001b[38;5;241m.\u001b[39msheet_names\n\u001b[1;32m    113\u001b[0m candidates \u001b[38;5;241m=\u001b[39m [name \u001b[38;5;28;01mfor\u001b[39;00m name \u001b[38;5;129;01min\u001b[39;00m sheet_names \u001b[38;5;28;01mif\u001b[39;00m name\u001b[38;5;241m.\u001b[39mlower() \u001b[38;5;241m==\u001b[39m \u001b[38;5;124m\"\u001b[39m\u001b[38;5;124mqualitative changes\u001b[39m\u001b[38;5;124m\"\u001b[39m]\n",
      "File \u001b[0;32m~/Code/Brightway/ecoinvent_migrate/ecoinvent_migrate/main.py:65\u001b[0m, in \u001b[0;36mget_change_report_context\u001b[0;34m(source_version, target_version, project_name, system_model, ecoinvent_username, ecoinvent_password)\u001b[0m\n\u001b[1;32m     63\u001b[0m     excel_filepath \u001b[38;5;241m=\u001b[39m get_change_report_filepath(version\u001b[38;5;241m=\u001b[39mtarget_version, release\u001b[38;5;241m=\u001b[39mrelease)\n\u001b[1;32m     64\u001b[0m     \u001b[38;5;28;01mif\u001b[39;00m source_version \u001b[38;5;129;01mnot\u001b[39;00m \u001b[38;5;129;01min\u001b[39;00m excel_filepath\u001b[38;5;241m.\u001b[39mname\u001b[38;5;241m.\u001b[39mreplace(target_version, \u001b[38;5;124m\"\u001b[39m\u001b[38;5;124m\"\u001b[39m):\n\u001b[0;32m---> 65\u001b[0m         \u001b[38;5;28;01mraise\u001b[39;00m VersionJump(\n\u001b[1;32m     66\u001b[0m             \u001b[38;5;124mf\u001b[39m\u001b[38;5;124m\"\"\"\u001b[39m\n\u001b[1;32m     67\u001b[0m \u001b[38;5;124mSource (\u001b[39m\u001b[38;5;132;01m{\u001b[39;00msource_version\u001b[38;5;132;01m}\u001b[39;00m\u001b[38;5;124m) and target (\u001b[39m\u001b[38;5;132;01m{\u001b[39;00mtarget_version\u001b[38;5;132;01m}\u001b[39;00m\u001b[38;5;124m) don\u001b[39m\u001b[38;5;124m'\u001b[39m\u001b[38;5;124mt have a change report.\u001b[39m\n\u001b[1;32m     68\u001b[0m \u001b[38;5;124mUsually this is the case when one jumps across multiple releases, but not always.\u001b[39m\n\u001b[1;32m     69\u001b[0m \u001b[38;5;124mFor example, the change report for 3.7.1 is from 3.6, not 3.7.\u001b[39m\n\u001b[1;32m     70\u001b[0m \u001b[38;5;124mThe change report we have available is:\u001b[39m\n\u001b[1;32m     71\u001b[0m \u001b[38;5;132;01m{\u001b[39;00mexcel_filepath\u001b[38;5;241m.\u001b[39mname\u001b[38;5;132;01m}\u001b[39;00m\n\u001b[1;32m     72\u001b[0m \u001b[38;5;124m        \u001b[39m\u001b[38;5;124m\"\"\"\u001b[39m\n\u001b[1;32m     73\u001b[0m         )\n\u001b[1;32m     74\u001b[0m     logger\u001b[38;5;241m.\u001b[39minfo(\u001b[38;5;124m\"\u001b[39m\u001b[38;5;124mUsing change report annex file \u001b[39m\u001b[38;5;132;01m{filename}\u001b[39;00m\u001b[38;5;124m\"\u001b[39m, filename\u001b[38;5;241m=\u001b[39mexcel_filepath\u001b[38;5;241m.\u001b[39mname)\n\u001b[1;32m     76\u001b[0m     setup_project(\n\u001b[1;32m     77\u001b[0m         source_version\u001b[38;5;241m=\u001b[39msource_version,\n\u001b[1;32m     78\u001b[0m         target_version\u001b[38;5;241m=\u001b[39mtarget_version,\n\u001b[0;32m   (...)\u001b[0m\n\u001b[1;32m     82\u001b[0m         ecoinvent_password\u001b[38;5;241m=\u001b[39mecoinvent_password,\n\u001b[1;32m     83\u001b[0m     )\n",
      "\u001b[0;31mVersionJump\u001b[0m: \nSource (3.7.1) and target (3.9.1) don't have a change report.\nUsually this is the case when one jumps across multiple releases, but not always.\nFor example, the change report for 3.7.1 is from 3.6, not 3.7.\nThe change report we have available is:\nChange Report Annex v3.9 - v3.9.1.xlsx\n        "
     ]
    }
   ],
   "source": [
    "generate_technosphere_mapping(\"3.7.1\", \"3.9.1\")"
   ]
  },
  {
   "cell_type": "markdown",
   "id": "3578c00b-55b6-4b33-b267-4357de315a77",
   "metadata": {},
   "source": [
    "Technosphere mapping files are system model specific, and the default system model is `cutoff`. You can specify a different system model following the `ecoinvent_interface` [function specification](https://github.com/brightway-lca/ecoinvent_interface?tab=readme-ov-file#database-releases) with the `system_model` parameters, e.g. `generate_technosphere_mapping(..., system_model='apos')`.\n",
    "\n",
    "### Biosphere\n",
    "\n",
    "The same procedure applies for biosphere edges:"
   ]
  },
  {
   "cell_type": "code",
   "execution_count": 6,
   "id": "ca90dbc1-0a9b-4762-bd4a-3b71377b36f5",
   "metadata": {},
   "outputs": [
    {
     "name": "stderr",
     "output_type": "stream",
     "text": [
      "\u001b[32m2024-09-25 23:33:35.720\u001b[0m | \u001b[1mINFO    \u001b[0m | \u001b[36mecoinvent_migrate.utils\u001b[0m:\u001b[36mconfigure_logs\u001b[0m:\u001b[36m18\u001b[0m - \u001b[1mWriting logs to /Users/cmutel/Library/Logs/ecoinvent_migrate/2024-09-25T23-33-35\u001b[0m\n",
      "\u001b[32m2024-09-25 23:33:35.737\u001b[0m | \u001b[1mINFO    \u001b[0m | \u001b[36mecoinvent_migrate.main\u001b[0m:\u001b[36mgenerate_biosphere_mapping\u001b[0m:\u001b[36m215\u001b[0m - \u001b[1mThe `EE Deletions` format is not consistent across versions.\n",
      "Please check the outputs carefully before applying them.\u001b[0m\n",
      "\u001b[32m2024-09-25 23:33:36.651\u001b[0m | \u001b[1mINFO    \u001b[0m | \u001b[36mecoinvent_migrate.main\u001b[0m:\u001b[36mget_change_report_context\u001b[0m:\u001b[36m61\u001b[0m - \u001b[1mVersions available for this license: ['3.10', '3.9.1', '3.9', '3.8', '3.7.1', '3.7', '3.6', '3.5', '3.4', '3.3', '3.2', '3.1', '3.01', '2']\u001b[0m\n",
      "\u001b[32m2024-09-25 23:33:37.260\u001b[0m | \u001b[1mINFO    \u001b[0m | \u001b[36mecoinvent_migrate.main\u001b[0m:\u001b[36mget_change_report_context\u001b[0m:\u001b[36m74\u001b[0m - \u001b[1mUsing change report annex file Change Report Annex v3.9.1 - v3.10.xlsx\u001b[0m\n",
      "\u001b[32m2024-09-25 23:33:38.131\u001b[0m | \u001b[1mINFO    \u001b[0m | \u001b[36mecoinvent_migrate.main\u001b[0m:\u001b[36mgenerate_biosphere_mapping\u001b[0m:\u001b[36m300\u001b[0m - \u001b[1mWriting output file /Users/cmutel/Library/Application Support/ecoinvent_migrate/ecoinvent-3.9.1-biosphere-ecoinvent-3.10-biosphere.json\u001b[0m\n"
     ]
    }
   ],
   "source": [
    "from ecoinvent_migrate import *\n",
    "filepath = generate_biosphere_mapping(\"3.9.1\", \"3.10\", keep_deletions=True)"
   ]
  },
  {
   "cell_type": "code",
   "execution_count": 7,
   "id": "ce124080-1e44-41eb-a51c-68fdbdbc488c",
   "metadata": {},
   "outputs": [
    {
     "data": {
      "text/plain": [
       "{'name': 'ecoinvent-3.9.1-biosphere-ecoinvent-3.10-biosphere',\n",
       " 'description': 'Data migration file from ecoinvent-3.9.1-biosphere to ecoinvent-3.10-biosphere generated with `ecoinvent_migrate` version 0.4.1',\n",
       " 'contributors': [{'title': 'ecoinvent association',\n",
       "   'path': 'https://ecoinvent.org/',\n",
       "   'role': 'author'},\n",
       "  {'title': 'Chris Mutel',\n",
       "   'path': 'https://chris.mutel.org/',\n",
       "   'role': 'wrangler'}],\n",
       " 'created': '2024-09-25T21:33:38.131050+00:00',\n",
       " 'version': '2.0.0',\n",
       " 'licenses': [{'name': 'CC-BY-4.0',\n",
       "   'path': 'https://creativecommons.org/licenses/by/4.0/legalcode',\n",
       "   'title': 'Creative Commons Attribution 4.0 International'}],\n",
       " 'graph_context': ['edges'],\n",
       " 'mapping': {'source': {'expression language': 'XPath',\n",
       "   'labels': {'name': '//*:elementaryExchange/*:name/text()',\n",
       "    'unit': '//*:elementaryExchange/*:unitName/text()',\n",
       "    'uuid': '//*:elementaryExchange/@elementaryExchangeId',\n",
       "    'formula': '//*:elementaryExchange/@formula',\n",
       "    'context': ['//*:elementaryExchange/*:compartment/*:compartment/text()',\n",
       "     '//*:elementaryExchange/*:compartment/*:subcompartment/text()']}},\n",
       "  'target': {'expression language': 'XPath',\n",
       "   'labels': {'name': '//*:elementaryExchange/*:name/text()',\n",
       "    'unit': '//*:elementaryExchange/*:unitName/text()',\n",
       "    'uuid': '//*:elementaryExchange/@elementaryExchangeId',\n",
       "    'formula': '//*:elementaryExchange/@formula',\n",
       "    'context': ['//*:elementaryExchange/*:compartment/*:compartment/text()',\n",
       "     '//*:elementaryExchange/*:compartment/*:subcompartment/text()']}}},\n",
       " 'source_id': 'ecoinvent-3.9.1-biosphere',\n",
       " 'target_id': 'ecoinvent-3.10-biosphere',\n",
       " 'homepage': 'https://github.com/brightway-lca/ecoinvent_migrate'}"
      ]
     },
     "execution_count": 7,
     "metadata": {},
     "output_type": "execute_result"
    }
   ],
   "source": [
    "import json\n",
    "data = json.load(open(filepath))\n",
    "{key: value for key, value in data.items() if key not in (\"create\", \"replace\", \"update\", \"delete\", \"disaggregate\")}"
   ]
  },
  {
   "cell_type": "code",
   "execution_count": 8,
   "id": "90d7c275-d304-4f31-9bcd-f27f5ed0bd9b",
   "metadata": {},
   "outputs": [
    {
     "data": {
      "text/plain": [
       "{'source': {'uuid': '4f777e05-70f9-4a18-a406-d8232325073f',\n",
       "  'name': '2,4-D amines'},\n",
       " 'target': {'uuid': 'b6b4201e-0561-5992-912f-e729fbf04e41',\n",
       "  'name': '2,4-D dimethylamine salt'}}"
      ]
     },
     "execution_count": 8,
     "metadata": {},
     "output_type": "execute_result"
    }
   ],
   "source": [
    "data[\"replace\"][0]"
   ]
  },
  {
   "cell_type": "code",
   "execution_count": 9,
   "id": "1670aca9-ceb0-4906-ac73-e006c17d92f6",
   "metadata": {},
   "outputs": [
    {
     "data": {
      "text/plain": [
       "{'source': {'uuid': '91861063-1826-4860-9957-7c5bde5817a6',\n",
       "  'name': 'Salt water (obsolete)'},\n",
       " 'comment': 'There is no salt water flow in ecoinvent.'}"
      ]
     },
     "execution_count": 9,
     "metadata": {},
     "output_type": "execute_result"
    }
   ],
   "source": [
    "data[\"delete\"][0]"
   ]
  },
  {
   "cell_type": "markdown",
   "id": "4426adef-a112-46db-aeab-40e16cf9332a",
   "metadata": {},
   "source": [
    "By default, the `delete` verb is skipped, as this is a more cautious approach to existing data. To have the `delete` section included, call `generate_biosphere_mapping(..., keep_deletions=True)`."
   ]
  },
  {
   "cell_type": "markdown",
   "id": "5bfccf47-fb2a-472b-9ac7-b1894c1bfc84",
   "metadata": {},
   "source": [
    "### Common input arguments\n",
    "\n",
    "Both `generate_technosphere_mapping` and `generate_biosphere_mapping` accept the following input arguments:\n",
    "\n",
    "* source_version (str): String representation of an ecoinvent version, e.g. \"3.8\"\n",
    "* target_version (str): String representation of an ecoinvent version, e.g. \"3.8\"\n",
    "* ecoinvent_username (str, optional): Ecoinvent account username\n",
    "* ecoinvent_password (str, optional): Ecoinvent account password\n",
    "* write_logs (bool, default `True`): Create detailed and high-level logs during mapping file creation\n",
    "* output_directory (`pathlib.Path`, default is `platformlibs.user_data_dir`): Directory for the result files\n",
    "\n",
    "The following input parameters should normally be left to their default values:\n",
    "\n",
    "* project_name (str): The Brightway project name into which we install ecoinvent releases to check change report data validity.\n",
    "* output_version (str, default is \"1.0.0\"): [Datapackage version number](https://specs.frictionlessdata.io/data-package/#version)\n",
    "* licenses (list, default is CC-BY): Licenses following the [frictionless data datapackage standard](https://specs.frictionlessdata.io/data-package/#licenses)\n",
    "* description (str, default is auto-generated): Description of generated datapackage.\n",
    "\n",
    "### How does this library work?\n",
    "\n",
    "We start by using [ecoinvent_interface](https://github.com/brightway-lca/ecoinvent_interface) to download the change report Excel file, and the two ecoinvent releases (source and target). We need to download the ecoinvent data because the change report is for the unlinked and unallocated \"master\" data; there are some changes needed for the specific system models.\n",
    "\n",
    "For biosphere mapping, we read the Excel file, search around for the correct worksheet and column names, and map the data to \"replace\" and \"delete\" sections. This is pretty simple.\n",
    "\n",
    "For technosphere mapping, we need to check if the indicated datasets are actually in `GLO` or in `RoW` (and analogously in `RER` / `RoE`.) We do this by finding the corresponding datasets in the actual database releases. We also need to use the actual data to look up the allocation factors when a single dataset is split into multiple datasets.\n",
    "\n",
    "Not every line in the change report Excel file can be used, either because of the specifics of the system model, or some other unknown discrepancy. These exceptions are logged to both the log files and `sys.stderr`:\n",
    "\n",
    "```console\n",
    "2024-06-14 14:17:38.641 | WARNING  | ecoinvent_migrate.wrangling:resolve_glo_row_rer_roe:219 -\n",
    "    Target process given in change report but missing in ecoinvent-3.8-cutoff lookup:\n",
    "    {'name': 'rutile production, synthetic, 95% titanium dioxide, Benelite process',\n",
    "     'location': 'GLO',\n",
    "     'reference product': 'rutile, 95% titanium dioxide', 'unit': 'kg'}\n",
    "```\n",
    "\n",
    "We also need to [supplement the change report](https://github.com/brightway-lca/ecoinvent_migrate/blob/main/ecoinvent_migrate/patches.py) with changes in the data not included in the change report. These patches are incomplete, we welcome help in helping create a complete migration set.\n",
    "\n",
    "Once the given change data is segregated and cleaned, it is serialized to JSON, and manually added to `randonneur_data`."
   ]
  }
 ],
 "metadata": {
  "kernelspec": {
   "display_name": "Python 3 (ipykernel)",
   "language": "python",
   "name": "python3"
  },
  "language_info": {
   "codemirror_mode": {
    "name": "ipython",
    "version": 3
   },
   "file_extension": ".py",
   "mimetype": "text/x-python",
   "name": "python",
   "nbconvert_exporter": "python",
   "pygments_lexer": "ipython3",
   "version": "3.12.4"
  }
 },
 "nbformat": 4,
 "nbformat_minor": 5
}
