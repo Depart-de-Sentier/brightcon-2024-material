{
 "cells": [
  {
   "cell_type": "markdown",
   "id": "7fe49da3-4fea-43be-a2c1-fe56bae0a097",
   "metadata": {},
   "source": [
    "# Partial import of Agribalyse 3.1.1\n",
    "\n",
    "This starts out similar to other Brightway importers"
   ]
  },
  {
   "cell_type": "code",
   "execution_count": null,
   "id": "9dbf6c16-73db-443b-926d-43d0e615c84f",
   "metadata": {},
   "outputs": [],
   "source": [
    "import bw2io as bi\n",
    "import bw2data as bd\n",
    "from pathlib import Path\n",
    "import randonneur as rn\n",
    "import randonneur_data as rd"
   ]
  },
  {
   "cell_type": "code",
   "execution_count": null,
   "id": "7f299051-883c-411f-a4cc-ab873efded3c",
   "metadata": {},
   "outputs": [],
   "source": [
    "bd.projects.set_current(\"agrobalyse-3.1.1 randonneur\")"
   ]
  },
  {
   "cell_type": "code",
   "execution_count": null,
   "id": "a3e1aa0e-40db-4c2a-ae7a-d2a81453cccf",
   "metadata": {},
   "outputs": [],
   "source": [
    "if \"ecoinvent-3.8-cutoff\" not in bd.databases:\n",
    "    bi.ecoinvent.import_ecoinvent_release(\"3.8\", \"cutoff\", lcia=False)"
   ]
  },
  {
   "cell_type": "code",
   "execution_count": null,
   "id": "2f590167-8a4e-464a-ba80-b64b2449b10d",
   "metadata": {},
   "outputs": [],
   "source": [
    "if \"ecoinvent-3.10-cutoff\" not in bd.databases:\n",
    "    bi.ecoinvent.import_ecoinvent_release(\"3.10\", \"cutoff\")"
   ]
  },
  {
   "cell_type": "code",
   "execution_count": null,
   "id": "4c2b8ab9-5de0-4abc-ae38-0b3297ded3f5",
   "metadata": {},
   "outputs": [],
   "source": [
    "fp = Path(\"/home/jupyter-cmutel-brightcon/data/AGB 3.1.1.csv\")"
   ]
  },
  {
   "cell_type": "markdown",
   "id": "287ec578-4fbf-4f58-a763-4751625fa362",
   "metadata": {},
   "source": [
    "We use a new importer which works with `bw_simapro_csv`. But the use of `.randonneur()` is now added to all LCI importers."
   ]
  },
  {
   "cell_type": "code",
   "execution_count": null,
   "id": "2befe5b1-fd51-45cc-af81-4a6f0af4db4b",
   "metadata": {},
   "outputs": [],
   "source": [
    "sp = bi.SimaProBlockCSVImporter(fp, \"agrobalyse-3.1.1\")"
   ]
  },
  {
   "cell_type": "markdown",
   "id": "83674bbc-f88d-4ae4-88fb-6aeda6532cbd",
   "metadata": {},
   "source": [
    "Use choose here to delete by the `code` value (which is coming from the SimaPro file) because other attributes are not unique. This is a big database with a complicated structure.\n",
    "\n",
    "This is one of the few cases where it makes sense to do transformations on the nodes and not the edges."
   ]
  },
  {
   "cell_type": "code",
   "execution_count": null,
   "id": "3b38c510-79f2-416a-8fd6-c0da98b041de",
   "metadata": {},
   "outputs": [],
   "source": [
    "sp.randonneur(\n",
    "    \"agribalyse-3.1.1-delete-aggregated-ecoinvent\",\n",
    "    verbs=[\"delete\"],\n",
    "    fields=[\"code\"],\n",
    "    mapping={\"source\": {\"identifier\": \"code\"}},\n",
    "    migrate_nodes=True\n",
    ")"
   ]
  },
  {
   "cell_type": "code",
   "execution_count": null,
   "id": "c7a3a91b-2c31-4b93-ae0e-88fab9f5615c",
   "metadata": {},
   "outputs": [],
   "source": [
    "sp.apply_strategies()"
   ]
  },
  {
   "cell_type": "code",
   "execution_count": null,
   "id": "de571211-888c-4f3a-a245-cc45f86c47f7",
   "metadata": {},
   "outputs": [],
   "source": [
    "sp.statistics()"
   ]
  },
  {
   "cell_type": "markdown",
   "id": "644f8c48-fdaa-45fc-9dec-7d7409da8e4d",
   "metadata": {},
   "source": [
    "Do internal linking. Because of the SimaPro format, we don't have location fields which are always present, and they don't have a clear difference between products and processes so using reference product won't work consistently."
   ]
  },
  {
   "cell_type": "code",
   "execution_count": null,
   "id": "66eaf76d-7fee-41e7-8b01-f570c15f9c1c",
   "metadata": {},
   "outputs": [],
   "source": [
    "sp.match_database(fields=[\"name\", \"unit\"])"
   ]
  },
  {
   "cell_type": "code",
   "execution_count": null,
   "id": "2c62c7fc-4945-47b4-a7b4-780c35b67bb9",
   "metadata": {},
   "outputs": [],
   "source": [
    "sp.randonneur(\"agribalyse-3.1.1-restore-simapro-ecoinvent-names\")\n",
    "sp.randonneur(\"simapro-ecoinvent-3.8-cutoff\", fields=[\"name\"])\n",
    "sp.randonneur(\"SimaPro-9-ecoinvent-3.9-biosphere\", fields=[\"name\", \"context\", \"unit\"])\n",
    "sp.randonneur(\"simapro-9-ecoinvent-3-context\")\n",
    "sp.randonneur(\"SimaPro-9-ecoinvent-3.9-biosphere-manual-matches\")\n",
    "sp.normalize_labels_to_brightway_standard()"
   ]
  },
  {
   "cell_type": "code",
   "execution_count": null,
   "id": "32878483-0732-4750-a9be-ec1837867831",
   "metadata": {},
   "outputs": [],
   "source": [
    "from bw2io.strategies import change_electricity_unit_mj_to_kwh\n",
    "sp.apply_strategy(change_electricity_unit_mj_to_kwh)"
   ]
  },
  {
   "cell_type": "code",
   "execution_count": null,
   "id": "ae981035-4620-4805-be4c-52f2d8823049",
   "metadata": {},
   "outputs": [],
   "source": [
    "sp.randonneur(\"ecoinvent-3.8-cutoff-ecoinvent-3.9-cutoff\", fields=[\"name\", \"location\", \"reference product\", \"unit\"])\n",
    "sp.randonneur(\"ecoinvent-3.9.1-cutoff-ecoinvent-3.10-cutoff\", fields=[\"name\", \"location\", \"reference product\", \"unit\"])\n",
    "sp.randonneur(\"ecoinvent-3.9.1-biosphere-ecoinvent-3.10-biosphere\", fields=[\"code\"], mapping={\"source\": {\"uuid\": \"code\"}, \"target\": {\"uuid\": \"code\"}})"
   ]
  },
  {
   "cell_type": "code",
   "execution_count": null,
   "id": "046abeda-ad9a-4db5-9dca-89aae3153a5c",
   "metadata": {},
   "outputs": [],
   "source": [
    "sp.randonneur(\"generic-brightway-units-normalization\")\n",
    "sp.apply_strategy(bi.strategies.drop_unspecified_subcategories)"
   ]
  },
  {
   "cell_type": "code",
   "execution_count": null,
   "id": "7c3845b9-c254-4d56-b758-b0d38d0c9c29",
   "metadata": {},
   "outputs": [],
   "source": [
    "sp.match_database(\"ecoinvent-3.10-cutoff\")\n",
    "sp.match_database(\"ecoinvent-3.10-biosphere\", kind=\"biosphere\", fields=[\"code\"])\n",
    "sp.match_database(\"ecoinvent-3.10-biosphere\", kind=\"biosphere\", fields=[\"name\", \"unit\", \"categories\"])\n",
    "sp.match_database_against_top_level_context(\"ecoinvent-3.10-biosphere\")\n",
    "sp.match_database_against_only_available_in_given_context_tree(\"ecoinvent-3.10-biosphere\")"
   ]
  },
  {
   "cell_type": "code",
   "execution_count": null,
   "id": "5869fde5-2da3-4776-b43c-c15ab136fe35",
   "metadata": {},
   "outputs": [],
   "source": [
    "sp.statistics()"
   ]
  },
  {
   "cell_type": "code",
   "execution_count": null,
   "id": "5a563f65-50c5-4dc7-8d5d-bd6aae1d9450",
   "metadata": {},
   "outputs": [],
   "source": [
    "fp = sp.write_excel(True)\n",
    "fp.replace(\"/Users/cmutel/Desktop/\" + fp.name)"
   ]
  },
  {
   "cell_type": "code",
   "execution_count": null,
   "id": "b552f8c3-09be-4650-bb30-a94e3fc2a322",
   "metadata": {},
   "outputs": [],
   "source": [
    "for ds in sp.data:\n",
    "    for exc in ds.get('exchanges', []):\n",
    "        if exc['name'] == 'Barley grain, feed {CA-QC}| production | Cut-off, S - Copied from Ecoinvent U':\n",
    "            print(exc)\n",
    "            if exc.get('functional'):\n",
    "                producer = ds"
   ]
  },
  {
   "cell_type": "code",
   "execution_count": null,
   "id": "726f8273-93a7-4579-a3d0-a6af26299ef8",
   "metadata": {},
   "outputs": [],
   "source": [
    "len([ds for ds in sp.data if 'AGRIBALU000000003104694' in str(ds)])"
   ]
  },
  {
   "cell_type": "code",
   "execution_count": null,
   "id": "cc51882c-34c4-4afb-bb36-262f98728230",
   "metadata": {},
   "outputs": [],
   "source": [
    "c = 0\n",
    "\n",
    "for exc in sp.unlinked:\n",
    "    if exc['type'] == 'technosphere':\n",
    "        print(exc)\n",
    "        c += 1\n",
    "        if c > 5:\n",
    "            break"
   ]
  },
  {
   "cell_type": "code",
   "execution_count": null,
   "id": "52e9c31d-f2af-4ad9-82aa-201d0a1d99cd",
   "metadata": {},
   "outputs": [],
   "source": [
    "exc"
   ]
  },
  {
   "cell_type": "code",
   "execution_count": null,
   "id": "e67525b5-f753-45c9-abc6-c8630256a259",
   "metadata": {},
   "outputs": [],
   "source": [
    "for ds in bd.Database(\"ecoinvent-3.10-cutoff\"):\n",
    "    if ds['name'] == 'market for sodium chloride, powder':\n",
    "        print(ds)\n",
    "        break"
   ]
  },
  {
   "cell_type": "code",
   "execution_count": null,
   "id": "7007b2c2-4e5e-4ae8-be5c-564db4ded9c3",
   "metadata": {},
   "outputs": [],
   "source": [
    "for ds in sp.data:\n",
    "    if ds['code'] == 'AGRIBALU000000003112131':\n",
    "        print(\"Found\")\n",
    "        break\n",
    "\n",
    "# ds"
   ]
  },
  {
   "cell_type": "code",
   "execution_count": null,
   "id": "a11ddb3c-5e83-4db4-9bf0-e8e85587295d",
   "metadata": {},
   "outputs": [],
   "source": [
    "for ds in sp.data:\n",
    "    if ds['name'] == 'heat production, propane, at industrial furnace >100kW RoW':\n",
    "        print(\"Found\")\n",
    "        break\n",
    "\n",
    "# ds"
   ]
  },
  {
   "cell_type": "code",
   "execution_count": null,
   "id": "09e80678-fe07-428f-a25b-a0e81cd587cf",
   "metadata": {},
   "outputs": [],
   "source": [
    "[exc for exc in ds['exchanges'] if exc['type'] == 'production']"
   ]
  },
  {
   "cell_type": "code",
   "execution_count": null,
   "id": "a93ac1bd-7e72-43ab-9054-af94727eb62a",
   "metadata": {},
   "outputs": [],
   "source": [
    "[exc for exc in ds['exchanges'] if exc.get(\"functional\")]"
   ]
  },
  {
   "cell_type": "code",
   "execution_count": null,
   "id": "1a790dd1-0c1f-462a-9b5c-a07bb7879273",
   "metadata": {},
   "outputs": [],
   "source": [
    "{k: v for k, v in ds.items() if k != 'exchanges'}"
   ]
  },
  {
   "cell_type": "code",
   "execution_count": null,
   "id": "301a22c3-c415-4c0f-9249-6f78b94eaa88",
   "metadata": {},
   "outputs": [],
   "source": [
    "[x for x in bd.Database(\"ecoinvent-3.8-biosphere\") if 'hfc-143' in x['name'].lower()]"
   ]
  },
  {
   "cell_type": "code",
   "execution_count": null,
   "id": "12d9272e-029f-4435-b96c-dd0f92b7b7c7",
   "metadata": {},
   "outputs": [],
   "source": [
    "count = 0\n",
    "\n",
    "for exc in sp.unlinked:\n",
    "    if exc['type'] == 'biosphere':\n",
    "        print(exc)\n",
    "        count += 1\n",
    "        if count > 5:\n",
    "            break"
   ]
  },
  {
   "cell_type": "code",
   "execution_count": null,
   "id": "6c5e704a-fe4d-4b8d-a8cb-33275e61253c",
   "metadata": {},
   "outputs": [],
   "source": [
    "for ds in sp.data:\n",
    "    if ds['code'] == 'AGRIBALU000000003113535':\n",
    "        print(\"Found\")\n",
    "        break"
   ]
  },
  {
   "cell_type": "code",
   "execution_count": null,
   "id": "c2c2eaed-2c83-432c-8b94-9c8b500ad2eb",
   "metadata": {},
   "outputs": [],
   "source": [
    "ds"
   ]
  },
  {
   "cell_type": "code",
   "execution_count": null,
   "id": "8b7c4fc1-a7b9-42c4-823d-8ed70d759372",
   "metadata": {},
   "outputs": [],
   "source": [
    "exc"
   ]
  },
  {
   "cell_type": "code",
   "execution_count": null,
   "id": "0fe50225-28b2-40b4-81f7-03bccbfbd78d",
   "metadata": {},
   "outputs": [],
   "source": [
    "ds"
   ]
  },
  {
   "cell_type": "code",
   "execution_count": null,
   "id": "ebecb4cd-3363-4cdd-8450-77dabd4c6930",
   "metadata": {},
   "outputs": [],
   "source": [
    "for other in sp.data:\n",
    "    if 'Scrap lead acid battery {RER}| treatment of, remelting | Alloc Def, U Edited U' in str(ds) and other != ds:\n",
    "        break"
   ]
  },
  {
   "cell_type": "code",
   "execution_count": null,
   "id": "d1ea62c1-c1b0-4ce4-8db6-d22f1f69470f",
   "metadata": {},
   "outputs": [],
   "source": [
    "other"
   ]
  },
  {
   "cell_type": "code",
   "execution_count": null,
   "id": "0fcaafbd-f1e2-4ee1-9db3-f5ff7ffec04f",
   "metadata": {},
   "outputs": [],
   "source": [
    "names = {\n",
    "    exc['name']\n",
    "    for ds in sp.data \n",
    "    for exc in ds.get('exchanges') \n",
    "    if exc['name'].endswith(\", S - Copied from Ecoinvent U\")\n",
    "}"
   ]
  },
  {
   "cell_type": "code",
   "execution_count": null,
   "id": "441b891e-2a44-4b9f-a1fb-19804333c9c2",
   "metadata": {},
   "outputs": [],
   "source": [
    "'Municipal solid waste {CH}| treatment of, incineration | Cut-off, S - Copied from Ecoinvent U' in names"
   ]
  },
  {
   "cell_type": "code",
   "execution_count": null,
   "id": "d0e09e2e-bf6d-453e-b11c-3f61d44c85d8",
   "metadata": {},
   "outputs": [],
   "source": [
    "'Barley grain, feed {CA-QC}| production | Cut-off, S - Copied from Ecoinvent U' in names"
   ]
  },
  {
   "cell_type": "code",
   "execution_count": null,
   "id": "63ca69e4-5d07-4114-85d9-58a902d47174",
   "metadata": {},
   "outputs": [],
   "source": [
    "data = [\n",
    "    {\"source\": {\"name\": name}, \"target\": {\"name\": name.replace(\", S - Copied from Ecoinvent U\", \", U\")}} \n",
    "    for name in names\n",
    "]"
   ]
  },
  {
   "cell_type": "code",
   "execution_count": null,
   "id": "168839f1-8ee0-413b-b8b2-65138546ef21",
   "metadata": {},
   "outputs": [],
   "source": [
    "dp = rn.Datapackage(\n",
    "    name=\"agribalyse-3.1.1-restore-simapro-ecoinvent-names\",\n",
    "    description=\"\"\"Restore names of linked ecoinvent processes to original SimaPro form.\n",
    "Changes `Foo, S - Copied from Ecoinvent U` to `Foo, U`, i.e. the standard way that ecoinvent processes are given in SimaPro.\n",
    "Done in preparation for harmonization and linking via standard Randonneur transformations like `simapro-ecoinvent-3.8-cutoff`.\"\"\",\n",
    "    contributors=[\n",
    "        {\"title\": \"Chris Mutel\", \"path\": \"https://chris.mutel.org/\", \"role\": \"author\"},\n",
    "    ],\n",
    "    mapping_target=rn.MappingConstants.SIMAPRO_CSV,\n",
    "    mapping_source=rn.MappingConstants.SIMAPRO_CSV,\n",
    "    version=\"1.0.0\",\n",
    "    source_id=\"agribalyse-3.1.1\",\n",
    "    target_id=\"agribalyse-3.1.1\",\n",
    "    graph_context=[\"edges\"],\n",
    "    homepage=\"https://www.data.gouv.fr/fr/datasets/agribalyse-3-1-1-synthese/\",\n",
    ")\n",
    "dp.add_data(\"replace\", data)\n",
    "registry.add_file(dp.to_json(Path(\"agribalyse-3.1.1-restore-simapro-ecoinvent-names.json\")), replace=True)"
   ]
  },
  {
   "cell_type": "code",
   "execution_count": null,
   "id": "849ef53d-abad-4783-adf8-f929f53ae36a",
   "metadata": {},
   "outputs": [],
   "source": [
    "r_data = registry.get_file('agribalyse-3.1.1-restore-simapro-ecoinvent-names')['replace']\n",
    "\n",
    "print([\n",
    "    o \n",
    "    for o in r_data\n",
    "    if o['source']['name'] == 'Barley grain, feed {CA-QC}| production | Cut-off, S - Copied from Ecoinvent U'\n",
    "])\n",
    "\n",
    "r_data = None"
   ]
  },
  {
   "cell_type": "code",
   "execution_count": null,
   "id": "67eb4bda-7e2b-421c-84b0-ff7c11959f33",
   "metadata": {},
   "outputs": [],
   "source": [
    "sp.randonneur(\"agribalyse-3.1.1-restore-simapro-ecoinvent-names\")\n",
    "sp.randonneur(\"simapro-ecoinvent-3.8-cutoff\", fields=[\"name\"])"
   ]
  },
  {
   "cell_type": "code",
   "execution_count": null,
   "id": "08cf2b46-66ef-47e7-a4db-d1a665d2f4cf",
   "metadata": {},
   "outputs": [],
   "source": [
    "sp.apply_strategies()"
   ]
  },
  {
   "cell_type": "code",
   "execution_count": null,
   "id": "ceb70a05-dcd4-4c9f-83c5-a2a0391ff548",
   "metadata": {},
   "outputs": [],
   "source": [
    "sp.match_database(\"ecoinvent-3.8-cutoff\")"
   ]
  },
  {
   "cell_type": "code",
   "execution_count": null,
   "id": "a2fb72eb-4bd7-4205-895c-87acd44f7ad3",
   "metadata": {},
   "outputs": [],
   "source": [
    "sp.statistics()"
   ]
  },
  {
   "cell_type": "code",
   "execution_count": null,
   "id": "7485c359-c183-431d-ac59-c9bd5856f553",
   "metadata": {},
   "outputs": [],
   "source": [
    "for exc in sp.unlinked:\n",
    "    if exc['type'] == 'production':\n",
    "        break"
   ]
  },
  {
   "cell_type": "code",
   "execution_count": null,
   "id": "0621c03f-552d-485d-b13f-e5a2eff0017e",
   "metadata": {},
   "outputs": [],
   "source": [
    "exc"
   ]
  },
  {
   "cell_type": "code",
   "execution_count": null,
   "id": "c17fed86-dec5-4a21-a66a-50dc7b4b733b",
   "metadata": {},
   "outputs": [],
   "source": [
    "for ds in sp.data:\n",
    "    if exc in ds['exchanges']:\n",
    "        break"
   ]
  },
  {
   "cell_type": "code",
   "execution_count": null,
   "id": "f58a62f2-7269-4fc0-9c6a-081e5d1395ee",
   "metadata": {},
   "outputs": [],
   "source": [
    "ds"
   ]
  },
  {
   "cell_type": "code",
   "execution_count": null,
   "id": "a3d1cafa-85ee-446e-98ae-18d5882d182f",
   "metadata": {},
   "outputs": [],
   "source": [
    "for ds in sp.data:\n",
    "    func = [exc for exc in ds['exchanges'] if exc.get('functional')]\n",
    "    if len(func) == 1 and func[0]['name'] != ds['name']:\n",
    "        break"
   ]
  },
  {
   "cell_type": "code",
   "execution_count": null,
   "id": "d16b2ee7-007c-43fc-aa0f-f806edf3dabc",
   "metadata": {},
   "outputs": [],
   "source": [
    "ds"
   ]
  },
  {
   "cell_type": "code",
   "execution_count": null,
   "id": "13417b3b-e635-4e59-b54c-1b0e6b866b8a",
   "metadata": {},
   "outputs": [],
   "source": [
    "for ds in sp.data:\n",
    "    if ds['name'] == 'Propane, burned in industrial furnace, at plant {FR} U':\n",
    "        print(ds['unit'])"
   ]
  },
  {
   "cell_type": "code",
   "execution_count": null,
   "id": "cee0e08e-2afe-42ec-b309-0796d11742da",
   "metadata": {},
   "outputs": [],
   "source": [
    "md = registry.get_file(\"simapro-ecoinvent-3.8-cutoff\")"
   ]
  },
  {
   "cell_type": "code",
   "execution_count": null,
   "id": "b9e925dc-bb1d-423c-8c43-8e43e48ce90e",
   "metadata": {},
   "outputs": [],
   "source": [
    "for dct in md['replace']:\n",
    "    if dct['source']['name'].startswith(\"Sodium chloride, powder\"):\n",
    "        print(dct)"
   ]
  },
  {
   "cell_type": "code",
   "execution_count": null,
   "id": "e6aa67fd-5d9d-4f31-884d-314303c11a60",
   "metadata": {},
   "outputs": [],
   "source": [
    "print()"
   ]
  },
  {
   "cell_type": "code",
   "execution_count": null,
   "id": "df7136ea-21a5-43fa-93b6-2be99cca2d26",
   "metadata": {},
   "outputs": [],
   "source": [
    "print(registry)"
   ]
  },
  {
   "cell_type": "code",
   "execution_count": null,
   "id": "46fc8f5b-9be2-470b-9f50-850fa4a433cd",
   "metadata": {},
   "outputs": [],
   "source": []
  }
 ],
 "metadata": {
  "kernelspec": {
   "display_name": "Python [conda env:dlt]",
   "language": "python",
   "name": "conda-env-dlt-py"
  },
  "language_info": {
   "codemirror_mode": {
    "name": "ipython",
    "version": 3
   },
   "file_extension": ".py",
   "mimetype": "text/x-python",
   "name": "python",
   "nbconvert_exporter": "python",
   "pygments_lexer": "ipython3",
   "version": "3.12.6"
  }
 },
 "nbformat": 4,
 "nbformat_minor": 5
}
