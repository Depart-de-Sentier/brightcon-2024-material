{
 "cells": [
  {
   "cell_type": "markdown",
   "id": "c6054d9e-befb-4e15-b5f5-f9aa6d9a0a50",
   "metadata": {},
   "source": [
    "# `bw_simapro_csv`: Python software for robsutly reading SimaPro CSV files\n",
    "\n",
    "The SimaPro CSV file format can be challenging to read for a number of reasons. `bw_simapro_csv` tries to solve problems where it can, and to clearly notify you if it can't.\n",
    "\n",
    "`bw_simapro_csv` draws heavily from the very nice [olca-simapro-csv](https://github.com/GreenDelta/olca-simapro-csv/), but is implemented in Python, and I think we have some more checks for potential data issues. It also allows for direct use in Brightway.\n",
    "\n",
    "Because we don't have a formal specification or reference test cases, we have to reverse engineer the format. This means that our understanding is limited by the available input data. Current, `bw_simapro_csv` **does not** parse \"product stage\" types exports, as we don't have enough data to understand how this format type works. *Please help* by providing real world data and results so we can fill this hole in the library!\n",
    "\n",
    "All told, SimaPro CSV isn't that bad. [There are much worse formats](https://github.com/gco/xee/blob/master/XeePhotoshopLoader.m#L108).\n",
    "\n",
    "## Text encoding\n",
    "\n",
    "The first meta-challenge is the text encoding. We are quite confident that SimaPro CSV is supposed to be exporting text following Windows 1252 (this is what [olca-simapro-csv](https://github.com/GreenDelta/olca-simapro-csv/blob/c11e40e7722f2ecaf62e813eebcc8d0793c8c3ff/src/test/java/org/openlca/simapro/csv/CsvLineTest.java#L53) uses as well).\n",
    "\n",
    "However, it is quite common for SimaPro CSV files to use either control characters from the [Windows 1252 code plane](https://www.ascii-code.com/grid), and we have even seen bytes used which were undefined in the code plane. This seems to be partially intentional (e.g. they use the character `/u007f` - the delete character - as a line break in multiline strings so that these strings can be stored on a single CSV line (while there isn't a single CSV specification, everyone else uses standard ways to get this behaviour, mostly by just escaping a normaly line break). But sometimes it seems like people are entering data with their language set to something else, and this bytes are entered as if they were in Windows 1252. \n",
    "\n",
    "We don't really know, but we need to do something, so we remove characters which could never be meaningful in Windows 1252 (undefined bytes, or things like \"device control 4\" character).\n",
    "\n",
    "## Products versus processes\n",
    "\n",
    "Despite the presence of a `Products` block in processes, SimaPro doesn't really differentiate between between the two. Therefore, all process datasets should be considered as [`ProcessWithReferenceProduct`](https://github.com/brightway-lca/bw_interface_schemas/blob/5fb1d40587aec2a4bb2248505550fc883a91c355/bw_interface_schemas/lci.py#L83). Consider this quote from the tutorial:\n",
    "\n",
    "    Process name in SimaPro\n",
    "    Under the Documentation tab, you can enter the process name. Please note that this is only for\n",
    "    your own reference and this name is not used anywhere. Processes are identified by the name\n",
    "    defined under the Input/Output tab in the product section. Therefore, if you want to search for a\n",
    "    certain process, you should use the product name defined in the Input/Output as the keyword.\n",
    "\n",
    "## SimaPro CSV file format\n",
    "\n",
    "We can take a divide and conquer approach to these files. We will divide the files into a set of *blocks*, and have custom classes for each block. The first block is the header."
   ]
  },
  {
   "cell_type": "code",
   "execution_count": null,
   "id": "cc779eb2-f49f-4d59-b0d7-bd6527e7eaef",
   "metadata": {},
   "outputs": [],
   "source": [
    "import bw_simapro_csv\n",
    "from pathlib import Path"
   ]
  },
  {
   "cell_type": "code",
   "execution_count": null,
   "id": "3730da80-be2f-42b9-b074-6bb8633e878d",
   "metadata": {},
   "outputs": [],
   "source": [
    "# Note - won't work for your accounts\n",
    "# You can upload a SimaPro export\n",
    "# or look in https://github.com/brightway-lca/bw_simapro_csv/tree/main/tests/fixtures\n",
    "my_filepath = Path(\"/home/jupyter-cmutel-brightcon/data/AGB 3.1.1.csv\")  "
   ]
  },
  {
   "cell_type": "code",
   "execution_count": null,
   "id": "44c52c5a-3381-45fe-919b-2a52cb17f12a",
   "metadata": {},
   "outputs": [],
   "source": [
    "sp = bw_simapro_csv.SimaProCSV(my_filepath)"
   ]
  },
  {
   "cell_type": "markdown",
   "id": "3ffd608d-5c1d-4db4-92e8-abe56c676513",
   "metadata": {},
   "source": [
    "In my case, I will be looking at the Agribalyse database. This is actually a quite clean database, and the import doesn't notice any obvious warnings or errors. Here is the header as provided in the file:\n",
    "\n",
    "```console\n",
    "{SimaPro 9.5.0.0}\n",
    "{processus}\n",
    "{Date: 05/05/2023}\n",
    "{Time: 11:10:18}\n",
    "{Projet: AGRIBALYSE - Unit}\n",
    "{CSV Format version: 9.0.0}\n",
    "{CSV separator: Semicolon}\n",
    "{Decimal separator: ,}\n",
    "{Date separator: /}\n",
    "{Short date format: dd/MM/yyyy}\n",
    "{Export platform IDs: No}\n",
    "{Skip empty fields: Non}\n",
    "{Convert expressions to constants: Oui}\n",
    "{Selection: Selection (18557)}\n",
    "{Related objects (system descriptions, substances, units, etc.): Oui}\n",
    "{Include sub product stages and processes: Non}\n",
    "{Skip unused parameters: Oui}\n",
    "{Ouvrir bibliothèque : 'AGRIBALYSE - Unit'}\n",
    "```\n",
    "\n",
    "You can probably see that this part of the file *can't* be treated as a CSV. It needs, and gets, a special parser.\n",
    "\n",
    "We also notice that some *field names* and even values are identified in French. We have tried to *guess* what [these fields could be called](https://github.com/brightway-lca/bw_simapro_csv/blob/main/bw_simapro_csv/header.py#L44) in other common European languages - please help us if you find terms that we are missing!\n",
    "\n",
    "We also [try many possible values](https://github.com/brightway-lca/bw_simapro_csv/blob/main/bw_simapro_csv/utils.py#L38) for booleans.\n",
    "\n",
    "Here is our parsing of the header:"
   ]
  },
  {
   "cell_type": "code",
   "execution_count": null,
   "id": "9e6d544f-9dd2-42fe-b4a9-d7f1f5dc41ba",
   "metadata": {},
   "outputs": [],
   "source": [
    "sp.header"
   ]
  },
  {
   "cell_type": "markdown",
   "id": "e34a32ba-4281-4ca1-b06b-e715c5940ca4",
   "metadata": {},
   "source": [
    "## `Process` blocks\n",
    "\n",
    "We then move to the next type of blocks, which describe processes. We have to be a bit careful here, as SimaPro blocks normally start with a control line, like\n",
    "\n",
    "```console\n",
    "Process\n",
    "```\n",
    "\n",
    "and end with another control line:\n",
    "\n",
    "```console\n",
    "End\n",
    "```\n",
    "\n",
    "**But** they don't always and the `End`. We therefore need to iterate through lines to find the implicit end of a block (the start of a new block), and then *backtrack* to finish the processing of the first block. We do this by using a [rewindable iterator](https://github.com/brightway-lca/bw_simapro_csv/blob/main/bw_simapro_csv/csv_reader.py#L32).\n",
    "\n",
    "One tricky point in the processing is that there are [some block headers](https://github.com/brightway-lca/bw_simapro_csv/blob/main/bw_simapro_csv/main.py#L70) which can start new blocks, but can also be used *inside* a `Process` block. If we see a file where this indeterminate section headers are used and `End` command blocks aren't, we raise an error.\n",
    "\n",
    "`Process` blocks do have some metadata:"
   ]
  },
  {
   "cell_type": "code",
   "execution_count": null,
   "id": "ad6a4173-648c-4814-9f88-0b373832956d",
   "metadata": {},
   "outputs": [],
   "source": [
    "process_blocks = [block for block in sp if isinstance(block, bw_simapro_csv.blocks.Process)]\n",
    "one_process = process_blocks[10200]"
   ]
  },
  {
   "cell_type": "code",
   "execution_count": null,
   "id": "32139a5f-4b4c-45e1-9fe3-70d21e4445dc",
   "metadata": {},
   "outputs": [],
   "source": [
    "one_process.parsed"
   ]
  },
  {
   "cell_type": "markdown",
   "id": "afb83878-9cf5-4ed3-a955-d1b8c129b7e6",
   "metadata": {},
   "source": [
    "`Process` blocks are themselves made up of smaller blocks."
   ]
  },
  {
   "cell_type": "code",
   "execution_count": null,
   "id": "378e5351-475c-4788-9feb-2ab812d1d117",
   "metadata": {},
   "outputs": [],
   "source": [
    "one_process.blocks"
   ]
  },
  {
   "cell_type": "markdown",
   "id": "12a59892-9316-41f2-a354-96ac91f8419b",
   "metadata": {},
   "source": [
    "`Process` blocks can have the following constituent blocks:\n",
    "\n",
    "* Avoided products\n",
    "* Calculated parameters\n",
    "* Economic issues\n",
    "* Electricity/heat\n",
    "* Emissions to air\n",
    "* Emissions to soil\n",
    "* Emissions to water\n",
    "* Final waste flows\n",
    "* Input parameters\n",
    "* Materials/fuels\n",
    "* Non material emissions\n",
    "* Products\n",
    "* Remaining waste\n",
    "* Resources\n",
    "* Separated waste\n",
    "* Social issues\n",
    "* Waste scenario\n",
    "* Waste to treatment\n",
    "* Waste treatment\n",
    "\n",
    "Many of these can [reuse a generic parser](https://github.com/brightway-lca/bw_simapro_csv/blob/main/bw_simapro_csv/blocks/process.py#L22) for technosphere inputs or biosphere edges.\n",
    "\n",
    "### Parameterization\n",
    "\n",
    "The format for input or output lines is more or less OK. We do need to if the amount field is a number or instead a formula. This is complicated because SimaPro allows for arbitrary decimal separators (e.g. `10,40`), and for the percentage sign (e.g. `80%`).\n",
    "\n",
    "If we determine that there is a formula, we need to keep a reference to it, because the variables used in that formula are sometimes only be defined at the end of the SimaPro CSV file.\n",
    "\n",
    "We also need to deal with SimaPro using string parsing in formulas which is case independent - i.e. 'FOO' is the same as 'foo'. This is **not** the case when parsing with Python. To handle this, and to handle variables being defined with names which are reserved words in Python (like `yield`), we 1) uppercase all variable names, and 2) preface all variables with `SP_`.\n",
    "\n",
    "### Inputs and Outputs\n",
    "\n",
    "This is actually pretty simple. Parse each line according to its reverse-engineered format and add it to the list.\n",
    "\n",
    "We check uncertainty values, and convert impossible distributions to \"No uncertainty\"."
   ]
  },
  {
   "cell_type": "code",
   "execution_count": null,
   "id": "6e2f45bf-6da7-41f0-9d93-c02a2b2ba715",
   "metadata": {},
   "outputs": [],
   "source": [
    "one_process.blocks['Products'].parsed"
   ]
  },
  {
   "cell_type": "code",
   "execution_count": null,
   "id": "0b58723c-6d43-4202-b310-700c4ff4afbd",
   "metadata": {},
   "outputs": [],
   "source": [
    "one_process.blocks['Materials/fuels'].parsed"
   ]
  },
  {
   "cell_type": "markdown",
   "id": "44639f97-b9ea-4731-8462-62daddaf7155",
   "metadata": {},
   "source": [
    "## Units\n",
    "\n",
    "We convert units to the \"natural\" unit in that dimension. The natural unit is the one used to define the unit in the `Units` block. The `Units` block looks like this:\n",
    "\n",
    "```console\n",
    "Units\n",
    "kg;Mass;1;kg\n",
    "p;Amount;1;p\n",
    "g;Mass;0,001;kg\n",
    "kWh;Energy;3,6;MJ\n",
    "l;Volume;0,001;m3\n",
    "m3;Volume;1;m3\n",
    "```"
   ]
  },
  {
   "cell_type": "code",
   "execution_count": null,
   "id": "1e98e97c-f6ee-4b72-b0c4-3a00248cf0da",
   "metadata": {},
   "outputs": [],
   "source": [
    "units = [block for block in sp.blocks if isinstance(block, bw_simapro_csv.blocks.Units)][0]\n",
    "units.parsed[:3]"
   ]
  },
  {
   "cell_type": "markdown",
   "id": "42724919-ac10-4cb5-8d26-1476b9e863c6",
   "metadata": {},
   "source": [
    "Because we remove illegal characters, we can run into funny situations. For example, here is a log message from client data:\n",
    "\n",
    "```console\n",
    "2024-08-13 17:18:05.833 | CRITICAL | bw_simapro_csv.units:normalize_units:43 - \n",
    "    Multiple different unit conversions given for input unit \"g\".\n",
    "    After removing illegal characters and fixing potential encoding issues,\n",
    "    unit \"g\" has multiple possible conversion factors. This will lead to\n",
    "    incorrect results and undefined behaviour. To fix this, please remove\n",
    "    all unwanted unit conversions lines. We found the follow possible conversions:\n",
    "    Source unit; target unit; conversion; line number:\n",
    "\t('g', 'kg', 0.001, 738)\n",
    "\t('g', 'kg', 1e-09, 849)\n",
    "```\n",
    "\n",
    "This has to be fixed manually.\n",
    "\n",
    "## Missing references\n",
    "\n",
    "There is one other class of errors we have seen in real data. SimaPro has metadata blocks at the end of the file, like the list of literature references, units, and different types of biosphere flows. However, there is **no guarantee** that a reference to a unit or literature reference actually exists in that metadata block. Sometimes you are stuck with reference labels and no more info."
   ]
  },
  {
   "cell_type": "markdown",
   "id": "9faf6806-5145-440f-8395-597083cc680e",
   "metadata": {},
   "source": [
    "## Exporting to `brightway`\n",
    "\n",
    "`bw_simapro_csv` is not Brightway-specific, even if `bw` is in the name. In fact, Brightway isn't installed if you run `pip install bw_simapro_csv`. But of course it can export to Brightway if desired. When exporting, we do the following:\n",
    "\n",
    "* `Process` metdata is turned into tags\n",
    "* `Waste treatment` inputs and `Products` outputs are labelled as functional edges\n",
    "* Processes with more than one functional edge are stored as `multifunctional` processes\n",
    "* Allocation values are added to the `properties` dict as `manual_allocation`"
   ]
  },
  {
   "cell_type": "code",
   "execution_count": null,
   "id": "053fef10-436b-493c-85c5-6ee6ac4d6beb",
   "metadata": {},
   "outputs": [],
   "source": []
  }
 ],
 "metadata": {
  "kernelspec": {
   "display_name": "Python [conda env:dlt]",
   "language": "python",
   "name": "conda-env-dlt-py"
  },
  "language_info": {
   "codemirror_mode": {
    "name": "ipython",
    "version": 3
   },
   "file_extension": ".py",
   "mimetype": "text/x-python",
   "name": "python",
   "nbconvert_exporter": "python",
   "pygments_lexer": "ipython3",
   "version": "3.12.6"
  }
 },
 "nbformat": 4,
 "nbformat_minor": 5
}
