{
 "cells": [
  {
   "cell_type": "markdown",
   "id": "1026c63e-2488-49c2-82e0-584f3d43359b",
   "metadata": {},
   "source": [
    "<div style=\"border: 2px solid #808080; padding: 10px; border-radius: 5px; background-color: #D3D3D3; color: black; text-align: center;\">\n",
    "  <h1 style=\"margin: 0;\">Computational Structure of LCA 🖥️</h1>\n",
    "</div>"
   ]
  },
  {
   "cell_type": "markdown",
   "id": "8f964ec18cb1eec",
   "metadata": {},
   "source": [
    "This part of the workshop outlines the key computational steps in Life Cycle Assessment (LCA) ([Heijungs and Suh, 2002](https://link.springer.com/book/10.1007/978-94-015-9900-9)), focusing on matrix operations used in Life Cycle Inventory (LCI) and Life Cycle Impact Assessment (LCIA). The example provided demonstrates these concepts in practice, guiding you through the process of calculating environmental impacts step-by-step.\n",
    "_______________"
   ]
  },
  {
   "cell_type": "markdown",
   "id": "5cf3659f-fab1-4f82-8b62-8bf3d81e42a7",
   "metadata": {},
   "source": [
    "#### Life Cycle Inventory (LCI) Analysis\n",
    "\n",
    "   The LCI phase involves the formulation of two key matrices:\n",
    "   \n",
    "   - **Technology (*Technosphere*) Matrix (A)**: \n",
    "Represents the inter-process flows (e.g. materials and energy).\n",
    "\n",
    "   \n",
    "$$\n",
    "\\mathbf{A} = \\begin{pmatrix}\n",
    "a_{11} & a_{12} & \\dots  & a_{1n} \\\\\n",
    "a_{21} & a_{22} & \\dots  & a_{2n} \\\\\n",
    "\\vdots & \\vdots & \\ddots & \\vdots \\\\\n",
    "a_{m1} & a_{m2} & \\dots  & a_{mn}\n",
    "\\end{pmatrix}\n",
    "$$\n",
    "\n",
    "where $a_{ij}$ represents the flow from resource $i$ to process $j$.\n",
    "\n",
    "   - **Elementary Flow (*Biosphere*) Matrix (B)**: \n",
    "Captures exchanges between the processes and the environment (e.g., emissions, resource use).\n",
    "\n",
    "  \n",
    "$$\n",
    "\\mathbf{B} = \\begin{pmatrix}\n",
    "b_{11} & b_{12} & \\dots  & b_{1n} \\\\\n",
    "b_{21} & b_{22} & \\dots  & b_{2n} \\\\\n",
    "\\vdots & \\vdots & \\ddots & \\vdots \\\\\n",
    "b_{k1} & b_{k2} & \\dots  & b_{kn}\n",
    "\\end{pmatrix}\n",
    "$$\n",
    "\n",
    "where $b_{ej}$ represents the elementary flow from process $i$ to elementary flow $e$.\n",
    "\n",
    "   - **Scaling Vector (s)**: \n",
    "Represents the scaling factors needed to meet the functional unit.\n",
    "\n",
    "     \n",
    "$$\n",
    "\\mathbf{s} \\cdot \\mathbf{A} = \\mathbf{f}\n",
    "$$\n",
    "\n",
    "where $\\mathbf{f}$ is the functional unit vector, and $\\mathbf{A}^{-1}$ is the inverse of the technology matrix.\n",
    "\n",
    "   - **Environmental Intervention Vector (g)**:\n",
    "The total environmental burden associated with fulfilling the functional unit.\n",
    "      \n",
    "$$\n",
    "\\mathbf{g} = \\mathbf{B} \\cdot \\mathbf{s}\n",
    "$$\n",
    "\n",
    "where $\\mathbf{g}$ is the results vector containing aggregated environmental interventions.\n",
    "\n",
    "#### Life Cycle Impact Assessment (LCIA)\n",
    "   - **Classification**: Map each elementary flow in $\\mathbf{g}$ to impact categories.\n",
    "   - **Characterization**: Apply characterization factors to each flow:\n",
    "  - **Mathematical Formulation**:   \n",
    "$$\n",
    "\\mathbf{h} = \\mathbf{Q} \\cdot \\mathbf{g}\n",
    "$$\n",
    "where $\\mathbf{Q}$ is the characterization matrix and $\\mathbf{h}$ is the impact vector for each category."
   ]
  },
  {
   "cell_type": "markdown",
   "id": "8d2eae80-6ea9-4d74-a661-12c3854a4ba6",
   "metadata": {},
   "source": [
    "<div style=\"border: 2px solid #32CD32; padding: 10px; border-radius: 5px; background-color: #98FB98; color: black; text-align: center;\">\n",
    "  <h4 style=\"margin: 0;\">Demonstration 🌾</h4>\n",
    "</div>\n"
   ]
  },
  {
   "cell_type": "markdown",
   "id": "f715a94f-6782-45f9-a58e-ab608f04467a",
   "metadata": {},
   "source": [
    "We are now going to go through an example (based on [Kätelhön et al. (2016)](https://pubs.acs.org/doi/10.1021/acs.est.6b04270)). \n",
    "\n",
    "#####  **Goal and Scope**:\n",
    "Determine the global warming impact (*impact category*) of producing 1 Mt of rice (*functional unit*).\n",
    "\n",
    "The process system is depicted in the Figure below:"
   ]
  },
  {
   "cell_type": "markdown",
   "id": "d30521ac-03d3-4efe-9e5a-8fcebfd79d67",
   "metadata": {},
   "source": [
    "<div style=\"text-align: center;\">\n",
    "    <img src=\"figures/system_boundaries_rice-no-choice_neutral.svg\" alt=\"System Boundaries of Rice Superstructure (Dark Theme)\" width=\"450\">\n",
    "</div>"
   ]
  },
  {
   "cell_type": "markdown",
   "id": "3c683a3e-d81c-4b16-b71d-72e2ca3e11da",
   "metadata": {},
   "source": [
    "##### **Life Cycle Inventory**:\n",
    "Find below the inventories in Matrix form, as explained before:\n",
    "\n",
    "**Technosphere Matrix (A)**:\n",
    "\n",
    "$$\n",
    "\\begin{array}{|c|c|c|c|c|c|c|c|}\n",
    "\\hline\n",
    " & \\text{Rice} & \\text{Rice} & \\text{Natural gas} & \\text{Natural gas} & \\text{Power} & \\text{Transportation} \\\\\n",
    " & \\text{factory} & \\text{farming} & \\text{boiler} & \\text{supply} & \\text{plant} & \\text{by truck} \\\\\n",
    "\\hline\n",
    "\\text{Processed rice (in Mt)} & \\textcolor{dodgerblue}{\\textbf{1}} & 0 & 0 & 0 & 0 & 0 \\\\\n",
    "\\hline\n",
    "\\text{Unprocessed rice (in Mt)} & \\textcolor{darkorange}{-1.15} & \\textcolor{dodgerblue}{\\textbf{1}} & 0 & 0 & 0 & 0 \\\\\n",
    "\\hline\n",
    "\\text{Thermal energy (in TWh)} & \\textcolor{darkorange}{-2.2} & 0 & \\textcolor{dodgerblue}{\\textbf{1}} & 0 & 0 & 0 \\\\\n",
    "\\hline\n",
    "\\text{Natural gas (in TWh)} & 0 & 0 & \\textcolor{darkorange}{-1.11} & \\textcolor{dodgerblue}{\\textbf{1}} & 0 & 0 \\\\\n",
    "\\hline\n",
    "\\text{Electricity (in TWh)} & \\textcolor{darkorange}{-0.08} & 0 & 0 & 0 & \\textcolor{dodgerblue}{\\textbf{1}} & 0 \\\\\n",
    "\\hline\n",
    "\\text{Transportation (in Gt*km)} & \\textcolor{darkorange}{-0.35} & 0 & 0 & 0 & 0 & \\textcolor{dodgerblue}{\\textbf{1}} \\\\\n",
    "\\hline\n",
    "\\end{array}\n",
    "$$\n",
    "\n",
    "\n",
    "**Biosphere Matrix (B)**:\n",
    "\n",
    "$$\n",
    "\\begin{array}{|c|c|c|c|c|c|c|c|}\n",
    "\\hline\n",
    " & \\text{Rice} & \\text{Rice} & \\text{Natural gas} & \\text{natural} & \\text{Power} & \\text{Transportation} \\\\\n",
    " & \\text{factory} & \\text{farming} & \\text{boiler} & \\text{gas supply} & \\text{plant} & \\text{by truck} \\\\\n",
    "\\hline\n",
    "\\text{CO2 (in Mt)} & 0 & 6.14 \\times 10^{-1} & 2.27 \\times 10^{-1} & 3.21 \\times 10^{-2} & 1.10 \\times 10^{0} & 5.76 \\times 10^{-2} \\\\\n",
    "\\hline\n",
    "\\text{CH4 (in Mt)} & 0 & 1.33 \\times 10^{-3} & 1.47 \\times 10^{-4} & 1.50 \\times 10^{-3} & 9.15 \\times 10^{-4} & 6.97 \\times 10^{-5} \\\\\n",
    "\\hline\n",
    "\\end{array}\n",
    "$$\n",
    "\n",
    "\n",
    "**Characterization Factor Matrix (Q)**:\n",
    "\n",
    "$$\n",
    "\\begin{array}{|c|c|c|}\n",
    "\\hline\n",
    " & \\text{CO2} & \\text{CH4} \\\\\n",
    "\\hline\n",
    "\\text{GWP100 (in kg CO2e per kg)} & 1 & 25 \\\\\n",
    "\\hline\n",
    "\\end{array}\n",
    "$$\n",
    "\n",
    "**Functional Unit (f)**:\n",
    "\n",
    "$$\n",
    "\\begin{array}{|c|c|c|c|c|c|c|c|c|c|c|c|c|c|}\n",
    "\\hline\n",
    "\\text{Processed rice (in Mt)} & 1  \\\\\n",
    "\\hline\n",
    "\\text{Unprocessed rice (in Mt)} & 0 \\\\\n",
    "\\hline\n",
    "\\text{Thermal energy (in TWh)} & 0 \\\\\n",
    "\\hline\n",
    "\\text{Natural gas (in TWh)} & 0 \\\\\n",
    "\\hline\n",
    "\\text{Electricity (in TWh)} & 0 \\\\\n",
    "\\hline\n",
    "\\text{Transportation (in Gt*km)} & 0 \\\\\n",
    "\\hline\n",
    "\\end{array}\n",
    "$$\n",
    "\n",
    "In Python, we can define them as follows:"
   ]
  },
  {
   "cell_type": "code",
   "execution_count": null,
   "id": "7acf5283-f3a7-4a02-acd4-841b8b9a3f85",
   "metadata": {},
   "outputs": [],
   "source": [
    "import numpy as np\n",
    "\n",
    "# Technology Matrix (A)  \n",
    "A = np.array([  \n",
    "    [1, 0, 0, 0, 0, 0],      # Processed rice (in Mt)  \n",
    "    [-1.15, 1, 0, 0, 0, 0],  # Unprocessed rice (in Mt)  \n",
    "    [-2.2, 0, 1, 0, 0, 0],   # Thermal energy (in TWh)  \n",
    "    [0, 0, -1.11, 1, 0, 0],  # Natural gas (in TWh)  \n",
    "    [-0.08, 0, 0, 0, 1, 0],  # Electricity (in TWh)  \n",
    "    [-0.35, 0, 0, 0, 0, 1]   # Transportation (in Gt*km)  \n",
    "])  \n",
    "  \n",
    "# Biosphere Matrix (B)  \n",
    "B = np.array([  \n",
    "    [0, 6.14e-1, 2.27e-1, 3.21e-2, 1.10e0, 5.76e-2],  # CO2 (in Mt)  \n",
    "    [0, 1.33e-3, 1.47e-4, 1.50e-3, 9.15e-4, 6.97e-5]  # CH4 (in Mt)  \n",
    "])  \n",
    "  \n",
    "# Characterization Factor Matrix (Q)  \n",
    "Q = np.array([  \n",
    "    [1, 25]  # GWP100 (in kg CO2e per kg)  \n",
    "])  \n",
    "  \n",
    "# Functional Unit (f)  \n",
    "f = np.array([  \n",
    "    [1],  # Processed rice (in Mt)  \n",
    "    [0],  # Unprocessed rice (in Mt)  \n",
    "    [0],  # Thermal energy (in TWh)  \n",
    "    [0],  # Natural gas (in TWh)  \n",
    "    [0],  # Electricity (in TWh)  \n",
    "    [0]   # Transportation (in Gt*km)  \n",
    "])"
   ]
  },
  {
   "cell_type": "markdown",
   "id": "301cfb39-3f78-4c1f-bb37-634b4569d895",
   "metadata": {},
   "source": [
    "##### **Life Cycle Impact Assessment**:\n",
    "\n",
    "Having defined the complete Life Cycle Inventory (LCI), the LCIA can be conducted by performing the aforementioned matrix operations:\n",
    "\n",
    "First, the scaling vector $s$ is calculated via:\n",
    "\n",
    "$$\n",
    "\\mathbf{s} = \\mathbf{A}^{-1} \\cdot \\mathbf{f}\n",
    "$$"
   ]
  },
  {
   "cell_type": "code",
   "execution_count": null,
   "id": "38de4acd-3884-4fe0-b5ff-e4e61e71cd1a",
   "metadata": {},
   "outputs": [],
   "source": [
    "# Calculate the scaling vector (s)  \n",
    "s = np.linalg.solve(A, f)  \n",
    "  \n",
    "print(\"Scaling Vector (s):\")  \n",
    "print(s)"
   ]
  },
  {
   "cell_type": "markdown",
   "id": "21fc734e-b563-456a-927e-c59904508db3",
   "metadata": {},
   "source": [
    "Next, the environmental flows $g$ can be determined via:\n",
    "$$\n",
    "\\mathbf{g} = \\mathbf{B} \\cdot \\mathbf{s}\n",
    "$$"
   ]
  },
  {
   "cell_type": "code",
   "execution_count": null,
   "id": "94a6fa64-685a-481e-8645-849dab17ac21",
   "metadata": {},
   "outputs": [],
   "source": [
    "# Calculate the environmental interventions vector (g)  \n",
    "g = np.dot(B, s)  \n",
    "  \n",
    "print(\"Environmental Interventions Vector (g):\")  \n",
    "print(g)"
   ]
  },
  {
   "cell_type": "markdown",
   "id": "3922baaf-4475-4775-aa60-8422ad8c1fc9",
   "metadata": {},
   "source": [
    "Next, the environmental impacts $h$ can be determined via:\n",
    "$$\n",
    "\\mathbf{h} = \\mathbf{C} \\cdot \\mathbf{g}\n",
    "$$"
   ]
  },
  {
   "cell_type": "code",
   "execution_count": null,
   "id": "bf92dbed-adf5-47d3-abff-be4549078bd4",
   "metadata": {},
   "outputs": [],
   "source": [
    "# Calculate the characterized impact vector (h)  \n",
    "h = np.dot(Q, g)  \n",
    "  \n",
    "print(\"Characterized Impact Vector (h):\")  \n",
    "print(h)"
   ]
  },
  {
   "cell_type": "markdown",
   "id": "1474b04d-2718-4ca4-87d4-04e9983aa44d",
   "metadata": {},
   "source": [
    "##### **Interpretation**:\n",
    "\n",
    "The results of the Life Cycle Impact Assessment (LCIA) indicate that producing 1 Mt of rice results in a global warming potential (GWP) of approximately 1.53 million metric tons of CO₂-equivalent emissions. This impact is primarily driven by CO₂ emissions, with a smaller contribution from methane (CH₄).\n",
    "\n",
    "This standard LCA does not consider any alternative technology or regional choices for the production processes. Opposed to the PSE-centric LCO approach demonstrated in the other auxiliar notebook, an LCA-centric approach has been developed, maintaining the LCA nomenclature and data structures. The following notebooks dive into how standard LCA is extended to optimization, and introduces the **<span style=\"color: darkorange;\">PULPO</span>** method and [Python package (GitHub)](https://github.com/flechtenberg/pulpo?tab=readme-ov-file) to define and solve such problems. "
   ]
  },
  {
   "cell_type": "code",
   "execution_count": null,
   "id": "4075a54d-980c-472b-9e4e-aee2c19265f3",
   "metadata": {},
   "outputs": [],
   "source": []
  }
 ],
 "metadata": {
  "kernelspec": {
   "display_name": "Python 3 (ipykernel)",
   "language": "python",
   "name": "python3"
  },
  "language_info": {
   "codemirror_mode": {
    "name": "ipython",
    "version": 3
   },
   "file_extension": ".py",
   "mimetype": "text/x-python",
   "name": "python",
   "nbconvert_exporter": "python",
   "pygments_lexer": "ipython3",
   "version": "3.10.15"
  }
 },
 "nbformat": 4,
 "nbformat_minor": 5
}
