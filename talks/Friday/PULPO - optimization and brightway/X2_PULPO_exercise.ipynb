{
 "cells": [
  {
   "cell_type": "markdown",
   "id": "235f0dc1-8628-4bdf-b6f0-0a39917c8403",
   "metadata": {
    "execution": {
     "iopub.execute_input": "2024-09-03T08:00:53.813136Z",
     "iopub.status.busy": "2024-09-03T08:00:53.813136Z",
     "iopub.status.idle": "2024-09-03T08:00:53.828977Z",
     "shell.execute_reply": "2024-09-03T08:00:53.828761Z",
     "shell.execute_reply.started": "2024-09-03T08:00:53.813136Z"
    }
   },
   "source": [
    "<div style=\"border: 2px solid #FFA500; padding: 10px; border-radius: 5px; background-color: #FFFACD; color: black; text-align: center;\">\n",
    "  <h1 style=\"margin: 0;\">PULPO 🐙 Exercise</h1>\n",
    "</div>"
   ]
  },
  {
   "cell_type": "markdown",
   "id": "415fedab-3cbf-4421-b5c1-5b38e2b11deb",
   "metadata": {},
   "source": [
    "Explanation of generic database:\n",
    "- **Products**: Numbered simply as 1, 2, etc.\n",
    "- **Processes**: Denoted by Latin letters (A, B, etc.).\n",
    "- **Regions**: Identified by Greek letters ($\\alpha$, $\\beta$, etc.).\n",
    "- **Environmental Flows**: Labeled as e1, e2, etc.\n",
    "- **Methods**: Named m1, m2, etc., all categorized under \"generated_system_example\".\n",
    "\n",
    "The whole system can be explored in [activity-browser](https://github.com/LCA-ActivityBrowser/activity-browser):\n",
    "<div style=\"text-align: center;\">\n",
    "    <img src=\"figures/generic_database.PNG\" alt=\"System Boundaries of Rice Superstructure (Dark Theme)\" width=\"550\">\n",
    "</div>\n",
    "And the impact categories:\n",
    "<div style=\"text-align: center;\">\n",
    "    <img src=\"figures/generic_impact_categories.PNG\" alt=\"System Boundaries of Rice Superstructure (Dark Theme)\" width=\"300\">\n",
    "</div>\n",
    "\n",
    "### 🚀 Your Challenge:\n",
    "\n",
    "1. **Introduce a new process** in a specific region to produce your product.\n",
    "2. 🌱 **Measure the environmental impact** of this process using a selected impact assessment method.\n",
    "3. 🏆 **Identify the best existing process alternative** in the region for producing the same product.\n",
    "4. 🌎 **Investigate if a better process alternative** exists when considering other regions.\n",
    "5. 🎯 **Explore how the optimal solution** changes when adjusting the objective.\n",
    "6. ⚖️ **Find a trade-off solution** that minimizes one impact category while balancing another.\n",
    "\n",
    "Tackle each step, optimize wisely, and uncover the best sustainable solution! ✨\n"
   ]
  },
  {
   "cell_type": "markdown",
   "id": "60426fc7-7195-48df-a9a0-2ea9b1a4bbcc",
   "metadata": {},
   "source": [
    "____\n",
    "Import the necessary libraries"
   ]
  },
  {
   "cell_type": "code",
   "execution_count": null,
   "id": "initial_id",
   "metadata": {},
   "outputs": [],
   "source": [
    "import os\n",
    "import sys\n",
    "sys.path.append(r'C:\\Users\\Usuario\\Documents\\PhD Documents\\Python\\advanced_lca\\pulpo') # Not needed anymore when the package is installed via pip\n",
    "from pulpo import pulpo\n",
    "\n",
    "import numpy as np\n",
    "np.NaN = np.nan\n",
    "import pandas as pd\n",
    "import copy\n",
    "import matplotlib.pyplot as plt"
   ]
  },
  {
   "cell_type": "markdown",
   "id": "b73e4a11-653d-4a8b-8ed4-0f8c0336b7c4",
   "metadata": {},
   "source": [
    "If you want to perform the visualization of the graph, install:"
   ]
  },
  {
   "cell_type": "code",
   "execution_count": null,
   "id": "86e78c33-ca46-4132-8d45-aacd98fc47d8",
   "metadata": {},
   "outputs": [],
   "source": [
    "#!pip install python-louvain\n",
    "#!pip install networkx"
   ]
  },
  {
   "cell_type": "code",
   "execution_count": null,
   "id": "8c36c848-7323-4f09-8747-095bb51af48c",
   "metadata": {},
   "outputs": [],
   "source": [
    "import networkx as nx\n",
    "import community as community_louvain  # For Louvain clustering"
   ]
  },
  {
   "cell_type": "markdown",
   "id": "6fcb78b0-9393-47fb-a548-f861759375f9",
   "metadata": {},
   "source": [
    "_____\n",
    "Install the generic LCI database via the `install_generic_db` function of pulpo. This database can be tailored with various parameters:"
   ]
  },
  {
   "cell_type": "code",
   "execution_count": null,
   "id": "52008ee8c61fe06c",
   "metadata": {},
   "outputs": [],
   "source": [
    "project = \"generic_example\"\n",
    "database = \"generic_db\"\n",
    "n_prod = 50      # Number of products to generate\n",
    "n_proc = 8      # Maximum number of processes per product\n",
    "n_reg = 4       # Number of regions where processes can be active\n",
    "n_inputs = 6    # Maximum number of inputs per process\n",
    "n_flows = 8     # Number of environmental flows to generate\n",
    "n_methods = 3   # Number of impact assessment methods to create\n",
    "seed = 100      # Seed for reproducibility (optional)\n",
    "return_data = True  # If True, returns the generated matrices\n",
    "\n",
    "# Install the generic database with specified parameters (Can take a while!)\n",
    "if True:\n",
    "    technosphere_matrix, biosphere_matrix, characterization_matrices = pulpo.install_generic_db(\n",
    "        project=project, \n",
    "        database=database, \n",
    "        n_prod=n_prod, \n",
    "        n_proc=n_proc, \n",
    "        n_reg=n_reg, \n",
    "        n_inputs=n_inputs, \n",
    "        n_flows=n_flows, \n",
    "        n_methods=n_methods, \n",
    "        seed=seed, \n",
    "        return_data=return_data\n",
    "    )"
   ]
  },
  {
   "cell_type": "markdown",
   "id": "60085efd-29d9-4d2d-beb6-c7830276ff5f",
   "metadata": {},
   "source": [
    "#### Visualize the Technosphere"
   ]
  },
  {
   "cell_type": "code",
   "execution_count": null,
   "id": "692fb54d-2a46-4fc4-82d3-fef9a4252746",
   "metadata": {},
   "outputs": [],
   "source": [
    "# Create a graph from the adjacency matrix\n",
    "# Set all elements that are exactly 1 to 0\n",
    "technosphere_matrix[technosphere_matrix == 1] = 0\n",
    "\n",
    "G = nx.from_numpy_array(np.abs(technosphere_matrix))\n",
    "\n",
    "# Perform community detection (clustering) using the Louvain method\n",
    "partition = community_louvain.best_partition(G)\n",
    "\n",
    "# Generate a color palette for the clusters\n",
    "unique_clusters = set(partition.values())\n",
    "colors = plt.cm.rainbow(np.linspace(0, 1, len(unique_clusters)))\n",
    "\n",
    "# Assign colors to nodes based on their cluster\n",
    "node_colors = [colors[partition[node]] for node in G.nodes()]\n",
    "\n",
    "# Draw the graph\n",
    "plt.figure(figsize=(8, 4))\n",
    "pos = nx.spring_layout(G, seed=100)  # Position nodes using the spring layout algorithm\n",
    "\n",
    "nx.draw_networkx_nodes(G, pos, node_size=20, node_color=node_colors, edgecolors='black', alpha=0.9)\n",
    "nx.draw_networkx_edges(G, pos, edge_color=\"gray\", alpha=0.5)\n",
    "plt.title(\"Technosphere Visualization with Clustering\", fontsize=16)\n",
    "plt.show()"
   ]
  },
  {
   "cell_type": "markdown",
   "id": "47e7099f-6863-4a76-ba2f-bf28ecbe3dff",
   "metadata": {},
   "source": [
    "When visualizing the network using the Louvain clustering algorithm, the four distinct regions are effectively identified. This clustering occurs because the generic database is structured so that no transportation between regions takes place, naturally leading to these well-defined clusters. Additionally, 20 processes are isolated, meaning they neither contribute to any market nor receive inputs from the technosphere."
   ]
  },
  {
   "cell_type": "markdown",
   "id": "140eab16-5756-4254-be89-183a70a62d4c",
   "metadata": {},
   "source": [
    "Here are the regions, for copy and paste purpose:\n",
    "\n",
    "1. **Alpha**: $\\alpha$\n",
    "2. **Beta**: $\\beta$\n",
    "3. **Gamma**: $\\gamma$\n",
    "4. **Delta**: $\\delta$\n",
    "______"
   ]
  },
  {
   "cell_type": "markdown",
   "id": "74943567-f393-4363-834f-32b834d5ec5d",
   "metadata": {},
   "source": [
    "### Task 1: Introduce a New Process\n",
    "\n",
    "**Objective**: Introduce a new process in a specific region to produce a chosen product.\n",
    "\n",
    "First, use PULPO to identify how many processes currently produce **\"Product 22\"**."
   ]
  },
  {
   "cell_type": "code",
   "execution_count": null,
   "id": "a11fd1a4-fcd8-4221-b000-38e84e269bb8",
   "metadata": {},
   "outputs": [],
   "source": [
    "notebook_dir = os.path.dirname(os.getcwd())\n",
    "directory = os.path.join(notebook_dir, 'data')\n",
    "method = \"\"\n",
    "pulpo_worker = pulpo.PulpoOptimizer(project, database, method, directory)\n",
    "pulpo_worker.get_lci_data()"
   ]
  },
  {
   "cell_type": "code",
   "execution_count": null,
   "id": "999fb3cc-ce34-4214-a409-6a9a914715e3",
   "metadata": {},
   "outputs": [],
   "source": [
    "#### Fill the gap \"???\""
   ]
  },
  {
   "cell_type": "code",
   "execution_count": null,
   "id": "61ff6e45-a928-44d6-9a7e-11aad0b082b0",
   "metadata": {},
   "outputs": [],
   "source": [
    "product_22 = pulpo_worker.retrieve_processes(reference_products=???)\n",
    "pd.DataFrame(product_22)"
   ]
  },
  {
   "cell_type": "markdown",
   "id": "3090df8b-4429-497c-a6e4-d3be8d1aea8b",
   "metadata": {},
   "source": [
    "If executed correctly, you should discover that there are **8 processes** (_6 types: A, B, D, E, G, and H_) producing **product 22** across **4 regions** (markets)."
   ]
  },
  {
   "cell_type": "markdown",
   "id": "d270e990-707a-4f98-9d10-71e5f207d8fc",
   "metadata": {},
   "source": [
    "Your company, located in region **β**, has developed an innovative process called **\"X\"** to produce **product 22**. This new technology boasts very low emissions, making it a promising option for the industry’s goal of reducing impacts in the **\"m1\"** impact category, particularly by minimizing **\"e2\"** (environmental flow) emissions.\n",
    "\n",
    "- **Technosphere**:\n",
    "  - 0.1 units of **product 20** from the market in region **β**\n",
    "\n",
    "- **Biosphere**:\n",
    "  - 0.01 units of **e2** emissions\n",
    "  - 0.10 units of **e3** emissions\n",
    "  - 1.00 units of **e4** emissions\n",
    "\n",
    "Using Brightway syntax, implement this new process \"X\" in the database.\n"
   ]
  },
  {
   "cell_type": "code",
   "execution_count": null,
   "id": "00b018ad-150f-47af-aa9c-2feafb6a21d9",
   "metadata": {},
   "outputs": [],
   "source": [
    "import brightway2 as bw\n",
    "\n",
    "# Set the current project\n",
    "bw.projects.set_current(\"generic_example\")\n",
    "\n",
    "# Define the database and process name\n",
    "db = bw.Database(\"generic_db\")\n",
    "process_name = \"Process 22_X_β\"\n",
    "\n",
    "# Check if the activity already exists\n",
    "if process_name not in [act['name'] for act in db]:\n",
    "    # Create the new process \"X\"\n",
    "    new_process = db.new_activity(process_name)\n",
    "    new_process.update({\n",
    "        'name': process_name,\n",
    "        'location': \"β\",  # Greek letter for the region\n",
    "        'reference product': \"Product 22\",\n",
    "        'unit': \"unit\"  # Define the unit\n",
    "    })\n",
    "\n",
    "    # Add technosphere exchange\n",
    "    product_20_market = next(act for act in db if act['reference product'] == \"Product 20\" and act['location'] == \"β\" and \"Market\" in act['name'])\n",
    "    new_process.new_exchange(input=product_20_market.key, amount=0.1, type='technosphere').save()\n",
    "\n",
    "    # Add biosphere exchanges\n",
    "    biosphere = bw.Database(\"biosphere3\")\n",
    "    emissions = {\n",
    "        \"Environmental flow e2\": 0.05,\n",
    "        \"Environmental flow e3\": 0.10,\n",
    "        \"Environmental flow e8\": 5.00\n",
    "    }\n",
    "    for flow_name, amount in emissions.items():\n",
    "        flow = next(flow for flow in biosphere if flow['name'] == flow_name)\n",
    "        new_process.new_exchange(input=flow.key, amount=amount, type='biosphere').save()\n",
    "\n",
    "    new_process.save()\n",
    "    print(f\"Process '{process_name}' implemented successfully in the database.\")\n",
    "else:\n",
    "    print(f\"Process '{process_name}' already exists in the database.\")"
   ]
  },
  {
   "cell_type": "markdown",
   "id": "7bb79cbd-d224-47ff-856e-fbc7b1fc1542",
   "metadata": {},
   "source": [
    "____________\n",
    "### Task 2: Evaluate the New Process 🌱\n",
    "\n",
    "**Objective**: Assess the environmental impact of the newly introduced process using a given impact assessment method.\n",
    "\n",
    "After implementing the new process **\"Process 22_X_β\"** in Task 1, your next step is to evaluate its environmental performance. Use PULPO to calculate the impacts of this process (producing 1 unit as FU) using the **\"m1\"** impact assessment method."
   ]
  },
  {
   "cell_type": "markdown",
   "id": "d86b135d-9f40-4df3-8733-0e4eb602e309",
   "metadata": {},
   "source": [
    "<div style=\"border: 2px solid #FF4500; padding: 10px; border-radius: 5px; background-color: #FFEFD5; color: black;\"> \n",
    "  ⚠️ <strong>Warning!</strong> The standard open-source LP solver specified in <strong>PULPO</strong> \n",
    "  (<a href=\"https://pypi.org/project/highspy/\">HiGHs</a>) inconsistently performs poorly on this database. Consider installing \n",
    "  \"[ipopt](https://anaconda.org/conda-forge/ipopt)\" from the conda package index. Use version <strong>3.11.1</strong>, as there are unknown issues / incompatibilities in later versions.\n",
    "</div>"
   ]
  },
  {
   "cell_type": "code",
   "execution_count": null,
   "id": "2da88b4a-3178-49e1-8535-81fae848925f",
   "metadata": {},
   "outputs": [],
   "source": [
    "#!conda install conda-forge::ipopt=3.11.1 -y"
   ]
  },
  {
   "cell_type": "code",
   "execution_count": null,
   "id": "cc857263-bae7-472b-8036-1ecdd09370b4",
   "metadata": {},
   "outputs": [],
   "source": [
    "#### Fill the gap \"???\""
   ]
  },
  {
   "cell_type": "code",
   "execution_count": null,
   "id": "00c47ed2-a48f-4ef8-884c-8332f34f78a4",
   "metadata": {},
   "outputs": [],
   "source": [
    "pulpo_worker.method = ???\n",
    "pulpo_worker.get_lci_data()"
   ]
  },
  {
   "cell_type": "code",
   "execution_count": null,
   "id": "d565eacb-20e1-439f-a077-1595c0fb5c92",
   "metadata": {},
   "outputs": [],
   "source": [
    "process_X = pulpo_worker.retrieve_processes(processes=process_name)"
   ]
  },
  {
   "cell_type": "code",
   "execution_count": null,
   "id": "1756fccf-a36d-481b-9d1c-30e3a54a8836",
   "metadata": {},
   "outputs": [],
   "source": [
    "demand = ???"
   ]
  },
  {
   "cell_type": "code",
   "execution_count": null,
   "id": "0e7bf23b-86db-4212-8f12-8f03e85b0d5b",
   "metadata": {},
   "outputs": [],
   "source": [
    "pulpo_worker.instantiate(demand=demand)"
   ]
  },
  {
   "cell_type": "code",
   "execution_count": null,
   "id": "5156a7f5-d175-4b9c-9e01-c43766042f24",
   "metadata": {},
   "outputs": [],
   "source": [
    "results = pulpo_worker.solve() # Consider: solver_name='ipopt'"
   ]
  },
  {
   "cell_type": "code",
   "execution_count": null,
   "id": "66af3c09-7252-428f-a9ee-6997d0eaf3d6",
   "metadata": {},
   "outputs": [],
   "source": [
    "pulpo_worker.summarize_results(demand=demand, zeroes=True)"
   ]
  },
  {
   "cell_type": "markdown",
   "id": "a6371c51-65c4-4a8d-93f0-0051f74a65b8",
   "metadata": {},
   "source": [
    "<div style=\"padding: 15px; border-left: 5px solid #2196F3; background-color: #f9f9f9; color: #000;\">\n",
    "    <strong>Result:</strong> If executed properly, the <strong>\"m1\"</strong> impact is determined to be <strong>0.010090 units</strong>.\n",
    "</div>"
   ]
  },
  {
   "cell_type": "markdown",
   "id": "c02f512f-74f7-473c-8c6d-d79650763108",
   "metadata": {},
   "source": [
    "___________\n",
    "### Task 3: Identify the Best Process Alternative 🏆\n",
    "\n",
    "**Objective**: Determine the best existing process alternative in the region to produce **Product 22**.\n",
    "\n",
    "With the environmental impacts of **\"Process 22_X_β\"** evaluated in Task 2, the next step is to compare it against other existing processes in region **β**. Your goal is to identify which process is the most environmentally efficient option (targeting \"**m1**\") for producing **Product 22**."
   ]
  },
  {
   "cell_type": "code",
   "execution_count": null,
   "id": "1e5d17c7-e035-4c46-870f-9c10916efb50",
   "metadata": {},
   "outputs": [],
   "source": [
    "#### Fill the gap \"???\""
   ]
  },
  {
   "cell_type": "code",
   "execution_count": null,
   "id": "0d8005a4-1c22-42a1-920b-f4aba52ffb0d",
   "metadata": {},
   "outputs": [],
   "source": [
    "candidates = pulpo_worker.retrieve_processes(reference_products=???, locations=???)\n",
    "\n",
    "#market = [x for x in candidates if \"Market\" in x[\"name\"]]\n",
    "#alternatives = [x for x in candidates if \"Process\" in x[\"name\"]]"
   ]
  },
  {
   "cell_type": "code",
   "execution_count": null,
   "id": "3be0d10b-da91-4d0e-b5c0-a010ce847248",
   "metadata": {},
   "outputs": [],
   "source": [
    "demand = ???"
   ]
  },
  {
   "cell_type": "code",
   "execution_count": null,
   "id": "d442bdbf-a9c8-453d-82ff-4edcdb607ba2",
   "metadata": {},
   "outputs": [],
   "source": [
    "choices = {\"P22β\": ???}"
   ]
  },
  {
   "cell_type": "code",
   "execution_count": null,
   "id": "007c360b-4006-40f9-84b4-be90175c46ea",
   "metadata": {},
   "outputs": [],
   "source": [
    "pulpo_worker.instantiate(demand=demand, choices=choices)"
   ]
  },
  {
   "cell_type": "code",
   "execution_count": null,
   "id": "7faea368-37bd-416e-9272-1de66ea3781c",
   "metadata": {},
   "outputs": [],
   "source": [
    "pulpo_worker.solve() # Consider: solver_name='ipopt'"
   ]
  },
  {
   "cell_type": "code",
   "execution_count": null,
   "id": "c3a5ab61-454a-4dd1-86ac-a92f79c17f6e",
   "metadata": {},
   "outputs": [],
   "source": [
    "pulpo_worker.summarize_results(choices=choices, demand=demand, zeroes=True)"
   ]
  },
  {
   "cell_type": "markdown",
   "id": "e47c4a09-8651-4f03-b86d-8c5b736013d2",
   "metadata": {},
   "source": [
    "<div style=\"padding: 15px; border-left: 5px solid #4CAF50; background-color: #f9f9f9; color: #000;\">\n",
    "    <strong>Outcome:</strong> The analysis reveals that the new process <strong>Process 22_X_β</strong> is the most environmentally efficient (targeting \"m1\"!) alternative in the region for producing <strong>Product 22</strong>\n",
    "</div>\n",
    "\n",
    "<div style=\"padding: 15px; border-left: 5px solid #FF9800; background-color: #f9f9f9; color: #000;\">\n",
    "    <strong>Important Note:</strong> When determining the best alternative based on the optimal market choice, the impact of <strong>Process X</strong> slightly decreases compared to the isolated assessment (0.010089 < 0.01009). This minor difference is due to the broader adoption of <strong>Process X</strong> in the background system, effectively lowering the upstream impacts, which include a very small amount of <strong>Product 22</strong> (0.000085 units).\n",
    "</div>"
   ]
  },
  {
   "cell_type": "markdown",
   "id": "92eb8a66-7c47-448b-a932-f6f61d8b3d31",
   "metadata": {},
   "source": [
    "__________________\n",
    "### Task 4: Expand the Analysis 🌎\n",
    "\n",
    "**Objective**: Investigate whether a better process alternative exists when considering other regions."
   ]
  },
  {
   "cell_type": "code",
   "execution_count": null,
   "id": "6cba818b-c5b9-46bb-a4ef-f6cf26c90c03",
   "metadata": {},
   "outputs": [],
   "source": [
    "#### Fill the gap \"???\""
   ]
  },
  {
   "cell_type": "code",
   "execution_count": null,
   "id": "f1bb0443-481f-479b-92ce-1da82d2dbf13",
   "metadata": {},
   "outputs": [],
   "source": [
    "candidates = pulpo_worker.retrieve_processes(reference_products=???)\n",
    "\n",
    "#alternatives = [x for x in candidates if \"Process\" in x[\"name\"]]"
   ]
  },
  {
   "cell_type": "code",
   "execution_count": null,
   "id": "ecac6988-93f5-4e9d-84dd-6db49547b16c",
   "metadata": {},
   "outputs": [],
   "source": [
    "choices = {\"P22β\": ???}"
   ]
  },
  {
   "cell_type": "code",
   "execution_count": null,
   "id": "36def284-eda1-401a-8d4f-b77632bf3372",
   "metadata": {},
   "outputs": [],
   "source": [
    "pulpo_worker.instantiate(demand=demand, choices=choices)"
   ]
  },
  {
   "cell_type": "code",
   "execution_count": null,
   "id": "b76e3cd3-39e2-49c4-8546-fdcaf1e2b9ae",
   "metadata": {},
   "outputs": [],
   "source": [
    "pulpo_worker.solve() # Consider: solver_name='ipopt'"
   ]
  },
  {
   "cell_type": "code",
   "execution_count": null,
   "id": "392c64ee-77c0-4253-bac4-b60aa5460419",
   "metadata": {},
   "outputs": [],
   "source": [
    "pulpo_worker.summarize_results(choices=choices, demand=demand, zeroes=True)"
   ]
  },
  {
   "cell_type": "markdown",
   "id": "3c3d6adc-e2ad-4b5c-89be-29874bee84d8",
   "metadata": {},
   "source": [
    "<div style=\"padding: 15px; border-left: 5px solid #4CAF50; background-color: #f9f9f9; color: #000;\">\n",
    "    <strong>Outcome:</strong> The analysis reveals that the new process <strong>Process 22_X_β</strong> is the most environmentally efficient alternative (targeting \"m1\"!) among all regions and processes for producing <strong>Product 22</strong>\n",
    "</div>"
   ]
  },
  {
   "cell_type": "markdown",
   "id": "9d1e7fd2-1216-487c-92d8-49eb0ca2196a",
   "metadata": {},
   "source": [
    "_______\n",
    "### Task 5: Reframe the Objective 🎯\n",
    "\n",
    "**Objective**: Explore if the optimal solution changes when adjusting the objective.\n",
    "\n",
    "In this task, you will reassess the previously identified optimal process by changing the objective function. By adjusting the objective to prioritize a different impact category or a combination of categories, you will determine if the optimal process choice remains the same or shifts under the new criterion. Use \"**m2**\" as objective, but evaluate also **m1**.\n"
   ]
  },
  {
   "cell_type": "code",
   "execution_count": null,
   "id": "354cc7aa-d9b9-41cd-ae0d-d7bde410cdee",
   "metadata": {},
   "outputs": [],
   "source": [
    "#### Fill the gap \"???\""
   ]
  },
  {
   "cell_type": "code",
   "execution_count": null,
   "id": "b51df7c6-a223-4331-b88a-957137d7646d",
   "metadata": {},
   "outputs": [],
   "source": [
    "pulpo_worker.method = ???\n",
    "pulpo_worker.get_lci_data()"
   ]
  },
  {
   "cell_type": "code",
   "execution_count": null,
   "id": "bfcfa796-fcfd-4e2a-9dda-c607d89bd4ee",
   "metadata": {},
   "outputs": [],
   "source": [
    "pulpo_worker.instantiate(demand=demand, choices=choices)"
   ]
  },
  {
   "cell_type": "code",
   "execution_count": null,
   "id": "835844ec-493a-4d43-9f9c-0fe71e57ea00",
   "metadata": {},
   "outputs": [],
   "source": [
    "pulpo_worker.solve() # Consider: solver_name='ipopt'"
   ]
  },
  {
   "cell_type": "code",
   "execution_count": null,
   "id": "6aa37d20-7c1d-4607-97fd-2b5792db642e",
   "metadata": {},
   "outputs": [],
   "source": [
    "pulpo_worker.summarize_results(choices=choices, demand=demand, zeroes=True)"
   ]
  },
  {
   "cell_type": "markdown",
   "id": "915f5b52-473f-4327-be4a-5be5ee1331b2",
   "metadata": {},
   "source": [
    "<div style=\"padding: 15px; border-left: 5px solid #4CAF50; background-color: #f9f9f9; color: #000;\">\n",
    "    <strong>Outcome:</strong> Changing the objective reveals that <strong>Technology A</strong> from region <strong>δ</strong> is the best option for minimizing the <strong>m2</strong> impact. However, this comes with a trade-off: the corresponding <strong>m1</strong> impact is significantly higher (0.050346 points) compared to the <strong>m1</strong> optimal solution (0.010089 points).\n",
    "</div>"
   ]
  },
  {
   "cell_type": "markdown",
   "id": "7c6033ae-c97c-47b7-9781-0e6081a67409",
   "metadata": {},
   "source": [
    "_________\n",
    "### Task 6: Balance the Trade-offs ⚖️\n",
    "\n",
    "**Objective**: Find a trade-off solution that minimizes one impact category while keeping another in some limits.\n",
    "\n",
    "In this task, you will try to achieve a balance between the two identified competing impact categories **m2** and **m1**. Particularily, limit the **m1** impact to 0.025 points and find the optimum technology mix.\n"
   ]
  },
  {
   "cell_type": "code",
   "execution_count": null,
   "id": "ca59b891-894a-411c-b339-14aca971bc2c",
   "metadata": {},
   "outputs": [],
   "source": [
    "#### Fill the gap \"???\""
   ]
  },
  {
   "cell_type": "code",
   "execution_count": null,
   "id": "94192dbb-8381-46b5-8ae5-f362265fcce5",
   "metadata": {},
   "outputs": [],
   "source": [
    "???"
   ]
  },
  {
   "cell_type": "code",
   "execution_count": null,
   "id": "cacabe03-d2dd-42df-8423-391f03503da9",
   "metadata": {},
   "outputs": [],
   "source": [
    "pulpo_worker.instantiate(choices=choices, demand=demand, upper_imp_limit=???)"
   ]
  },
  {
   "cell_type": "code",
   "execution_count": null,
   "id": "30b880b9-c224-4e1c-ad5c-caeebf607bbf",
   "metadata": {},
   "outputs": [],
   "source": [
    "pulpo_worker.solve() # Consider: solver_name='ipopt'"
   ]
  },
  {
   "cell_type": "code",
   "execution_count": null,
   "id": "a0217ba1-ccaa-4941-84f0-d33b86d3d65d",
   "metadata": {},
   "outputs": [],
   "source": [
    "pulpo_worker.summarize_results(choices=choices, demand=demand, zeroes=True)"
   ]
  },
  {
   "cell_type": "markdown",
   "id": "d8afd38e-17a2-45c9-a52e-c61626a4edd4",
   "metadata": {},
   "source": [
    "<div style=\"padding: 15px; border-left: 5px solid #4CAF50; background-color: #f9f9f9; color: #000;\">\n",
    "    <strong>Outcome:</strong> When executed correctly, the optimal technology mix consists of 90% <strong>Technology E</strong> in region <strong>β</strong> and 10% <strong>Technology A</strong> in region <strong>δ</strong>. Interestingly, this result is not simply a linear combination of the solutions that minimize each individual objective (X in β and A in δ) but rather a unique mix that offers a balanced approach, achieving more moderate emissions across both impact categories.\n",
    "</div>\n",
    "<div style=\"padding: 15px; border-left: 5px solid #FF9800; background-color: #f9f9f9; color: #000;\">\n",
    "    This demonstration / exercise highlights the importance of evaluating all technological and regional options when searching for balanced solutions. Additionally, as shown in the 02_rice_example_resolution.ipynb notebook, considering capacity constraints is essential for identifying feasible solutions when scaling systems.\n",
    "</div>"
   ]
  }
 ],
 "metadata": {
  "kernelspec": {
   "display_name": "Python 3 (ipykernel)",
   "language": "python",
   "name": "python3"
  },
  "language_info": {
   "codemirror_mode": {
    "name": "ipython",
    "version": 3
   },
   "file_extension": ".py",
   "mimetype": "text/x-python",
   "name": "python",
   "nbconvert_exporter": "python",
   "pygments_lexer": "ipython3",
   "version": "3.10.14"
  }
 },
 "nbformat": 4,
 "nbformat_minor": 5
}
