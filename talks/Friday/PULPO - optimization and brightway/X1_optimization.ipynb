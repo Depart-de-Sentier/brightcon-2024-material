{
 "cells": [
  {
   "cell_type": "markdown",
   "id": "6ce5d8fc-e10b-4414-b18e-c34ac4a79d6b",
   "metadata": {
    "ExecuteTime": {
     "end_time": "2024-08-30T16:20:47.859589Z",
     "start_time": "2024-08-30T16:20:47.849483Z"
    },
    "collapsed": true,
    "jupyter": {
     "outputs_hidden": true
    }
   },
   "source": [
    "<div style=\"border: 2px solid #808080; padding: 10px; border-radius: 5px; background-color: #D3D3D3; color: black; text-align: center;\">\n",
    "  <h1 style=\"margin: 0;\">Optimization 🎯</h1>\n",
    "</div>"
   ]
  },
  {
   "cell_type": "markdown",
   "id": "bca6f070-834b-4a90-a735-229e4e39d8d9",
   "metadata": {},
   "source": [
    "Optimization is the process of finding the <u>best solution</u> to a problem from a set of <u>feasible solutions</u>. It involves selecting the most effective, efficient, or generally, \"optimal\" outcome, typically by maximizing or minimizing a certain **<u>objective function</u>** under given <u>constraints</u>.\n",
    "\n",
    "A fantastic (*paid*) course: [RWTHx: Mathematical Optimization for Engineers](https://www.edx.org/learn/math/rwth-aachen-university-mathematical-optimization-for-engineers?fbclid=IwY2xjawE2tQ9leHRuA2FlbQIxMAABHbztjKGJRIMuwx8NMrrT6dM6JKsSGZhcDGduPAshyokbkbyG1e6-iLhs9Q_aem_rZmclgdplzgeaVjCeMLW-Q)"
   ]
  },
  {
   "cell_type": "markdown",
   "id": "0d5bf148-eb2f-4acc-95d6-04e6668ac957",
   "metadata": {},
   "source": [
    "### Mathematical Formulation\n",
    "\n",
    "Optimization problems can be mathematically formulated as follows:\n",
    "\n",
    "$$\n",
    "\\begin{aligned}\n",
    "& \\text{Minimize or Maximize} \\quad & f(x) & \\\\\n",
    "& \\text{Subject to} \\quad & g_i(x) &\\leq b_i, \\quad i = 1, \\dots, m \\\\\n",
    "& & h_j(x) &= c_j, \\quad j = 1, \\dots, p \\\\\n",
    "& \\text{where} \\quad & x &\\in \\mathbb{R}^n\n",
    "\\end{aligned}\n",
    "$$\n",
    "\n",
    "- **Objective Function $f(x)$**: The function that represents the goal of the optimization (e.g., cost, time, energy).\n",
    "- **Decision Variables $x$**: The variables that can be adjusted to optimize the objective function.\n",
    "- **Inequality Constraints $g_i(x)$**: Conditions that limit the values the decision variables can take (e.g., resource limits).\n",
    "- **Equality Constraints $h_j(x)$**: Conditions that must be exactly satisfied (e.g., balance equations)."
   ]
  },
  {
   "cell_type": "code",
   "execution_count": null,
   "id": "a40fb870-8f3b-4cf5-83c3-7043f81817dc",
   "metadata": {},
   "outputs": [],
   "source": [
    "# Enable interactive mode for Jupyter using ipympl\n",
    "import matplotlib.pyplot as plt\n",
    "%matplotlib widget\n",
    "\n",
    "# Import the function from the Python module\n",
    "from figures.optimization_base_figures import create_slider_plot\n",
    "\n",
    "# Call the function to create the interactive slider plot\n",
    "create_slider_plot()"
   ]
  },
  {
   "cell_type": "code",
   "execution_count": null,
   "id": "cc0207e1-46cf-4404-8dc8-60a96d9d5ae8",
   "metadata": {},
   "outputs": [],
   "source": [
    "plt.close('all')\n",
    "%matplotlib inline"
   ]
  },
  {
   "cell_type": "markdown",
   "id": "182f16c2-9cd3-4f11-8faf-92ccb4758469",
   "metadata": {},
   "source": [
    "### Degrees of Freedom\n",
    "\n",
    "Degrees of freedom refer to the number of independent variables that can be adjusted in the optimization process. The number of degrees of freedom is given by:\n",
    "\n",
    "$$\n",
    "\\text{Degrees of Freedom} = \\text{Number of Variables} - \\text{Number of Independent Equality Constraints}\n",
    "$$\n",
    "\n",
    "- If the degrees of freedom are **negative**, the problem is <u><span style=\"color: orange;\">overdetermined</span></u>, implying no feasible solution may exist.\n",
    "- If the degrees of freedom are **zero**, the problem is fully <u><span style=\"color: lightblue;\">determined</span></u>, with a unique (*set of*) solutions (if it exists) --> happens in standard **LCA!**\n",
    "- If the degrees of freedom are **positive**, the problem is <u><span style=\"color: lightgreen;\">underdetermined</span></u>, meaning multiple solutions may exist --> happens in **LCO**!"
   ]
  },
  {
   "cell_type": "markdown",
   "id": "cc7c5e34-51b4-4a05-9b80-e9fe7320cbea",
   "metadata": {},
   "source": [
    "### Addressing Complexities in Optimization\n",
    "\n",
    "Optimization can handle a wide range of complexities, including:\n",
    "\n",
    "- **Non-linearities**: Problems where the objective function or constraints are non-linear. These require specialized algorithms like non-linear programming.\n",
    "- **Integer Variables**: Optimization problems where some or all decision variables must take integer values. These are solved using techniques like integer programming.\n",
    "- **Stochastic Optimization**: Problems where the objective function or constraints involve randomness or uncertainty, requiring probabilistic methods or robust optimization.\n",
    "- **Multi-objective Optimization**: Problems with more than one objective function. The solutions are often found using Pareto optimization or weighted sum approaches.\n"
   ]
  },
  {
   "cell_type": "markdown",
   "id": "530476db-ca5b-44e5-9df1-359a4e21bf81",
   "metadata": {},
   "source": [
    "<div style=\"border: 2px solid #FF8C00; padding: 10px; border-radius: 5px; background-color: #FFF3E0; color: #4E342E; text-align: center;\">\n",
    "  <h3 style=\"margin: 0;\">Example: Heat Exchanger 🔥</h3>\n",
    "</div>"
   ]
  },
  {
   "cell_type": "markdown",
   "id": "e237f10f-2bb9-438b-ac3c-09e1acaec297",
   "metadata": {
    "execution": {
     "iopub.execute_input": "2024-08-30T16:41:41.122918Z",
     "iopub.status.busy": "2024-08-30T16:41:41.121918Z",
     "iopub.status.idle": "2024-08-30T16:41:41.141258Z",
     "shell.execute_reply": "2024-08-30T16:41:41.140258Z",
     "shell.execute_reply.started": "2024-08-30T16:41:41.121918Z"
    }
   },
   "source": [
    "<u>Goal</u>: Minimize the total cost, which includes utility costs and the heat exchanger capital cost.\n",
    "\n",
    "<u>No inter-stream exchange</u>\n",
    "<div style=\"text-align: center;\">\n",
    "    <img src=\"figures/heat_exchanger-no-Exchange_light.svg\" alt=\"\" width=\"410\">\n",
    "</div>\n",
    "<u>With heat exchange</u>\n",
    "<div style=\"text-align: center;\">\n",
    "    <img src=\"figures/heat_exchanger-Superstructure_light.svg\" alt=\"\" width=\"450\">\n",
    "</div>\n",
    "\n",
    "____________________\n",
    "##### Typical Process Integration Behaviour\n",
    "\n",
    "This figure illustrates the typical trade-off between investment cost, operating cost, and combined cost as a function of the degree of integration:"
   ]
  },
  {
   "cell_type": "code",
   "execution_count": null,
   "id": "0a4d596e-a525-4d13-8ee3-115f6fd4e227",
   "metadata": {
    "scrolled": true
   },
   "outputs": [],
   "source": [
    "from figures.optimization_figures import plot_cost_tradeoff\n",
    "import numpy as np\n",
    "\n",
    "# Define the range of x values (e.g., scale or capacity)\n",
    "x = np.linspace(1, 10, 500)\n",
    "\n",
    "# Define the costs\n",
    "investment_cost = 10 * x  # Linear increase in investment cost\n",
    "operating_cost = 100 / x   # 1/x decrease in operating cost\n",
    "combined_cost = investment_cost + operating_cost  # Combined cost\n",
    "\n",
    "# Plot the cost tradeoff\n",
    "plot_cost_tradeoff(x, investment_cost, operating_cost, combined_cost)"
   ]
  },
  {
   "cell_type": "markdown",
   "id": "b77147f4-3494-45b2-b879-3ee19f9d4804",
   "metadata": {},
   "source": [
    "The combined cost curve shows a minimum at the optimum point, where the total cost is minimized. In this demonstration, we are looking for this optimum, which will correspond to a certain heat exchanger area.\n",
    "______________________"
   ]
  },
  {
   "cell_type": "markdown",
   "id": "39ab0c99-6f5b-41f7-a446-bed979712043",
   "metadata": {},
   "source": [
    "##### Variables\n",
    "\n",
    "  -  $T_{h,out}$: Outlet temperature of the hot stream (to be optimized).\n",
    "  - $T_{c,out}$: Outlet temperature of the cold stream (calculated from energy balance).\n",
    "  - $\\Delta T_{lm}$: Logarithmic mean temperature difference.\n",
    "  - $Q$: Heat transferred.\n",
    "  - $A$: Heat exchanger area.\n",
    "___________________\n",
    "##### Constants (Parameters)\n",
    "\n",
    "- **Inlet Temperatures**:\n",
    "  - $T_{h,in} = 150^\\circ C$: Inlet temperature of the hot stream.\n",
    "  - $T_{c,in} = 25^\\circ C$: Inlet temperature of the cold stream.\n",
    "\n",
    "- **Target Outlet Temperatures**:\n",
    "  - $T_{h,out}^{\\text{target}} = 50^\\circ C$: Target outlet temperature of the hot stream.\n",
    "  - $T_{c,out}^{\\text{target}} = 200^\\circ C$: Target outlet temperature of the cold stream.\n",
    "\n",
    "- **Heat Capacity Flow Rates**:\n",
    "  - $C_h = 5000 \\, \\text{W/K}$: Heat capacity flow rate of the hot stream.\n",
    "  - $C_c = 3000 \\, \\text{W/K}$: Heat capacity flow rate of the cold stream.\n",
    "\n",
    "- **Overall Heat Transfer Coefficient**:\n",
    "  - $U = 300 \\, \\text{W/m}^2\\text{K}$: Overall heat transfer coefficient.\n",
    "\n",
    "- **Utility Costs**:\n",
    "  - $C_{hot} = 0.020 \\, \\text{\\$/W}$: Cost per unit energy of hot utility.\n",
    "  - $C_{cold} = 0.015 \\, \\text{\\$/W}$: Cost per unit energy of cold utility.\n",
    "\n",
    "- **Heat Exchanger Cost Parameters**:\n",
    "  - $C_A = 1000 \\, \\text{\\$/m}^2$: Cost coefficient for the heat exchanger area.\n",
    "  - $n = 0.7$: Scaling exponent for heat exchanger cost.\n",
    "______"
   ]
  },
  {
   "cell_type": "markdown",
   "id": "9bb99b98-6580-4108-9670-e82565beebfa",
   "metadata": {},
   "source": [
    "##### Objective Function\n",
    "Minimize the total cost:\n",
    "$$\n",
    "\\text{Total Cost} = \\textcolor{#FF8C00}{C_h} \\cdot (T_{h,out} - T_{h,out}^{\\text{target}}) \\cdot C_{hot} + \\textcolor{#1E90FF}{C_c} \\cdot (T_{c,out}^{\\text{target}} - T_{c,out}) \\cdot C_{cold} + \\textcolor{#9370DB}{C_A} \\cdot A^n\n",
    "$$\n",
    "_____________________\n",
    "##### Constraints\n",
    "1. **Energy Balance**:\n",
    "$$\n",
    "Q = C_h \\cdot (T_{h,in} - T_{h,out})\n",
    "$$\n",
    "$$\n",
    "Q = C_c \\cdot (T_{c,out} - T_{c,in})\n",
    "$$\n",
    "\n",
    "2. **Logarithmic Mean Temperature Difference (LMTD)**:\n",
    "$$\n",
    "\\Delta T_{lm} = \\frac{(T_{h,in} - T_{c,out}) - (T_{h,out} - T_{c,in})}{\\ln \\left( \\frac{T_{h,in} - T_{c,out}}{T_{h,out} - T_{c,in}} \\right)}\n",
    "$$\n",
    "\n",
    "3. **Heat Transfer Equation**:\n",
    "$$\n",
    "Q = U \\cdot A \\cdot \\Delta T_{lm}\n",
    "$$\n",
    "\n",
    "4. **Non-Negativity Constraints**:\n",
    "$$\n",
    "T_{h,out} \\geq T_{c,in}, \\quad 1000 m^2 \\geq  A \\geq 0m^2\n",
    "$$\n",
    "\n",
    "\n"
   ]
  },
  {
   "cell_type": "markdown",
   "id": "95c2eeca-b469-4a4e-8ef8-10490bba6a78",
   "metadata": {},
   "source": [
    "<div style=\"border: 2px solid #FF8C00; padding: 10px; border-radius: 5px; background-color: #FFF3E0; color: #4E342E; text-align: center;\">\n",
    "  <h5 style=\"margin: 0;\">Implementation in Python (using <em>pyomo</em>)</h5>\n",
    "</div>"
   ]
  },
  {
   "cell_type": "code",
   "execution_count": null,
   "id": "d2afe60d-d81f-4aae-a396-ac765f894d35",
   "metadata": {
    "ExecuteTime": {
     "end_time": "2024-08-30T16:55:33.323315Z",
     "start_time": "2024-08-30T16:55:32.767468Z"
    }
   },
   "outputs": [],
   "source": [
    "### install if needed ###  \n",
    "# pip install pyomo  \n",
    "# conda install -c conda-forge ipopt=3.11.1\n",
    "\n",
    "from pyomo.environ import ConcreteModel, Var, Objective, Constraint, SolverFactory, NonNegativeReals, log, minimize  \n",
    "\n",
    "# Constants  \n",
    "T_h_in = 150  # °C, Inlet temperature of hot stream  \n",
    "T_c_in = 25   # °C, Inlet temperature of cold stream  \n",
    "T_h_out_target = 50  # °C, Target outlet temperature of hot stream  \n",
    "T_c_out_target = 200 # °C, Target outlet temperature of cold stream  \n",
    "C_h = 5000    # W/K, Heat capacity flow rate of hot stream  \n",
    "C_c = 3000    # W/K, Heat capacity flow rate of cold stream  \n",
    "U = 1000      # W/m²K, Overall heat transfer coefficient  \n",
    "C_hot = 0.020 # $/W, Cost per unit energy of hot utility  \n",
    "C_cold = 0.015 # $/W, Cost per unit energy of cold utility  \n",
    "C_A = 1000    # $/m², Cost coefficient for heat exchanger area  \n",
    "n = 0.7       # Scaling exponent for heat exchanger cost  \n",
    "\n",
    "# Define the variables for the model\n",
    "def define_variables(model):\n",
    "    model.T_h_out = Var(within=NonNegativeReals, bounds=(T_c_in, T_h_in))  # °C  \n",
    "    model.T_c_out = Var(within=NonNegativeReals, bounds=(T_c_in, T_h_in))  # °C  \n",
    "    model.Q = Var(within=NonNegativeReals, bounds=(0, 1e8))  # W, Heat transferred  \n",
    "    model.A = Var(within=NonNegativeReals, bounds=(0, 1000), initialize=1)  # m², Heat exchanger area  \n",
    "\n",
    "# Define the constraints for the model\n",
    "def define_constraints(model):\n",
    "    model.EnergyBalance = Constraint(expr=model.Q == C_h * (T_h_in - model.T_h_out))  \n",
    "    model.EnergyBalanceCold = Constraint(expr=model.Q == C_c * (model.T_c_out - T_c_in))  \n",
    "    model.LMTD = Constraint(expr=model.Q == U * model.A * ((T_h_in - model.T_c_out) - (model.T_h_out - T_c_in)) / log((T_h_in - model.T_c_out) / (model.T_h_out - T_c_in)))\n",
    "\n",
    "# Define the economic objective function\n",
    "def define_economic_objective(model):\n",
    "    def total_cost_rule(model):  \n",
    "        cost_utilities = C_h * (model.T_h_out - T_h_out_target) * C_hot + C_c * (T_c_out_target - model.T_c_out) * C_cold  \n",
    "        cost_HX = C_A * (model.A) ** n  \n",
    "        return cost_utilities + cost_HX  \n",
    "    model.TotalCost = Objective(rule=total_cost_rule, sense=minimize)\n",
    "\n",
    "# Solve the model\n",
    "def solve_model(model):\n",
    "    solver = SolverFactory('ipopt') \n",
    "    solver.solve(model, tee=False)\n",
    "\n",
    "# Part 1: Economic Optimization Model\n",
    "model_economic = ConcreteModel()\n",
    "define_variables(model_economic)\n",
    "define_constraints(model_economic)\n",
    "define_economic_objective(model_economic)\n",
    "\n",
    "# Solve the economic optimization\n",
    "solve_model(model_economic)\n",
    "\n",
    "# Display results for economic optimization\n",
    "print(f\"Optimal T_h_out (Economic): {model_economic.T_h_out():.2f} °C\")  \n",
    "print(f\"Optimal T_c_out (Economic): {model_economic.T_c_out():.2f} °C\")  \n",
    "print(f\"Optimal Q (Economic): {model_economic.Q():.1f} W\")  \n",
    "print(f\"Optimal Heat Transfer Area A (Economic): {model_economic.A():.2f} m²\")  \n",
    "print(f\"Minimum Total Cost: ${model_economic.TotalCost():.2f}\")  \n",
    "\n",
    "# Calculate reference cost without heat exchanger (full utility use)\n",
    "reference_cost = C_h * (T_h_in - T_h_out_target) * C_hot + C_c * (T_c_out_target - T_c_in) * C_cold\n",
    "print(f\"Money Saved by Implementing Heat Exchanger: ${reference_cost - model_economic.TotalCost():.2f}\")"
   ]
  },
  {
   "cell_type": "markdown",
   "id": "271ff4b4-5e0e-4e32-93fb-d806b56a2c76",
   "metadata": {
    "ExecuteTime": {
     "end_time": "2024-08-30T17:04:40.044877Z",
     "start_time": "2024-08-30T17:04:40.042520Z"
    }
   },
   "source": [
    "<div style=\"border: 2px solid #00ACC1; padding: 10px; border-radius: 5px; background-color: #E0F7FA; color: #006064;\">\n",
    "  <p><strong>📌 Economic Target:</strong></p>\n",
    "  <p><strong>Minimum Total Cost:</strong> \\$11,313.64</p>\n",
    "  <p><strong>Money Saved by Implementing the Heat Exchanger:</strong> \\$6,561.36</p>\n",
    "</div>\n"
   ]
  },
  {
   "cell_type": "markdown",
   "id": "216bb38b-40ea-4ca5-9d21-851c437aa4f7",
   "metadata": {},
   "source": [
    "<div style=\"border: 2px solid #00ACC1; padding: 15px; border-radius: 10px; background-color: #F0F4C3; color: #006064; text-align: center;\">\n",
    "  <h2 style=\"margin: 0;\">Life Cycle Optimization (LCO) — <span style=\"color:black;\">PSE-centric Approach</span></h2>\n",
    "</div>\n",
    "\n",
    "In the seminal work from [Adisa Azapagic (1999)](https://doi.org/10.1016/S1385-8947(99)00042-X) the concept of [[Life Cycle Optimization]] (LCO) for process selection and design has been first introduced. This early intersection of the concept of LCA and Process Systems Engineering (PSE) adhered to a PSE-centric way of handling the LCA problem. This means that the original PSE models are retained, and **additional** variables, parameters and constraints are added, in order to define new (*environmental*) design criteria. This idea is effectively illustrated on the extended heat exchange example from before:\n",
    "\n",
    "**Before**, the heat exchange problem was addressed by minimizing economic costs, which included the utility costs for heating and cooling, as well as the capital cost of the heat exchanger. The objective was to find the optimal balance between these costs, leading to the most cost-effective degree of integration.\n",
    "\n",
    "**Now**, we shift our focus to an environmental objective. The **needed changes** to the problem formulation are as follows:\n",
    "__________________\n",
    "##### New Objective Function: Minimize Emissions\n",
    "   \n",
    "   Instead of minimizing the total cost, the objective function will now aim to minimize the total emissions:\n",
    "   \n",
    "   - **Emissions from Utilities**: These are calculated based on the energy used for heating and cooling, multiplied by the respective emission factors.\n",
    "   - **Emissions from Heat Exchanger Installation**: These are estimated using a formula that takes into account the area of the heat exchanger.\n",
    "\n",
    "   The new objective function can be expressed as:\n",
    "\n",
    "   $$\n",
    "   \\text{Total Emissions} = \\textcolor{#FF8C00}{EF_{hot}} \\cdot (T_{h,out} - T_{h,out}^{\\text{target}}) \\cdot C_{hot}  + \\textcolor{#1E90FF}{EF_{cold}} \\cdot (T_{c,out}^{\\text{target}} - T_{c,out}) \\cdot C_{cold} + \\textcolor{#9370DB}{EF_A} \\cdot A\n",
    "   $$\n",
    "___________________\n",
    "#####  Additional Constants: Emission Factors\n",
    "\n",
    "   Introduce new constants to represent the emission factors associated with the utilities and the heat exchanger installation:\n",
    "   \n",
    "- **<span style=\"color:#FF8C00\">$EF_{hot}$</span>**: Emission factor for the hot utility (e.g., `0.05 kg CO₂/W`).\n",
    "- **<span style=\"color:#1E90FF\">$EF_{cold}$</span>**: Emission factor for the cold utility (e.g., `0.03 kg CO₂/W`).\n",
    "- **<span style=\"color:#9370DB\">$EF_A$</span>**: Emission factor for the heat exchanger area (e.g., `10 kg CO₂/m²`).\n",
    "\n",
    "\n",
    "_____________________\n",
    "##### Reformulation of the Problem\n",
    "\n",
    "   - **Objective**: The new objective function will replace the economic cost function, with the goal now being to minimize `Total Emissions` instead of `Total Cost`.\n",
    "   - **Constraints**: The energy balance and heat transfer equations will remain the same, as they ensure the physical feasibility of the process. The constraints on temperatures and area will also be retained."
   ]
  },
  {
   "cell_type": "markdown",
   "id": "86fc0d03-3c3f-42a2-8cd0-a44efeb458ab",
   "metadata": {},
   "source": [
    "<div style=\"border: 2px solid #FF8C00; padding: 10px; border-radius: 5px; background-color: #FFF3E0; color: #4E342E; text-align: center;\">\n",
    "  <h5 style=\"margin: 0;\">Implementation in Python (using <em>pyomo</em>)</h5>\n",
    "</div>"
   ]
  },
  {
   "cell_type": "code",
   "execution_count": null,
   "id": "ee7ee1d3-03c6-4e32-a25d-9f0cd5455769",
   "metadata": {},
   "outputs": [],
   "source": [
    "# Constants for Emission Factors\n",
    "EF_hot = 0.06  # kg CO₂/W, Emission factor for the hot utility  \n",
    "EF_cold = 0.01  # kg CO₂/W, Emission factor for the cold utility  \n",
    "EF_A = 50      # kg CO₂/m², Emission factor for the heat exchanger area  \n",
    "\n",
    "# Define the environmental objective function\n",
    "def define_environmental_objective(model):\n",
    "    def total_emissions_rule(model):\n",
    "        emissions_utilities = EF_hot * C_h * (model.T_h_out - T_h_out_target) + EF_cold * C_c * (T_c_out_target - model.T_c_out)\n",
    "        emissions_HX = EF_A * model.A\n",
    "        return emissions_utilities + emissions_HX\n",
    "    model.TotalEmissions = Objective(rule=total_emissions_rule, sense=minimize)\n",
    "\n",
    "# Part 2: Environmental Optimization Model\n",
    "model_env = ConcreteModel()\n",
    "define_variables(model_env)\n",
    "define_constraints(model_env)\n",
    "define_environmental_objective(model_env)\n",
    "\n",
    "# Solve the environmental optimization\n",
    "solve_model(model_env)\n",
    "\n",
    "# Calculate the reference emissions without heat exchanger (full utility use)\n",
    "reference_emissions = EF_hot * C_h * (T_h_in - T_h_out_target) + EF_cold * C_c * (T_c_out_target - T_c_in)\n",
    "\n",
    "# Display results for environmental optimization\n",
    "print(f\"Optimal T_h_out (Environmental): {model_env.T_h_out():.2f} °C\")\n",
    "print(f\"Optimal T_c_out (Environmental): {model_env.T_c_out():.2f} °C\")\n",
    "print(f\"Optimal Q (Environmental): {model_env.Q():.1f} W\")\n",
    "print(f\"Optimal Heat Transfer Area A (Environmental): {model_env.A():.2f} m²\")\n",
    "print(f\"Minimum Total Emissions: {model_env.TotalEmissions():.2f} kg CO₂\")\n",
    "\n",
    "# Calculate and display emission savings\n",
    "emission_savings = reference_emissions - model_env.TotalEmissions()\n",
    "print(f\"Emission Savings by Implementing Heat Exchanger: {emission_savings:.2f} kg CO₂\")"
   ]
  },
  {
   "cell_type": "markdown",
   "id": "6a01ed09-fc47-4e9d-9625-3390133240b9",
   "metadata": {},
   "source": [
    "<div style=\"border: 2px solid #00ACC1; padding: 10px; border-radius: 5px; background-color: #E0F7FA; color: #006064;\">\n",
    "  <p><strong>🌍 Environmental Target:</strong></p>\n",
    "  <p><strong>Minimum Total Emissions:</strong> 10,632.45 kg CO₂</p>\n",
    "  <p><strong>Emission Savings:</strong> 24,617.55 kg CO₂</p>\n",
    "</div>"
   ]
  },
  {
   "cell_type": "markdown",
   "id": "33fb0cd4-abfc-4865-8e75-87f0b52eaca9",
   "metadata": {},
   "source": [
    "<div style=\"border: 2px solid #FF5722; padding: 15px; border-radius: 8px; background-color: #FFF3E0; color: #BF360C; text-align: center;\">\n",
    "  <h5 style=\"margin: 0;\">Multi-Criteria Trade-off (<em>Pareto Front</em>)</h5>\n",
    "</div>"
   ]
  },
  {
   "cell_type": "code",
   "execution_count": null,
   "id": "7daccfe6-93ce-4739-9afe-d21b497d1d6a",
   "metadata": {},
   "outputs": [],
   "source": [
    "# Import the module\n",
    "from figures.optimization_figures import solve_pareto_front, plot_pareto_front\n",
    "\n",
    "# Solve the Pareto front\n",
    "costs, emissions = solve_pareto_front()\n",
    "\n",
    "# Plot the Pareto front\n",
    "plot_pareto_front(costs, emissions)"
   ]
  }
 ],
 "metadata": {
  "kernelspec": {
   "display_name": "Python 3 (ipykernel)",
   "language": "python",
   "name": "python3"
  },
  "language_info": {
   "codemirror_mode": {
    "name": "ipython",
    "version": 3
   },
   "file_extension": ".py",
   "mimetype": "text/x-python",
   "name": "python",
   "nbconvert_exporter": "python",
   "pygments_lexer": "ipython3",
   "version": "3.10.15"
  }
 },
 "nbformat": 4,
 "nbformat_minor": 5
}
