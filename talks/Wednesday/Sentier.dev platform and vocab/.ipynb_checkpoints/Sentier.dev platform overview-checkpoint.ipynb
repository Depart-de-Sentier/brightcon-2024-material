{
 "cells": [
  {
   "cell_type": "markdown",
   "id": "cef27938-b295-43e2-a267-ee9312dad9b4",
   "metadata": {},
   "source": [
    "<img src=\"images/sentierdev_logo.png\">\n",
    "\n",
    "# Need for change\n",
    "\n",
    "The current way we work with industrial ecology data does not scale. Examples:\n",
    "\n",
    "* Name systems\n",
    "* Searching for names\n",
    "* Unit process inventories and models\n",
    "\n",
    "What has excited the community in the last few years?\n",
    "\n",
    "* [ESSD](https://essd.copernicus.org/)\n",
    "* [Climate trace](https://climatetrace.org/)\n",
    "* [HESTIA](https://www.hestia.earth/)\n",
    "\n",
    "*My* conclusion: Insanity is doing the same thing over and over again and expecting different results"
   ]
  },
  {
   "cell_type": "markdown",
   "id": "25ce10b8-48ba-4d22-9c9f-cf50c5f2a15a",
   "metadata": {},
   "source": [
    "# The problems we face creating something new\n",
    "\n",
    "* Finding\n",
    "* Maintaining\n",
    "* Adapting"
   ]
  },
  {
   "cell_type": "markdown",
   "id": "b1258338-4a02-4b5e-8e5b-949a02bdde42",
   "metadata": {},
   "source": [
    "# Our proposal\n",
    "\n",
    "<img src=\"images/overview.png\">"
   ]
  },
  {
   "cell_type": "markdown",
   "id": "301c3a35-8d6b-4fd3-9a99-b0665f11c8eb",
   "metadata": {},
   "source": [
    "# Shared vocabulary\n",
    "\n",
    "<img src=\"images/forest.png\">"
   ]
  },
  {
   "cell_type": "markdown",
   "id": "5d05c066-aec9-42a9-a4f9-92e940f5d095",
   "metadata": {},
   "source": [
    "# SKOS\n",
    "\n",
    "[SKOS primer](https://www.w3.org/TR/skos-primer/)\n",
    "\n",
    "`Concept`s for a hierarchical tree with a `ConceptScheme`.\n",
    "\n",
    "Most import fields:\n",
    "\n",
    "* [IRI](https://en.wikipedia.org/wiki/Internationalized_Resource_Identifier)\n",
    "* Preferred label (`prefLabel`)\n",
    "* Alternative label (`altLabel`)\n",
    "* Hidden label (`hiddenLabel`)\n",
    "* Notation (`notation`)\n",
    "* Broader (`broader`)\n",
    "* Narrower (`narrower`)\n",
    "* Definition (`definition`)"
   ]
  },
  {
   "cell_type": "markdown",
   "id": "f2f83c31-7004-45f0-a33f-cb400f542408",
   "metadata": {},
   "source": [
    "# Group task\n",
    "\n",
    "We are building a vocabulary here: [https://vocab.sentier.dev/](https://vocab.sentier.dev/).\n",
    "\n",
    "Look for some vocabulary data to build on our baseline systems. This could be specific to a given model, or in general use within an industry sector.\n",
    "\n",
    "Potential vocabularies need to balance usability and resolution. More is not always better.\n",
    "\n",
    "There are instructions and templates here: [https://github.com/sentier-dev/sentier_vocab/discussions](https://github.com/sentier-dev/sentier_vocab/discussions)."
   ]
  },
  {
   "cell_type": "code",
   "execution_count": null,
   "id": "8f95921f-34bc-44f3-a3bf-e90fd5c3a463",
   "metadata": {},
   "outputs": [],
   "source": []
  }
 ],
 "metadata": {
  "kernelspec": {
   "display_name": "Python 3 (ipykernel)",
   "language": "python",
   "name": "python3"
  },
  "language_info": {
   "codemirror_mode": {
    "name": "ipython",
    "version": 3
   },
   "file_extension": ".py",
   "mimetype": "text/x-python",
   "name": "python",
   "nbconvert_exporter": "python",
   "pygments_lexer": "ipython3",
   "version": "3.12.4"
  }
 },
 "nbformat": 4,
 "nbformat_minor": 5
}
