{
 "cells": [
  {
   "cell_type": "markdown",
   "metadata": {},
   "source": [
    "# Brightway importer for environmentally extended Input-Output tables"
   ]
  },
  {
   "cell_type": "markdown",
   "metadata": {},
   "source": [
    "**Goal**: Create an Brightway importer for the Bonsai database. The database is the output of the [_Getting the Data Right_](https://vbn.aau.dk/en/projects/getting-the-data-right) project. \n",
    "\n",
    "some words about Bonsai:\n",
    "\n",
    "- The entire workflow to create the database is **open-source**, with the aim to foster collaboration in the co-creation of open databases for environmental footprinting. The database itself is also open\n",
    "- At this stage if focuses on **Greenhouse gas emissions** but additional _externalities_ have already been added.\n",
    "- The database follows **consequential** paradigm."
   ]
  },
  {
   "cell_type": "markdown",
   "metadata": {},
   "source": [
    "### Approach\n",
    "\n",
    "- Based in the IOTable backend of bw2data (no need to create a gigantic SQL database if there's no metadata on the edges)\n",
    "- Inspired in the existing Exiobase importers\n",
    "- We started with a simple example and therefore created a _generic_ importer that could be used with other EEIO tables (e.g. those coming from [pymrio](https://github.com/IndEcol/pymrio))\n",
    "- The _final demand_ (i.e. societal demand of products) is integrated in the IO table"
   ]
  },
  {
   "cell_type": "code",
   "execution_count": 15,
   "metadata": {},
   "outputs": [],
   "source": [
    "import json\n",
    "from pathlib import Path\n",
    "\n",
    "import pandas as pd\n",
    "import numpy as np\n",
    "import bw2data as bd\n",
    "import bw2calc as bc\n",
    "import bw2io\n",
    "from bw2io.importers.io import IOImporter\n",
    "from bw2io.strategies.io import tidy_tables"
   ]
  },
  {
   "cell_type": "code",
   "execution_count": 16,
   "metadata": {},
   "outputs": [
    {
     "name": "stdout",
     "output_type": "stream",
     "text": [
      "(4, 0, 'dev54')\n",
      "0.9.DEV38\n"
     ]
    }
   ],
   "source": [
    "print(bd.__version__)\n",
    "print(bw2io.__version__)"
   ]
  },
  {
   "cell_type": "code",
   "execution_count": 17,
   "metadata": {},
   "outputs": [],
   "source": [
    "bd.projects.set_current('test_io_importer')"
   ]
  },
  {
   "cell_type": "code",
   "execution_count": 18,
   "metadata": {},
   "outputs": [
    {
     "name": "stdout",
     "output_type": "stream",
     "text": [
      "Restoring project backup archive - this could take a few minutes...\n",
      "Applying automatic update: 4.0 database search directories\n",
      "Reindexing database ecoinvent-3.10-biosphere\n",
      "Restored project: test_io_importer\n"
     ]
    },
    {
     "data": {
      "text/plain": [
       "'test_io_importer'"
      ]
     },
     "execution_count": 18,
     "metadata": {},
     "output_type": "execute_result"
    }
   ],
   "source": [
    "bw2io.remote.install_project('ecoinvent-3.10-biosphere',\n",
    "                             'test_io_importer',\n",
    "                             overwrite_existing=True)"
   ]
  },
  {
   "cell_type": "markdown",
   "metadata": {},
   "source": [
    "## define example database"
   ]
  },
  {
   "cell_type": "markdown",
   "metadata": {},
   "source": [
    "### tidy tables"
   ]
  },
  {
   "cell_type": "code",
   "execution_count": 19,
   "metadata": {},
   "outputs": [],
   "source": [
    "pet_hiot = pd.DataFrame([[1,-2],[0,1]], # experiment setting 1 prod to 0\n",
    "             index=pd.MultiIndex.from_tuples([('DK','prod1'),('DK','prod2')]),\n",
    "             columns = pd.MultiIndex.from_tuples([('DK','act1'),('DK','act2')]))\n",
    "\n",
    "pet_hiot = pet_hiot.astype(pd.SparseDtype(\"float\",0))\n",
    "\n",
    "\n",
    "B = pd.DataFrame([[1,3],[1,2],[0,1],[4,0]],\n",
    "             index=pd.Index(['co2_air','ch4_air','co2_accelerated_air','land_occupation']),\n",
    "             columns = pd.MultiIndex.from_tuples([('DK','act1'),('DK','act2')]))\n",
    "\n",
    "B = B.astype(pd.SparseDtype(\"float\",0))\n",
    "\n",
    "fd = pd.DataFrame.from_dict(\n",
    "    {\n",
    "    ('DK','Household'):{('DK','prod1'):-11,('DK','prod2'):-3},\n",
    "    ('DK','Government'):{('DK','prod1'):-8,('DK','prod2'):-4},\n",
    "    ('DK','Capital'):{('DK','prod1'):-4,('DK','prod2'):-2}\n",
    "        }\n",
    "    )\n",
    "\n",
    "Bfd = pd.DataFrame([[1,3],],\n",
    "index=pd.Index(['co2_air',]),\n",
    "columns = pd.MultiIndex.from_tuples([('DK','Household'),\n",
    "('DK','Government')])).astype(pd.SparseDtype(\"float\",0))"
   ]
  },
  {
   "cell_type": "code",
   "execution_count": 20,
   "metadata": {},
   "outputs": [
    {
     "name": "stdout",
     "output_type": "stream",
     "text": [
      "           DK     \n",
      "         act1 act2\n",
      "DK prod1  1.0 -2.0\n",
      "   prod2    0  1.0\n",
      "                      DK     \n",
      "                    act1 act2\n",
      "co2_air              1.0  3.0\n",
      "ch4_air              1.0  2.0\n",
      "co2_accelerated_air    0  1.0\n",
      "land_occupation      4.0    0\n",
      "                DK                   \n",
      "         Household Government Capital\n",
      "DK prod1       -11         -8      -4\n",
      "   prod2        -3         -4      -2\n",
      "               DK           \n",
      "        Household Government\n",
      "co2_air       1.0        3.0\n"
     ]
    }
   ],
   "source": [
    "print(pet_hiot)\n",
    "print(B)\n",
    "print(fd)\n",
    "print(Bfd)"
   ]
  },
  {
   "cell_type": "code",
   "execution_count": 21,
   "metadata": {},
   "outputs": [],
   "source": [
    "pfd = pd.DataFrame((np.eye(fd.shape[1])),index=fd.columns,columns=fd.columns)\n",
    "fd_total = pd.concat([fd,pfd])\n",
    "fd_total = fd_total.astype(pd.SparseDtype(\"float\",0))"
   ]
  },
  {
   "cell_type": "code",
   "execution_count": 22,
   "metadata": {},
   "outputs": [],
   "source": [
    "extended_hiot = pd.concat([pet_hiot,fd_total],axis=1).fillna(0)\n",
    "extended_B = pd.concat([B,Bfd],axis=1).fillna(0)"
   ]
  },
  {
   "cell_type": "code",
   "execution_count": 23,
   "metadata": {},
   "outputs": [
    {
     "name": "stdout",
     "output_type": "stream",
     "text": [
      "                DK                                  \n",
      "              act1 act2 Household Government Capital\n",
      "DK prod1       1.0 -2.0     -11.0       -8.0    -4.0\n",
      "   prod2         0  1.0      -3.0       -4.0    -2.0\n",
      "   Household   0.0  0.0       1.0          0       0\n",
      "   Government  0.0  0.0         0        1.0       0\n",
      "   Capital     0.0  0.0         0          0     1.0\n"
     ]
    }
   ],
   "source": [
    "print(extended_hiot)"
   ]
  },
  {
   "cell_type": "code",
   "execution_count": 24,
   "metadata": {},
   "outputs": [
    {
     "name": "stdout",
     "output_type": "stream",
     "text": [
      "                      DK                          \n",
      "                    act1 act2 Household Government\n",
      "co2_air              1.0  3.0       1.0        3.0\n",
      "ch4_air              1.0  2.0       0.0        0.0\n",
      "co2_accelerated_air    0  1.0       0.0        0.0\n",
      "land_occupation      4.0    0       0.0        0.0\n"
     ]
    }
   ],
   "source": [
    "print(extended_B)"
   ]
  },
  {
   "cell_type": "markdown",
   "metadata": {},
   "source": [
    "we have one technosphere and one biosphere matrix. We added some functions to store this as tidy tables in a compressed csv."
   ]
  },
  {
   "cell_type": "code",
   "execution_count": 25,
   "metadata": {},
   "outputs": [],
   "source": [
    "path_to_intermediate = (Path.cwd()/'example_data')\n",
    "path_to_intermediate.mkdir(exist_ok=True)"
   ]
  },
  {
   "cell_type": "markdown",
   "metadata": {},
   "source": [
    "Add metadata\n",
    "\n",
    "- units\n",
    "- names\n",
    "- _context_ / compartment for elementary flows"
   ]
  },
  {
   "cell_type": "code",
   "execution_count": 26,
   "metadata": {},
   "outputs": [],
   "source": [
    "metadata_dict = {'prod1':{'unit':'kg','name':'product 1'},\n",
    "                 'prod2':{'unit':'kg','name':'product 2'},\n",
    "                 'Household':{'unit':'unit','name':'the household'},\n",
    "                 'Government':{'unit':'unit','name':'the government'},\n",
    "                 'Capital':{'unit':'unit','name':'capital investments'},\n",
    "\n",
    "                 'co2_air':{'unit':'ton', # not standard units\n",
    "                            'name':'carbon dioxide',\n",
    "                            'compartment':('air',)},\n",
    "                 'ch4_air':{'unit':'kg',\n",
    "                            'name':'methane',\n",
    "                            'compartment':('air',)},\n",
    "                 'co2_accelerated_air':{'unit':'kg', # additional biosphere flow\n",
    "                                        'name':'carbon dioxide accelerated',\n",
    "                                        'compartment':('air',)},\n",
    "                 'land_occupation':{'unit':'hectare * year', # non standard composite unit\n",
    "                                    'name':'land occupation',\n",
    "                                    'compartment':('natural resource', 'land')}\n",
    "                }\n",
    "\n",
    "with open(path_to_intermediate/'io_metadata.json', 'w') as fp:\n",
    "    json.dump(metadata_dict, fp,indent=4)"
   ]
  },
  {
   "cell_type": "code",
   "execution_count": 27,
   "metadata": {},
   "outputs": [],
   "source": [
    "tidy_tables(extended_hiot,extended_B,path_to_intermediate)"
   ]
  },
  {
   "cell_type": "markdown",
   "metadata": {},
   "source": [
    "### Import the database"
   ]
  },
  {
   "cell_type": "code",
   "execution_count": 28,
   "metadata": {},
   "outputs": [
    {
     "name": "stdout",
     "output_type": "stream",
     "text": [
      "db not there\n"
     ]
    }
   ],
   "source": [
    "try:\n",
    "    del bd.databases['pet_io_db biosphere']\n",
    "    del bd.databases['pet_io_db']\n",
    "except KeyError:\n",
    "    print('db not there')"
   ]
  },
  {
   "cell_type": "markdown",
   "metadata": {},
   "source": [
    "mapping between the elementary flows in the database and those in our _biosphere_ database"
   ]
  },
  {
   "cell_type": "markdown",
   "metadata": {},
   "source": [
    "These include the links between the database being imported and the biosphere3 database. \n",
    "\n",
    "For those that do not have a correspondence, a new elementary flow will be created in an additional biosphere db"
   ]
  },
  {
   "cell_type": "code",
   "execution_count": 29,
   "metadata": {},
   "outputs": [],
   "source": [
    "b3 = bd.Database('ecoinvent-3.10-biosphere')\n",
    "co2 = b3.get(name='Carbon dioxide, fossil',categories=('air',))\n",
    "ch4 = b3.get(name='Methane, fossil',categories=('air',))\n",
    "land_occupation = b3.get(name='Occupation, unspecified')"
   ]
  },
  {
   "cell_type": "code",
   "execution_count": 30,
   "metadata": {},
   "outputs": [],
   "source": [
    "biosphere_mapping = {\n",
    "    'co2_air':co2['code'],\n",
    "    'ch4_air':ch4['code'],\n",
    "    'land_occupation':land_occupation['code'],\n",
    "    }"
   ]
  },
  {
   "cell_type": "code",
   "execution_count": 31,
   "metadata": {},
   "outputs": [],
   "source": [
    "pet_example = IOImporter(dirpath=path_to_intermediate,\n",
    "                         db_name='pet_io_db',\n",
    "                         b3mapping=biosphere_mapping)\n",
    "pet_example.apply_strategies()\n",
    "pet_example.write_database()"
   ]
  },
  {
   "cell_type": "markdown",
   "metadata": {},
   "source": [
    "### test"
   ]
  },
  {
   "cell_type": "code",
   "execution_count": 33,
   "metadata": {},
   "outputs": [],
   "source": [
    "test_db = bd.Database('pet_io_db')"
   ]
  },
  {
   "cell_type": "code",
   "execution_count": 34,
   "metadata": {},
   "outputs": [],
   "source": [
    "act1 = test_db.get(code='act1|DK')\n",
    "act2 = test_db.get(code='act2|DK')"
   ]
  },
  {
   "cell_type": "code",
   "execution_count": 35,
   "metadata": {},
   "outputs": [
    {
     "name": "stdout",
     "output_type": "stream",
     "text": [
      "Exchange: 40000.0 square meter-year 'Occupation, unspecified' (square meter-year, None, ('natural resource', 'land')) to 'act1' (kilogram, DK, None)>\n",
      "Exchange: 907.1847534179688 kilogram 'Carbon dioxide, fossil' (kilogram, None, ('air',)) to 'act1' (kilogram, DK, None)>\n",
      "Exchange: 1.0 kilogram 'Methane, fossil' (kilogram, None, ('air',)) to 'act1' (kilogram, DK, None)>\n"
     ]
    }
   ],
   "source": [
    "# it should have CO2 emissions close to 1 ton and land use of 40000 m2 * year\n",
    "for e in act1.biosphere():\n",
    "    print(e)"
   ]
  },
  {
   "cell_type": "code",
   "execution_count": 36,
   "metadata": {},
   "outputs": [],
   "source": [
    "ipcc_2021 = ('IPCC 2021', 'climate change', 'global warming potential (GWP100)')"
   ]
  },
  {
   "cell_type": "code",
   "execution_count": 37,
   "metadata": {},
   "outputs": [],
   "source": [
    "test_lca = bc.LCA({act2:1},ipcc_2021)"
   ]
  },
  {
   "cell_type": "code",
   "execution_count": 38,
   "metadata": {},
   "outputs": [
    {
     "data": {
      "text/plain": [
       "4655.12370300293"
      ]
     },
     "execution_count": 38,
     "metadata": {},
     "output_type": "execute_result"
    }
   ],
   "source": [
    "test_lca.lci()\n",
    "test_lca.lcia()\n",
    "test_lca.score"
   ]
  },
  {
   "cell_type": "code",
   "execution_count": 39,
   "metadata": {},
   "outputs": [
    {
     "data": {
      "text/html": [
       "<div>\n",
       "<style scoped>\n",
       "    .dataframe tbody tr th:only-of-type {\n",
       "        vertical-align: middle;\n",
       "    }\n",
       "\n",
       "    .dataframe tbody tr th {\n",
       "        vertical-align: top;\n",
       "    }\n",
       "\n",
       "    .dataframe thead tr th {\n",
       "        text-align: left;\n",
       "    }\n",
       "</style>\n",
       "<table border=\"1\" class=\"dataframe\">\n",
       "  <thead>\n",
       "    <tr>\n",
       "      <th></th>\n",
       "      <th></th>\n",
       "      <th colspan=\"5\" halign=\"left\">DK</th>\n",
       "    </tr>\n",
       "    <tr>\n",
       "      <th></th>\n",
       "      <th></th>\n",
       "      <th>act1</th>\n",
       "      <th>act2</th>\n",
       "      <th>Household</th>\n",
       "      <th>Government</th>\n",
       "      <th>Capital</th>\n",
       "    </tr>\n",
       "  </thead>\n",
       "  <tbody>\n",
       "    <tr>\n",
       "      <th rowspan=\"5\" valign=\"top\">DK</th>\n",
       "      <th>prod1</th>\n",
       "      <td>1.0</td>\n",
       "      <td>-2.0</td>\n",
       "      <td>-11.0</td>\n",
       "      <td>-8.0</td>\n",
       "      <td>-4.0</td>\n",
       "    </tr>\n",
       "    <tr>\n",
       "      <th>prod2</th>\n",
       "      <td>0</td>\n",
       "      <td>1.0</td>\n",
       "      <td>-3.0</td>\n",
       "      <td>-4.0</td>\n",
       "      <td>-2.0</td>\n",
       "    </tr>\n",
       "    <tr>\n",
       "      <th>Household</th>\n",
       "      <td>0.0</td>\n",
       "      <td>0.0</td>\n",
       "      <td>1.0</td>\n",
       "      <td>0</td>\n",
       "      <td>0</td>\n",
       "    </tr>\n",
       "    <tr>\n",
       "      <th>Government</th>\n",
       "      <td>0.0</td>\n",
       "      <td>0.0</td>\n",
       "      <td>0</td>\n",
       "      <td>1.0</td>\n",
       "      <td>0</td>\n",
       "    </tr>\n",
       "    <tr>\n",
       "      <th>Capital</th>\n",
       "      <td>0.0</td>\n",
       "      <td>0.0</td>\n",
       "      <td>0</td>\n",
       "      <td>0</td>\n",
       "      <td>1.0</td>\n",
       "    </tr>\n",
       "  </tbody>\n",
       "</table>\n",
       "</div>"
      ],
      "text/plain": [
       "                DK                                  \n",
       "              act1 act2 Household Government Capital\n",
       "DK prod1       1.0 -2.0     -11.0       -8.0    -4.0\n",
       "   prod2         0  1.0      -3.0       -4.0    -2.0\n",
       "   Household   0.0  0.0       1.0          0       0\n",
       "   Government  0.0  0.0         0        1.0       0\n",
       "   Capital     0.0  0.0         0          0     1.0"
      ]
     },
     "execution_count": 39,
     "metadata": {},
     "output_type": "execute_result"
    }
   ],
   "source": [
    "extended_hiot"
   ]
  },
  {
   "cell_type": "code",
   "execution_count": 40,
   "metadata": {},
   "outputs": [
    {
     "data": {
      "text/plain": [
       "matrix([[  1.,  -2., -11.,  -8.,  -4.],\n",
       "        [  0.,   1.,  -3.,  -4.,  -2.],\n",
       "        [  0.,   0.,   1.,   0.,   0.],\n",
       "        [  0.,   0.,   0.,   1.,   0.],\n",
       "        [  0.,   0.,   0.,   0.,   1.]])"
      ]
     },
     "execution_count": 40,
     "metadata": {},
     "output_type": "execute_result"
    }
   ],
   "source": [
    "test_lca.technosphere_matrix.todense()"
   ]
  },
  {
   "cell_type": "code",
   "execution_count": 41,
   "metadata": {},
   "outputs": [
    {
     "data": {
      "text/html": [
       "<div>\n",
       "<style scoped>\n",
       "    .dataframe tbody tr th:only-of-type {\n",
       "        vertical-align: middle;\n",
       "    }\n",
       "\n",
       "    .dataframe tbody tr th {\n",
       "        vertical-align: top;\n",
       "    }\n",
       "\n",
       "    .dataframe thead th {\n",
       "        text-align: right;\n",
       "    }\n",
       "</style>\n",
       "<table border=\"1\" class=\"dataframe\">\n",
       "  <thead>\n",
       "    <tr style=\"text-align: right;\">\n",
       "      <th></th>\n",
       "      <th>0</th>\n",
       "      <th>1</th>\n",
       "      <th>2</th>\n",
       "      <th>3</th>\n",
       "      <th>4</th>\n",
       "    </tr>\n",
       "  </thead>\n",
       "  <tbody>\n",
       "    <tr>\n",
       "      <th>0</th>\n",
       "      <td>40000.000000</td>\n",
       "      <td>0.000000</td>\n",
       "      <td>0.000000</td>\n",
       "      <td>0.000000</td>\n",
       "      <td>0.0</td>\n",
       "    </tr>\n",
       "    <tr>\n",
       "      <th>1</th>\n",
       "      <td>907.184753</td>\n",
       "      <td>2721.554199</td>\n",
       "      <td>907.184753</td>\n",
       "      <td>2721.554199</td>\n",
       "      <td>0.0</td>\n",
       "    </tr>\n",
       "    <tr>\n",
       "      <th>2</th>\n",
       "      <td>1.000000</td>\n",
       "      <td>2.000000</td>\n",
       "      <td>0.000000</td>\n",
       "      <td>0.000000</td>\n",
       "      <td>0.0</td>\n",
       "    </tr>\n",
       "    <tr>\n",
       "      <th>3</th>\n",
       "      <td>0.000000</td>\n",
       "      <td>1.000000</td>\n",
       "      <td>0.000000</td>\n",
       "      <td>0.000000</td>\n",
       "      <td>0.0</td>\n",
       "    </tr>\n",
       "  </tbody>\n",
       "</table>\n",
       "</div>"
      ],
      "text/plain": [
       "              0            1           2            3    4\n",
       "0  40000.000000     0.000000    0.000000     0.000000  0.0\n",
       "1    907.184753  2721.554199  907.184753  2721.554199  0.0\n",
       "2      1.000000     2.000000    0.000000     0.000000  0.0\n",
       "3      0.000000     1.000000    0.000000     0.000000  0.0"
      ]
     },
     "execution_count": 41,
     "metadata": {},
     "output_type": "execute_result"
    }
   ],
   "source": [
    "pd.DataFrame(test_lca.biosphere_matrix.todense())"
   ]
  },
  {
   "cell_type": "markdown",
   "metadata": {},
   "source": [
    "it can:\n",
    "\n",
    "- handle unit conversion (pint)\n",
    "- handle elementary flows not present in biosphere \n",
    "- handle some non-standard composite units (e.g hectare * year)"
   ]
  },
  {
   "cell_type": "markdown",
   "metadata": {},
   "source": [
    "## Bonsai "
   ]
  },
  {
   "cell_type": "markdown",
   "metadata": {},
   "source": [
    "### tidy tables\n",
    "\n",
    "We've already done this for you :)"
   ]
  },
  {
   "cell_type": "markdown",
   "metadata": {},
   "source": [
    "### import the database"
   ]
  },
  {
   "cell_type": "code",
   "execution_count": 42,
   "metadata": {},
   "outputs": [],
   "source": [
    "from bw2io.importers.bonsai import BonsaiImporter\n",
    "from bw2io.strategies.bonsai import mapb3"
   ]
  },
  {
   "cell_type": "code",
   "execution_count": 43,
   "metadata": {},
   "outputs": [],
   "source": [
    "bonsai_data_path = Path('bonsai_data')"
   ]
  },
  {
   "cell_type": "code",
   "execution_count": 44,
   "metadata": {},
   "outputs": [],
   "source": [
    "importer = BonsaiImporter(dirpath=bonsai_data_path,\n",
    "                          db_name='bonsai',\n",
    "                          b3mapping=mapb3(),\n",
    "                          )"
   ]
  },
  {
   "cell_type": "code",
   "execution_count": 45,
   "metadata": {},
   "outputs": [],
   "source": [
    "importer.apply_strategies()"
   ]
  },
  {
   "cell_type": "code",
   "execution_count": 46,
   "metadata": {},
   "outputs": [
    {
     "name": "stderr",
     "output_type": "stream",
     "text": [
      "100%|██████████| 2/2 [00:00<00:00, 5165.40it/s]\n"
     ]
    },
    {
     "name": "stdout",
     "output_type": "stream",
     "text": [
      "Vacuuming database \n",
      "Not able to determine geocollections for all datasets. This database is not ready for regionalization.\n"
     ]
    },
    {
     "name": "stderr",
     "output_type": "stream",
     "text": [
      "100%|██████████| 34567/34567 [00:06<00:00, 5550.46it/s]\n"
     ]
    },
    {
     "name": "stdout",
     "output_type": "stream",
     "text": [
      "Vacuuming database \n",
      "Starting IO table write\n",
      "Adding technosphere matrix\n",
      "Adding biosphere matrix\n",
      "Finalizing serialization\n"
     ]
    }
   ],
   "source": [
    "importer.write_database()"
   ]
  },
  {
   "cell_type": "markdown",
   "metadata": {},
   "source": [
    "### test bonsai"
   ]
  },
  {
   "cell_type": "code",
   "execution_count": 49,
   "metadata": {},
   "outputs": [],
   "source": [
    "bonsai_db = bd.Database('bonsai')"
   ]
  },
  {
   "cell_type": "code",
   "execution_count": 53,
   "metadata": {},
   "outputs": [],
   "source": [
    "locations = {a['location'] for a in bonsai_db}\n",
    "names = {a['name'] for a in bonsai_db}"
   ]
  },
  {
   "cell_type": "code",
   "execution_count": 56,
   "metadata": {},
   "outputs": [
    {
     "name": "stdout",
     "output_type": "stream",
     "text": [
      "50 locations, 783 different products\n"
     ]
    }
   ],
   "source": [
    "print(f\"{len(locations)} locations, {len(names)} different products\")"
   ]
  },
  {
   "cell_type": "code",
   "execution_count": 63,
   "metadata": {},
   "outputs": [
    {
     "data": {
      "text/plain": [
       "34567"
      ]
     },
     "execution_count": 63,
     "metadata": {},
     "output_type": "execute_result"
    }
   ],
   "source": [
    "len(bonsai_db)"
   ]
  },
  {
   "cell_type": "code",
   "execution_count": 58,
   "metadata": {},
   "outputs": [],
   "source": [
    "act = bonsai_db.random()\n",
    "act"
   ]
  },
  {
   "cell_type": "code",
   "execution_count": 59,
   "metadata": {},
   "outputs": [],
   "source": [
    "# without pypardiso this is painfully slow\n",
    "lca = act.lca(ipcc_2021)"
   ]
  },
  {
   "cell_type": "code",
   "execution_count": 62,
   "metadata": {},
   "outputs": [
    {
     "name": "stdout",
     "output_type": "stream",
     "text": [
      "technosphere density of 0.12%\n"
     ]
    }
   ],
   "source": [
    "density = lca.technosphere_matrix.getnnz() / np.prod(lca.technosphere_matrix.shape)\n",
    "print(f\"technosphere density of {density:.2%}\")"
   ]
  },
  {
   "cell_type": "code",
   "execution_count": 67,
   "metadata": {},
   "outputs": [
    {
     "data": {
      "text/html": [
       "<div>\n",
       "<style scoped>\n",
       "    .dataframe tbody tr th:only-of-type {\n",
       "        vertical-align: middle;\n",
       "    }\n",
       "\n",
       "    .dataframe tbody tr th {\n",
       "        vertical-align: top;\n",
       "    }\n",
       "\n",
       "    .dataframe thead th {\n",
       "        text-align: right;\n",
       "    }\n",
       "</style>\n",
       "<table border=\"1\" class=\"dataframe\">\n",
       "  <thead>\n",
       "    <tr style=\"text-align: right;\">\n",
       "      <th></th>\n",
       "      <th>amount</th>\n",
       "    </tr>\n",
       "    <tr>\n",
       "      <th>row_name</th>\n",
       "      <th></th>\n",
       "    </tr>\n",
       "  </thead>\n",
       "  <tbody>\n",
       "    <tr>\n",
       "      <th>Carbon dioxide, fossil</th>\n",
       "      <td>405.410048</td>\n",
       "    </tr>\n",
       "    <tr>\n",
       "      <th>Dinitrogen monoxide</th>\n",
       "      <td>239.487907</td>\n",
       "    </tr>\n",
       "    <tr>\n",
       "      <th>Methane, fossil</th>\n",
       "      <td>27.984032</td>\n",
       "    </tr>\n",
       "    <tr>\n",
       "      <th>Methane, non-fossil</th>\n",
       "      <td>2.138015</td>\n",
       "    </tr>\n",
       "  </tbody>\n",
       "</table>\n",
       "</div>"
      ],
      "text/plain": [
       "                            amount\n",
       "row_name                          \n",
       "Carbon dioxide, fossil  405.410048\n",
       "Dinitrogen monoxide     239.487907\n",
       "Methane, fossil          27.984032\n",
       "Methane, non-fossil       2.138015"
      ]
     },
     "execution_count": 67,
     "metadata": {},
     "output_type": "execute_result"
    }
   ],
   "source": [
    "lca.to_dataframe().pivot_table(index='row_name',aggfunc='sum',values='amount')"
   ]
  },
  {
   "cell_type": "code",
   "execution_count": 71,
   "metadata": {},
   "outputs": [
    {
     "data": {
      "text/html": [
       "<div>\n",
       "<style scoped>\n",
       "    .dataframe tbody tr th:only-of-type {\n",
       "        vertical-align: middle;\n",
       "    }\n",
       "\n",
       "    .dataframe tbody tr th {\n",
       "        vertical-align: top;\n",
       "    }\n",
       "\n",
       "    .dataframe thead th {\n",
       "        text-align: right;\n",
       "    }\n",
       "</style>\n",
       "<table border=\"1\" class=\"dataframe\">\n",
       "  <thead>\n",
       "    <tr style=\"text-align: right;\">\n",
       "      <th></th>\n",
       "      <th>amount</th>\n",
       "    </tr>\n",
       "    <tr>\n",
       "      <th>col_name</th>\n",
       "      <th></th>\n",
       "    </tr>\n",
       "  </thead>\n",
       "  <tbody>\n",
       "    <tr>\n",
       "      <th>heat from combined heat and power</th>\n",
       "      <td>136.083840</td>\n",
       "    </tr>\n",
       "    <tr>\n",
       "      <th>land transformation, intensification of cropland</th>\n",
       "      <td>109.872252</td>\n",
       "    </tr>\n",
       "    <tr>\n",
       "      <th>sunflower seed</th>\n",
       "      <td>104.751225</td>\n",
       "    </tr>\n",
       "    <tr>\n",
       "      <th>Gas/Diesel Oil, combustion of</th>\n",
       "      <td>86.757773</td>\n",
       "    </tr>\n",
       "    <tr>\n",
       "      <th>Natural gas and services related to natural gas extraction, excluding surveying, combustion of</th>\n",
       "      <td>62.809355</td>\n",
       "    </tr>\n",
       "    <tr>\n",
       "      <th>heat (steam and hot water) from heat production</th>\n",
       "      <td>45.376637</td>\n",
       "    </tr>\n",
       "    <tr>\n",
       "      <th>electricity by coal</th>\n",
       "      <td>30.421915</td>\n",
       "    </tr>\n",
       "    <tr>\n",
       "      <th>Motor Gasoline, combustion of</th>\n",
       "      <td>16.872697</td>\n",
       "    </tr>\n",
       "    <tr>\n",
       "      <th>crude petroleum extraction</th>\n",
       "      <td>14.974992</td>\n",
       "    </tr>\n",
       "    <tr>\n",
       "      <th>Other Bituminous Coal, combustion of</th>\n",
       "      <td>13.969350</td>\n",
       "    </tr>\n",
       "  </tbody>\n",
       "</table>\n",
       "</div>"
      ],
      "text/plain": [
       "                                                        amount\n",
       "col_name                                                      \n",
       "heat from combined heat and power                   136.083840\n",
       "land transformation, intensification of cropland    109.872252\n",
       "sunflower seed                                      104.751225\n",
       "Gas/Diesel Oil, combustion of                        86.757773\n",
       "Natural gas and services related to natural gas...   62.809355\n",
       "heat (steam and hot water) from heat production      45.376637\n",
       "electricity by coal                                  30.421915\n",
       "Motor Gasoline, combustion of                        16.872697\n",
       "crude petroleum extraction                           14.974992\n",
       "Other Bituminous Coal, combustion of                 13.969350"
      ]
     },
     "execution_count": 71,
     "metadata": {},
     "output_type": "execute_result"
    }
   ],
   "source": [
    "lca.to_dataframe().pivot_table(index='col_name',\n",
    "                               aggfunc='sum',\n",
    "                               values='amount').sort_values(by='amount',\n",
    "                                                            ascending=False).head(10)"
   ]
  }
 ],
 "metadata": {
  "kernelspec": {
   "display_name": "venv",
   "language": "python",
   "name": "python3"
  },
  "language_info": {
   "codemirror_mode": {
    "name": "ipython",
    "version": 3
   },
   "file_extension": ".py",
   "mimetype": "text/x-python",
   "name": "python",
   "nbconvert_exporter": "python",
   "pygments_lexer": "ipython3",
   "version": "3.12.5"
  }
 },
 "nbformat": 4,
 "nbformat_minor": 2
}
