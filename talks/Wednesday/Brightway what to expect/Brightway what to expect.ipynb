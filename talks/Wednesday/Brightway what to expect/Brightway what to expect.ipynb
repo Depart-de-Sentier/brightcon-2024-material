{
 "cells": [
  {
   "cell_type": "markdown",
   "id": "406dfa7e-c084-440e-b4c1-de0db9d47bab",
   "metadata": {},
   "source": [
    "<img src=\"logo.png\" width=\"400\">\n",
    "\n",
    "# What to expect in 2025\n",
    "\n",
    "## Brightway 2.5 released as stable versions on pypi and conda-forge on Oct. 25, 2024\n",
    "\n",
    "* bw2data `4.0.dev56` -> `4.0`\n",
    "* bw2calc `2.0.dev23` -> `2.0`\n",
    "* bw2io `0.9.dev38` -> `0.9`\n",
    "\n",
    "## Activity Browser compatible with 2.5 by end of 2024\n",
    "\n",
    "Demonstration\n",
    "\n",
    "Available on [Anaconda](https://anaconda.org/cmutel/activity-browser-dev25) - be sure to also install [pypardiso](https://anaconda.org/conda-forge/pypardiso) or [scikit-umfpack](https://anaconda.org/conda-forge/scikit-umfpack).\n",
    "\n",
    "## Improvements to graph visualization and calculation speed\n",
    "\n",
    "Builds on new `bw_graph_tools` optmizations and `MultiLCA`\n",
    "\n",
    "## Integration with Sentier.dev vocabulary\n",
    "\n",
    "Specify term IRIs instead of strings for things like name, unit, etc.\n",
    "\n",
    "## Dynamic handling of multifunctionality\n",
    "\n",
    "Talk on Thursday\n",
    "\n",
    "## Change to graph database\n",
    "\n",
    "* Backwards compatible (but no more json or pickle files)\n",
    "* Database, CFs, methods, etc. are in the graph database\n",
    "* Specific `Node` types with pydantic classes (see [bw_interface_schema](https://github.com/brightway-lca/bw_interface_schemas/blob/main/bw_interface_schemas/lci.py))\n",
    "* Flexibility in labels (see [configuration](https://github.com/brightway-lca/brightway2-data/blob/main/bw2data/configuration.py))\n",
    "* See [stretch goal](https://github.com/brightway-lca/brightway2-data/issues/181)"
   ]
  },
  {
   "cell_type": "code",
   "execution_count": null,
   "id": "1cb052c9-63a5-400b-9890-cb0fbf849eca",
   "metadata": {},
   "outputs": [],
   "source": []
  }
 ],
 "metadata": {
  "kernelspec": {
   "display_name": "Python 3 (ipykernel)",
   "language": "python",
   "name": "python3"
  },
  "language_info": {
   "codemirror_mode": {
    "name": "ipython",
    "version": 3
   },
   "file_extension": ".py",
   "mimetype": "text/x-python",
   "name": "python",
   "nbconvert_exporter": "python",
   "pygments_lexer": "ipython3",
   "version": "3.12.4"
  }
 },
 "nbformat": 4,
 "nbformat_minor": 5
}
