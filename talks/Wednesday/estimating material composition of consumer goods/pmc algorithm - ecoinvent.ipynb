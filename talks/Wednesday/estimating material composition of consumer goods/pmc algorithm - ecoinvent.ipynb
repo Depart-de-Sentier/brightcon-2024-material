{
 "cells": [
  {
   "cell_type": "markdown",
   "metadata": {},
   "source": [
    "Copyright 2024 Netherlands eScience Center and CML, Leiden University\n",
    "Licensed under the Apache License, version 2.0. See LICENSE for details.\n",
    "\n",
    "NOTES:\n",
    "This script allows to estimate the material composition (MC) of products using real product datasets in ecoinvent database.\n",
    "\n",
    "See paper: Amatuni, L., Steubing, B., Heijungs, R., Yamamoto, T., & Mogollón, J. M. Deriving material composition of products using life cycle inventory databases. Journal of Industrial Ecology. https://doi.org/10.1111/jiec.13538\n",
    "\n",
    "We highly recommend visiting this paper first to gain a solid understanding of the implementation of this product composition estimation algorithm. We suggest first reviewing a simpler and more universal script \"pmc algorithm - general.py\" for detailed comments for each code line. This script is an extension of that general script tailoring it to perform on the ecoinvent database. \n",
    "The comments under this script will be rather limited. \n",
    "\n",
    "REQUIREMENTS: \n",
    "- To run this script in Spyder or VS Code you need first to prepare a separate conda environment with an installed Brightway 2 (not 2.5!) framework and (optionally) the Activity Browser GUI on top.\n",
    "Installing Activity Browser in a separate conda environment as instructed on the AB website will install Brightway and all the packages needed, so this is a good starting point.  \n",
    "- Basic understanding of Python and Brightway is required to be able to replicate this code for your own products/materials/LCI database of interest\n",
    "- LCI database: ecoinvent 3.10 cutoff database and the 'biosphere3' database available in your Brigthway project(see constants section for proper linking)"
   ]
  },
  {
   "cell_type": "markdown",
   "metadata": {},
   "source": [
    "# Concepts to understand\n",
    "\n",
    "**Material flows hierarchy defined in the paper:**\n",
    "\n",
    "MF - material footprint; \n",
    "MC - material composition; \n",
    "NIMF - non-incorporated material footprint.\n",
    "![MF vs MC](visuals/mf-and-mc.jpg)\n",
    "\n",
    "---\n",
    "\n",
    "**Consider a simplified example of a supply chain of laptop manufacturing:**\n",
    "![Supply chain](visuals/supply-chain.jpg)\n",
    "\n",
    "---\n",
    "\n",
    "**To estimate the material composition, we want to sum up only the copper amount that actually ends up in the laptop and filter out the rest of the inputs:**\n",
    "![Filtering](visuals/filtering.jpg)\n",
    "\n",
    "---\n",
    "\n",
    "**The following major steps are part of our approach:**\n",
    "![Steps](visuals/steps.jpg)\n"
   ]
  },
  {
   "cell_type": "markdown",
   "metadata": {},
   "source": [
    "# Imports\n",
    "\n",
    "We start with importing all the necessary libraries:"
   ]
  },
  {
   "cell_type": "code",
   "execution_count": 1,
   "metadata": {},
   "outputs": [],
   "source": [
    "from functools import cmp_to_key\n",
    "import json\n",
    "import csv\n",
    "import sys\n",
    "import os\n",
    "\n",
    "# Don't do this\n",
    "from brightway2 import *\n",
    "import brightway2 as bw\n",
    "\n",
    "# Do this\n",
    "import bw2io as bi\n",
    "import bw2data as bd"
   ]
  },
  {
   "cell_type": "markdown",
   "metadata": {},
   "source": [
    "# Constants\n",
    "\n",
    "Then, we define constant parameters used in the script:"
   ]
  },
  {
   "cell_type": "code",
   "execution_count": 2,
   "metadata": {},
   "outputs": [],
   "source": [
    "PROJECT_NAME = 'material-composition' #name of your Brightway project\n",
    "DB_NAME = 'ecoinvent-3.10-cutoff' #name of your LCI database in your Brightway project \n",
    "BIO_DB_NAME = 'ecoinvent-3.10-biosphere' #name of your bioflows database in your Brightway project \n",
    "product = 'computer production, laptop' #the product that we want to explore for its materil content; the name should come from the LCI database you will use\n",
    "prod_wght = 3.15 #kg per product ideally specified in your LCI database (comes from Ecoinvent 3.6 in our case)\n",
    "METHOD_KEY = ('ReCiPe 2016 v1.03, endpoint (H)', 'natural resources', 'material resources: metals/minerals') #selected method from the list of impact methods; in practice arbitrary as it does not impact the resulting inventory/supply vectors but is needed to run the lca.lci() command\n",
    "Cu = \"Copper\"\n",
    "Al = \"Aluminium\"\n",
    "Ta = \"Tantalum\"\n",
    "BIO_MAT_LIST = [Cu, Al, Ta] #the natural materials of interest (the appropariate flows in the biospere database will be selected later on based on this names). Each name should start with the capital letter (see conventional names of materials/metals in the biosphere3 database)\n",
    "FU = 1 #amount of the product of interest (functional unit), e.g. one unit laptop\n",
    "#auxiliary:\n",
    "KEY_index = 1 #index of the actual activity/bioflow key in a conventional tuple key like (db, key)\n",
    "FLOAT_RND = 5 #how many digits left after floating point "
   ]
  },
  {
   "cell_type": "markdown",
   "metadata": {},
   "source": [
    "# Project and databases set up\n",
    "\n",
    "It is assumed that you already have Brightway project, ecoinvent and biosphere databases.\n",
    "If not, it is easy to set them up and download them using Activity Browser.\n",
    "You can also use `bw2setup()` to do that in Brightway. \n",
    "\n",
    "###Here, we open our existing Brightway project with LCI and biosphere databases: "
   ]
  },
  {
   "cell_type": "code",
   "execution_count": 3,
   "metadata": {},
   "outputs": [],
   "source": [
    "if PROJECT_NAME not in bd.projects:\n",
    "    bi.restore_project_directory(\n",
    "        \"/srv/data/ecoinvent-3.10-cutoff-bw2.tar.gz\", \n",
    "        project_name=PROJECT_NAME\n",
    "    )\n",
    "projects.set_current(PROJECT_NAME)\n",
    "db  = bw.Database(DB_NAME)\n",
    "bio = bw.Database(BIO_DB_NAME)"
   ]
  },
  {
   "cell_type": "markdown",
   "metadata": {},
   "source": [
    "###Get the directory where the script is located and set the current working directory to the script's directory:"
   ]
  },
  {
   "cell_type": "markdown",
   "metadata": {},
   "source": [
    "script_dir = os.path.dirname(os.path.abspath(sys.argv[0]))\n",
    "os.chdir(script_dir)"
   ]
  },
  {
   "cell_type": "markdown",
   "metadata": {},
   "source": [
    "#Material selection \n",
    "Here, we will link specific materials that we are interested in to their production activities in our LCI database.\n",
    "Hint: we use markets instead of production activities as they conveniently include all the regional prod. activities and there's no need to list them separately.\n",
    "\n",
    "The so-called *material dictionary* is manually assembled by copying corresponding activities' keys (db name, key) from Acivity Browser and grouping them under a common name: "
   ]
  },
  {
   "cell_type": "code",
   "execution_count": 4,
   "metadata": {},
   "outputs": [],
   "source": [
    "materials_dict_cutoff310 = {\n",
    "        \"Metals\":\n",
    "            {Cu: [(DB_NAME, 'bc9651dcc7c9e1666633deebe9cc51ba')],\n",
    "             Al: [(DB_NAME, 'e540cdb4add7b620e2d2d64a3abb418d'), (DB_NAME, '56a38ae7dd7648bab5997fab280bbf46')] #market for aluminium, cast alloy + market for aluminium, wrought alloy \n",
    "            }\n",
    "}"
   ]
  },
  {
   "cell_type": "markdown",
   "metadata": {},
   "source": [
    "For plastics, however, we had to automatically scan the whole ecoinvent for various plastic types and prepare a big list of activities representing various plastic types. It would be almost impossible to do that manually. \n",
    "In this script, we just attach that JSON file that we have prepared in advance for plastics to our *material dictionary*.\n",
    "We also combine all the plastic types under a common material *Plastics* to save screen space when we output results later on. "
   ]
  },
  {
   "cell_type": "code",
   "execution_count": 5,
   "metadata": {},
   "outputs": [],
   "source": [
    "#import plastics dictionary from JSON\n",
    "with open('dict_gen/plastics_dict_ecoinvent-3.10-cutoff_m.json', 'r') as fp:\n",
    "    materials_dict_cutoff310[\"Plastics\"] = json.load(fp) "
   ]
  },
  {
   "cell_type": "code",
   "execution_count": 6,
   "metadata": {},
   "outputs": [],
   "source": [
    "#flatten all tuples under 'Plastics' into a single list \n",
    "combined_plastics = [item for sublist in materials_dict_cutoff310[\"Plastics\"].values() for item in sublist]\n",
    "materials_dict_cutoff310[\"Plastics\"] = {\"Total\": combined_plastics}"
   ]
  },
  {
   "cell_type": "markdown",
   "metadata": {},
   "source": [
    "#Avoid list\n",
    "This list specifies types of exchanges that usually do not become part of the product that inputs them in ecoinvent. \n",
    "Scanning for such keywords in the LCI database, allows to distinguish *incorporated* and *non-incorporated* material flows. "
   ]
  },
  {
   "cell_type": "code",
   "execution_count": 7,
   "metadata": {},
   "outputs": [],
   "source": [
    "avoid_activities = [\"treatment\", \"water\", \"waste\", \"container\", \"box\", \"packaging\", \"foam\", \"electricity\", \"factory\", \"adapter\", \"oxidation\", \"construction\", \"heat\", \"facility\", \"gas\", \"freight\", \"mine\", \"infrastructure\", \"conveyor\", \"road\", \"building\", \"used\", \"maintenance\", \"transport\", \"moulding\", \"mold\", \"wastewater\", \"steam\", \"scrap\", \"converter\"]"
   ]
  },
  {
   "cell_type": "markdown",
   "metadata": {},
   "source": [
    "#Functions\n",
    "Here, we define various function that can be used while estimating teh material of products using LCI databases."
   ]
  },
  {
   "cell_type": "code",
   "execution_count": 8,
   "metadata": {},
   "outputs": [],
   "source": [
    "def activity_by_name(name, db): #return first activity dataset based on name keyword\n",
    "    candidates = [x for x in db if name in x['name']]\n",
    "    candidates = sorted(candidates, key=cmp_to_key(lambda item1, item2: len(item1['name']) - len(item2['name'])))  #shortest name is the best match\n",
    "    return candidates[0]\n",
    "\n",
    "def activity_by_key(key, db): # key = tuple(db, key) -> activity (dataset) in db\n",
    "    return db.get(key[1])\n",
    "\n",
    "#List all intermediate (technosphere) flows (activities) in the resulting supply-array (see the Paper) that is stored in the reuslting 'lca' object\n",
    "def list_techno_inventory(lca):\n",
    "    print(\"\\u25A0 Supply array: \")\n",
    "    for k in lca.activity_dict:\n",
    "        print(activity_by_key(k, db)[\"name\"], \": \", lca.supply_array[lca.activity_dict[k]])\n",
    "    print()\n",
    "\n",
    "#For the product of interest from the database 'db' list incorporation parameters for all inputs of its production process\n",
    "def product_inputs(prod, db):\n",
    "    act = activity_by_name(prod, db)\n",
    "    for exc in act.technosphere():\n",
    "        try:\n",
    "            print(bw.get_activity(exc[\"input\"])._document.product, exc['incorporated'])\n",
    "        except: \n",
    "            print('Error: Not all of the exchanges in your LCI database have the incorporation parameter assigned!')\n",
    "            sys.exit(1) \n",
    "\n",
    "#Resets inc. parameter in the original db (~30 min)\n",
    "def db_inc_filter(db, avoid_activities):\n",
    "    i = 0\n",
    "    prt = -1\n",
    "    for act in db:\n",
    "        # update the bar\n",
    "        i += 1\n",
    "        pr = int(100*i/len(db))\n",
    "        if  (pr != prt):\n",
    "            b = \"\\rAssigning material incorporation parameters to all exchanges in the \" + db.name + \" database: \" + str(pr) + \"%\"\n",
    "            print (b, end=\"\\r\")\n",
    "            prt = pr\n",
    "        for exc in act.technosphere():\n",
    "            avoid = False\n",
    "            in_act = bw.get_activity(exc[\"input\"])\n",
    "            exc_name = in_act._document.product #product name; same as exc[\"name\"] but works for manual db\n",
    "            for word in avoid_activities:\n",
    "                if word in exc_name: #name of the product of the exchange\n",
    "                    avoid = True\n",
    "                    break\n",
    "            exc['incorporated'] = 0.0 if avoid else 1.0\n",
    "            exc.save()\n",
    "    print('\\n')\n",
    "\n",
    "#Restores all the incorporation parameters in the database back to 1\n",
    "def db_inc_reset(db): \n",
    "    i = 0\n",
    "    prt = -1\n",
    "    for act in db:\n",
    "        # update the bar\n",
    "        i += 1\n",
    "        pr = int(100*i/len(db))\n",
    "        if  (pr != prt):\n",
    "            b = \"\\rApplying full (1.0) incorporation parameters to the activities: \" + str(pr) + \"%\"\n",
    "            print (b, end=\"\\r\")\n",
    "            prt = pr\n",
    "        for exc in act.technosphere():\n",
    "            exc['incorporated'] = 1.0\n",
    "            exc.save()\n",
    "    print('\\n')  \n",
    "            \n",
    "#Edits lca techn. matrix (exclude non-incorporative exc) based on incorporation parameter in the db database\n",
    "def lca_exclude_noninc(db, lca): \n",
    "    i = 0\n",
    "    prt = -1\n",
    "    print('\\n')\n",
    "    for act in db:\n",
    "        # update the bar\n",
    "        i += 1\n",
    "        pr = int(100*i/len(db))\n",
    "        if  (pr != prt):\n",
    "            b = \"\\rExcluding the non-incorporated materials from the technosphere matrix: \" + str(pr) + \"%\"\n",
    "            print (b, end=\"\\r\")\n",
    "            prt = pr\n",
    "        for exc in act.technosphere():\n",
    "            try:\n",
    "                inc = exc['incorporated']\n",
    "            except:\n",
    "                inc = 1 #if the incorporation parameter was not entered in ab or set by db_inc_filter() previously\n",
    "                print('Error: missing incorporation parameter in the LCI database detected! -> assigned to 1')\n",
    "            if  inc < 1:\n",
    "                row = lca.activity_dict[exc[\"input\"]]\n",
    "                col = lca.activity_dict[act.key]\n",
    "                lca.technosphere_matrix[row, col] *= inc\n",
    "    return lca\n",
    "\n",
    "#Creates an LCA object based on the reference product 'act' in the database 'db' and the bioflow 'material_bioflow' of interest     \n",
    "def LCA_create(act, FU): \n",
    "    functional_unit = {act: FU}\n",
    "    return bw.LCA(functional_unit, METHOD_KEY)\n",
    "\n",
    "#Outputs the material bioflows of interest, 'mat_list' from the resulting inventory vector in the 'lca' object \n",
    "# This is basically the MC or MF of a product, depending if material filtering was applied before. \n",
    "def materials_inv(mat_list, lca): \n",
    "    for flow_index, amount in enumerate(lca.inventory.sum(axis=1).flat): # lca.inventory.sum(axis=1).flat gives you the summed inventory for each biosphere flow\n",
    "        flow_key = list(lca.biosphere_dict.items())[flow_index][0][KEY_index] #obtain key of each bioflow (in the resulting 'inventory') based on the 'biosphere_dict' that lists the keys of the resulting elementary flows \n",
    "        flow_name = bio.get(flow_key)['name'] #obtain name of each bioflow using its key based on the 'bio' database that contains the names of all elementary flows\n",
    "        if flow_name in mat_list:\n",
    "            print(f'{flow_name}: {round(amount, FLOAT_RND)} kg OR {round(amount/prod_wght * 100, FLOAT_RND)} %') \n",
    "    print('\\n')\n",
    "    return 0\n",
    "\n",
    "#Given predefined 'materials_dict' (see above), aggregates and prints \n",
    "# resulting material fllows (MC or MF of a product, depending if filtering was applied) \n",
    "# using the 'supply_array' from the resulting 'lca' object\n",
    "def materials_sup(materials_dict, lca):\n",
    "    try:\n",
    "        for material_group in materials_dict:\n",
    "            gr_sum = 0\n",
    "            for material in materials_dict[material_group]:\n",
    "                mat_sum = 0\n",
    "                for act_key in materials_dict[material_group][material]:\n",
    "                    act_key = tuple(act_key) #this fix to is needed as the keys from the fp file are given as a list [db_name,key]\n",
    "                    mat_sum += lca.supply_array[lca.activity_dict[act_key]]\n",
    "                print(f'{material} : {round(mat_sum, FLOAT_RND)} kg OR {round(mat_sum/prod_wght * 100, FLOAT_RND)} %')\n",
    "                gr_sum += mat_sum\n",
    "            print(f'> {material_group} total : {round(gr_sum, FLOAT_RND)} kg OR {round(gr_sum/prod_wght * 100, FLOAT_RND)} %')\n",
    "    except Exception as e: \n",
    "        print(f'\\nError: most likely you used a wrong key in your material dictionary that does not properly link to the activity in the LCI database! \\nCheck the {e}')\n",
    "        sys.exit(1) \n",
    "    return 0\n",
    "\n",
    "def db_amount_save(db): #save all the original amounts of the exchanges\n",
    "    for act in db:\n",
    "        for exc in act.technosphere():\n",
    "            exc['amount_save'] = exc['amount']\n",
    "            exc.save()\n",
    "            \n",
    "def db_amount_restore(db): #restore all the original amounts of the exchanges\n",
    "    for act in db:\n",
    "        for exc in act.technosphere():\n",
    "            exc['amount'] = exc['amount_save']\n",
    "            exc.save()\n",
    "            \n",
    "def db_inc_to_amounts(db): #adjust all the amounts of the exchanges based on the incorporation\n",
    "    for act in db:\n",
    "        for exc in act.technosphere():\n",
    "            exc['amount'] = exc['amount_save'] * exc['incorporated']\n",
    "            exc.save()    \n",
    "\n",
    "def db_to_csv(db): #save datasets (name, key) into the csv file\n",
    "    #generate a list of act. names and their keys\n",
    "    list = [['name','key']]\n",
    "    for act in db:\n",
    "        list.append([act[\"name\"], act.key[1]])\n",
    "    #write into csv\n",
    "    with open(db.name+'.csv', 'w') as f:\n",
    "        writer = csv.writer(f, delimiter='|', lineterminator=\"\\n\")\n",
    "        writer.writerows(list)\n",
    "    return str(db) + \" saved into \" + db.name + '.csv'"
   ]
  },
  {
   "cell_type": "markdown",
   "metadata": {},
   "source": [
    "---\n",
    "#Execution\n",
    "\n",
    "###Assigning material incorporation paramter to each exchange in your LCI database:\n",
    "Runs through ecoinvent activities and assign material incorporation parameter (from 0 to 1) \n",
    "to each exchange based on the list of keywords in the 'avoid_activities' list of keywords.\n",
    "\n",
    "This **should be done only once** and the edited LCI database is saved in your broject. \n",
    "Takes about 15-30 min. "
   ]
  },
  {
   "cell_type": "code",
   "execution_count": null,
   "metadata": {},
   "outputs": [
    {
     "name": "stdout",
     "output_type": "stream",
     "text": [
      "Assigning material incorporation parameters to all exchanges in the ecoinvent-3.10-cutoff database: 40%\r"
     ]
    }
   ],
   "source": [
    "db_inc_filter(db, avoid_activities) "
   ]
  },
  {
   "cell_type": "markdown",
   "metadata": {},
   "source": [
    "This step could also be done manually in Activity Browser, if the corresponding additional column woudl be added:\n",
    "![AB](visuals/ab-incorporation.png)"
   ]
  },
  {
   "cell_type": "markdown",
   "metadata": {},
   "source": [
    "###Estimating the material footprint and material composition:\n",
    "Here, for we calculate product MF (material footprint) and MC (material composition).\n",
    "\n",
    "First, we find the corresponding production activity of the product of interest in our LCI database, and create a Brightway LCA object based on that product and its amount (funcional unit):"
   ]
  },
  {
   "cell_type": "code",
   "execution_count": null,
   "metadata": {},
   "outputs": [],
   "source": [
    "act = activity_by_name(product, db)\n",
    "lca = LCA_create(act, FU)\n",
    "lca.lci() #creates technosphere"
   ]
  },
  {
   "cell_type": "markdown",
   "metadata": {},
   "source": [
    "Then, we output the material footprint of each material of interest for our product.\n",
    "First, based on inventory vector and then based on supply array:"
   ]
  },
  {
   "cell_type": "code",
   "execution_count": null,
   "metadata": {},
   "outputs": [],
   "source": [
    "print(\"\\n>>> BEFORE filtering:\\n\")  \n",
    "\n",
    "print(f'\\u25A0 Material footprint, MF (based on inventory vector) in {FU} {act}:') \n",
    "materials_inv(BIO_MAT_LIST, lca)\n",
    "    \n",
    "print(\"\\u25A0 Material footprint, MF (based on supply array):\")\n",
    "materials_sup(materials_dict_cutoff310, lca) "
   ]
  },
  {
   "cell_type": "markdown",
   "metadata": {},
   "source": [
    "Then, we edit the technosphere matrix based on the *incorporation parameter* pre-assigned to exchanges in our LCI database:"
   ]
  },
  {
   "cell_type": "code",
   "execution_count": null,
   "metadata": {},
   "outputs": [],
   "source": [
    "lca_exclude_noninc(db, lca) \n",
    "lca.lci_calculation()"
   ]
  },
  {
   "cell_type": "markdown",
   "metadata": {},
   "source": [
    "Fianlly, we output the total material content of our product (first, based on inventory vector and then based on supply array):"
   ]
  },
  {
   "cell_type": "code",
   "execution_count": 17,
   "metadata": {},
   "outputs": [
    {
     "name": "stdout",
     "output_type": "stream",
     "text": [
      "\n",
      ">>> AFTER filtering:\n",
      "\n",
      "■ Material composition, MC (based on inventory vector) in 1 'computer production, laptop' (unit, GLO, None):\n",
      "Tantalum: 0.00019 kg OR 0.00604 %\n",
      "Aluminium: 0.48225 kg OR 15.30958 %\n",
      "Copper: 0.36106 kg OR 11.46236 %\n",
      "\n",
      "\n",
      "■ Material composition, MC (based on supply array):\n",
      "Copper : 0.31864 kg OR 10.11559 %\n",
      "Aluminium : 0.62168 kg OR 19.73588 %\n",
      "> Metals total : 0.94032 kg OR 29.85146 %\n"
     ]
    },
    {
     "data": {
      "text/plain": [
       "0"
      ]
     },
     "execution_count": 17,
     "metadata": {},
     "output_type": "execute_result"
    }
   ],
   "source": [
    "print(\"\\n>>> AFTER filtering:\\n\")\n",
    "    \n",
    "print(f'\\u25A0 Material composition, MC (based on inventory vector) in {FU} {act}:')\n",
    "materials_inv(BIO_MAT_LIST, lca)\n",
    "    \n",
    "print(\"\\u25A0 Material composition, MC (based on supply array):\")\n",
    "materials_sup(materials_dict_cutoff310, lca)"
   ]
  },
  {
   "cell_type": "markdown",
   "metadata": {},
   "source": [
    "In the result, we are able to accuratelly estimate the material composition of products:\n",
    "![Results](visuals/results.jpg)"
   ]
  },
  {
   "cell_type": "code",
   "execution_count": null,
   "metadata": {},
   "outputs": [],
   "source": []
  }
 ],
 "metadata": {
  "kernelspec": {
   "display_name": "Python [conda env:levon]",
   "language": "python",
   "name": "conda-env-levon-py"
  },
  "language_info": {
   "codemirror_mode": {
    "name": "ipython",
    "version": 3
   },
   "file_extension": ".py",
   "mimetype": "text/x-python",
   "name": "python",
   "nbconvert_exporter": "python",
   "pygments_lexer": "ipython3",
   "version": "3.11.10"
  }
 },
 "nbformat": 4,
 "nbformat_minor": 4
}
